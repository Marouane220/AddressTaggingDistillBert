{
 "cells": [
  {
   "cell_type": "code",
   "execution_count": null,
   "metadata": {
    "id": "-f_7uiDxFZLJ"
   },
   "outputs": [],
   "source": [
    "!pip install transformers datasets seqeval"
   ]
  },
  {
   "cell_type": "code",
   "execution_count": 2,
   "metadata": {
    "id": "Sb7gZ-TBFgpb"
   },
   "outputs": [],
   "source": [
    "import os\n",
    "import pickle\n",
    "\n",
    "import requests\n",
    "import torch\n",
    "import numpy as np"
   ]
  },
  {
   "cell_type": "code",
   "execution_count": 3,
   "metadata": {
    "id": "jb-xpS2yFls_"
   },
   "outputs": [],
   "source": [
    "np.random.seed(123)"
   ]
  },
  {
   "cell_type": "markdown",
   "metadata": {
    "id": "wDeUA4VlU2mQ"
   },
   "source": [
    "# Prepare Data"
   ]
  },
  {
   "cell_type": "code",
   "execution_count": 5,
   "metadata": {
    "id": "gxK_Kw88Fnzl"
   },
   "outputs": [],
   "source": [
    "def download_data(saving_dir, data_type):\n",
    "    \"\"\"\n",
    "    Function to download the dataset using data_type to specify if we want the train, valid or test.\n",
    "    \"\"\"\n",
    "\n",
    "    # hardcoded url to download the pickled dataset\n",
    "    root_url = \"https://dot-layer.github.io/blog-external-assets/train_rnn/{}.p\"\n",
    "\n",
    "    url = root_url.format(data_type)\n",
    "    r = requests.get(url)\n",
    "    os.makedirs(saving_dir, exist_ok=True)\n",
    "\n",
    "    open(os.path.join(saving_dir, f\"{data_type}.p\"), \"wb\").write(r.content)\n",
    "\n",
    "\n",
    "download_data(\"./data/\", \"train\")\n",
    "download_data(\"./data/\", \"valid\")\n",
    "download_data(\"./data/\", \"test\")"
   ]
  },
  {
   "cell_type": "code",
   "execution_count": 6,
   "metadata": {
    "id": "L42ew2MfFqKA"
   },
   "outputs": [],
   "source": [
    "# load the data\n",
    "train_data_ = pickle.load(open(\"./data/train.p\", \"rb\"))  # 728,789 examples\n",
    "valid_data_ = pickle.load(open(\"./data/valid.p\", \"rb\"))  # 182,198 examples\n",
    "test_data_ = pickle.load(open(\"./data/test.p\", \"rb\"))  # 100,000 examples"
   ]
  },
  {
   "cell_type": "code",
   "execution_count": 7,
   "metadata": {
    "colab": {
     "base_uri": "https://localhost:8080/"
    },
    "id": "HWYOMchyFtkK",
    "outputId": "ed1bbf85-602b-41b1-8f34-e695d3d5c7ab"
   },
   "outputs": [
    {
     "name": "stdout",
     "output_type": "stream",
     "text": [
      "nombre d'exemple Train =  2429\n",
      "nombre d'exemple Valid =  607\n",
      "nombre d'exemple Test =  333\n"
     ]
    }
   ],
   "source": [
    "#Reduce train, valid, test data\n",
    "import random\n",
    "\n",
    "devide_constant = 300\n",
    "\n",
    "train_data = random.choices(train_data_, k=len(train_data_)//devide_constant)\n",
    "valid_data = random.choices(valid_data_, k=len(valid_data_)//devide_constant)\n",
    "test_data = random.choices(test_data_, k=len(test_data_)//devide_constant)\n",
    "print('nombre d\\'exemple Train = ',len(train_data))\n",
    "print('nombre d\\'exemple Valid = ',len(valid_data))\n",
    "print('nombre d\\'exemple Test = ',len(test_data))"
   ]
  },
  {
   "cell_type": "code",
   "execution_count": 18,
   "metadata": {
    "id": "yPTxitfAGBBB"
   },
   "outputs": [],
   "source": [
    "def split_Xy(L):\n",
    "  X, y = [], []\n",
    "  for item in L:\n",
    "    X.append(item[0].split(' '))\n",
    "    y.append(item[1])\n",
    "  return X, y\n",
    "\n",
    "X_train, y_train = split_Xy(train_data)\n",
    "X_valid, y_valid = split_Xy(valid_data)\n",
    "X_test, y_test = split_Xy(test_data)"
   ]
  },
  {
   "cell_type": "code",
   "execution_count": 19,
   "metadata": {
    "colab": {
     "base_uri": "https://localhost:8080/"
    },
    "id": "eC3e_dSeGNYe",
    "outputId": "4c29fe7a-784e-4a30-ddbb-146dc3d94299"
   },
   "outputs": [
    {
     "data": {
      "text/plain": [
       "(['10', 'brant', 'ave', 'kingston', 'on', 'k7k', '4v1'],\n",
       " ['StreetNumber',\n",
       "  'StreetName',\n",
       "  'StreetName',\n",
       "  'Municipality',\n",
       "  'Province',\n",
       "  'PostalCode',\n",
       "  'PostalCode'])"
      ]
     },
     "execution_count": 19,
     "metadata": {},
     "output_type": "execute_result"
    }
   ],
   "source": [
    "X_train[0], y_train[0]"
   ]
  },
  {
   "cell_type": "code",
   "execution_count": 20,
   "metadata": {
    "id": "cLlZg36zGPNy"
   },
   "outputs": [],
   "source": [
    "label_list = ['StreetNumber', 'StreetName', 'Orientation', 'Unit', 'Municipality',\n",
    "              'Province', 'PostalCode', 'GeneralDelivery']\n",
    "\n",
    "tag2id = {tag: id for id, tag in enumerate(label_list)}\n",
    "id2tag = {id: tag for tag, id in tag2id.items()}"
   ]
  },
  {
   "cell_type": "code",
   "execution_count": 21,
   "metadata": {
    "colab": {
     "base_uri": "https://localhost:8080/",
     "height": 145,
     "referenced_widgets": [
      "0f0d0c3efbaf4b5f86b40bdd11e3b2d0",
      "1ee63bd92c244cbb826b4ec550529a31",
      "60935cebe67d45dc962ddffbb641d083",
      "e8369ca0a30843c499aa8461e8431c39",
      "403be23460e9485abeeb50659e9ad868",
      "644f6ad2df084da892975a2f739263ed",
      "b667a2be670f47bfa4c7c3f33998f806",
      "6ba7fd73493041afab9de86f9462f1d3",
      "13a3bdf22b444af9a1a2c2b02e7eb4b1",
      "f89ae77f79024010a4c2885a526170e5",
      "9179afd6fabf452abc5b2d918d944f31",
      "395eb478f1734f74969dae19680a6b1c",
      "1cbac291703b4bc59abae96f9084cb78",
      "5e28c5bf84b84ea59c8dc458fe723a9e",
      "4a0932929fc24ae48e5e6eeab1b9b9f2",
      "c60762cd934c490aa78b05d2a1c252a3",
      "b960ff282fb1417387d24cfbeeb6b9f4",
      "0beb15c459a44475833ba4ae08fc7d19",
      "5845cd642cf4433081efff7f209808d2",
      "c76f6c1cd95143dfaf5f42ffc144039e",
      "8f20de6b903f40afb518b96b65b40d8f",
      "74e212a436dd4414b2ae62cc3852d4f2",
      "98afd1d2afa44ea3a430cc246606ad4c",
      "54e39c1fe5b9428aa12e34b8565b8158",
      "05c976fae8a848bcb0637a7374490f20",
      "87765c6258d14e26ac9bfbe25a7647ab",
      "d95c52a42e7046b097754442b9ccffde",
      "c3b7a08ab3194acfa74ab12b72e02d8b",
      "9593cdbdb7ec4dfe9d960cbd7099c3fa",
      "ed7bd0b658b04582827ff4ee75bb1176",
      "cae951b46ac74967b889f589bfcc7f22",
      "7ae21a5a52504743ad27b41f39a5a4f1",
      "4c1610e9d94e4283bc5e463627b5736a",
      "bd095a3fce764a3ea20c6b0b250abad9",
      "24b5a54b0ab94ab7aba1d2cb870001d7",
      "9821f8dd5a664aeeaa6abd6c3c36ff45",
      "1d59e53a9ddd4bbe9ca6f37ca5a05996",
      "0c390d3d1b4b4b2196b894d935965c39",
      "0dec530599b340e7ad5bc23f3580e49d",
      "c8713ea280bd48cc9e5ecfc4c397f0bf",
      "6111ab477f514fe89992bcef9ebc8d4d",
      "1f96f58d0da24c49acd9ee6f30b3d272",
      "62b0164b14304a9495f07c17f47b7f50",
      "62492820c80a4a119e878ccbdc3f695f"
     ]
    },
    "id": "Nem_sr6MGvs4",
    "outputId": "eed8afd2-b501-4c85-abb0-480aec7a66b6"
   },
   "outputs": [
    {
     "data": {
      "application/vnd.jupyter.widget-view+json": {
       "model_id": "0f0d0c3efbaf4b5f86b40bdd11e3b2d0",
       "version_major": 2,
       "version_minor": 0
      },
      "text/plain": [
       "Downloading:   0%|          | 0.00/29.0 [00:00<?, ?B/s]"
      ]
     },
     "metadata": {},
     "output_type": "display_data"
    },
    {
     "data": {
      "application/vnd.jupyter.widget-view+json": {
       "model_id": "395eb478f1734f74969dae19680a6b1c",
       "version_major": 2,
       "version_minor": 0
      },
      "text/plain": [
       "Downloading:   0%|          | 0.00/213k [00:00<?, ?B/s]"
      ]
     },
     "metadata": {},
     "output_type": "display_data"
    },
    {
     "data": {
      "application/vnd.jupyter.widget-view+json": {
       "model_id": "98afd1d2afa44ea3a430cc246606ad4c",
       "version_major": 2,
       "version_minor": 0
      },
      "text/plain": [
       "Downloading:   0%|          | 0.00/436k [00:00<?, ?B/s]"
      ]
     },
     "metadata": {},
     "output_type": "display_data"
    },
    {
     "data": {
      "application/vnd.jupyter.widget-view+json": {
       "model_id": "bd095a3fce764a3ea20c6b0b250abad9",
       "version_major": 2,
       "version_minor": 0
      },
      "text/plain": [
       "Downloading:   0%|          | 0.00/411 [00:00<?, ?B/s]"
      ]
     },
     "metadata": {},
     "output_type": "display_data"
    }
   ],
   "source": [
    "from transformers import DistilBertTokenizerFast\n",
    "\n",
    "tokenizer = DistilBertTokenizerFast.from_pretrained('distilbert-base-cased')\n",
    "train_encodings = tokenizer(X_train, is_split_into_words=True, return_offsets_mapping=True, padding=True, truncation=True)\n",
    "val_encodings = tokenizer(X_valid, is_split_into_words=True, return_offsets_mapping=True, padding=True, truncation=True)\n",
    "test_encodings = tokenizer(X_test, is_split_into_words=True, return_offsets_mapping=True, padding=True, truncation=True)"
   ]
  },
  {
   "cell_type": "code",
   "execution_count": null,
   "metadata": {
    "id": "nBPiuM8WKsFt"
   },
   "outputs": [],
   "source": []
  },
  {
   "cell_type": "code",
   "execution_count": null,
   "metadata": {
    "id": "-oLoXdqyGzFO"
   },
   "outputs": [],
   "source": [
    "def encode_tags(encodings, tags):\n",
    "    labels = [[tag2id[tag] for tag in doc] for doc in tags]\n",
    "    encoded_labels = []\n",
    "    for doc_labels, doc_offset in zip(labels, encodings.offset_mapping):\n",
    "        # create an empty array of -100\n",
    "        doc_enc_labels = np.ones(len(doc_offset),dtype=int) * -100\n",
    "        arr_offset = np.array(doc_offset)\n",
    "\n",
    "        # set labels whose first offset position is 0 and the second is not 0\n",
    "        doc_enc_labels[(arr_offset[:,0] == 0) & (arr_offset[:,1] != 0)] = doc_labels\n",
    "        encoded_labels.append(doc_enc_labels.tolist())\n",
    "\n",
    "    return encoded_labels\n",
    "\n",
    "train_labels = encode_tags(train_encodings, y_train)\n",
    "val_labels = encode_tags(val_encodings, y_valid)\n",
    "test_labels = encode_tags(test_encodings, y_test)"
   ]
  },
  {
   "cell_type": "code",
   "execution_count": null,
   "metadata": {
    "id": "Zftc8SmUHGSf"
   },
   "outputs": [],
   "source": [
    "class AddressDataset(torch.utils.data.Dataset):\n",
    "    def __init__(self, encodings, labels):\n",
    "        self.encodings = encodings\n",
    "        self.labels = labels\n",
    "\n",
    "    def __getitem__(self, idx):\n",
    "        item = {key: torch.tensor(val[idx]) for key, val in self.encodings.items()}\n",
    "        item['labels'] = torch.tensor(self.labels[idx])\n",
    "        return item\n",
    "\n",
    "    def __len__(self):\n",
    "        return len(self.labels)\n",
    "\n",
    "train_encodings.pop(\"offset_mapping\") # we don't want to pass this to the model\n",
    "val_encodings.pop(\"offset_mapping\")\n",
    "train_dataset = AddressDataset(train_encodings, train_labels)\n",
    "val_dataset = AddressDataset(val_encodings, val_labels)\n",
    "test_dataset = AddressDataset(test_encodings, test_labels)"
   ]
  },
  {
   "cell_type": "markdown",
   "metadata": {
    "id": "Z0gNZCGoUvbQ"
   },
   "source": [
    "# Fine Tuning"
   ]
  },
  {
   "cell_type": "code",
   "execution_count": null,
   "metadata": {
    "colab": {
     "base_uri": "https://localhost:8080/",
     "height": 158,
     "referenced_widgets": [
      "b6407771f446473e8b8fe946874a7115",
      "8c810c1d771a4510b4231c61ccaa97b3",
      "c9f6d56fb67f4bfeb906b594ebc52c9e",
      "86992c692ae4429e99c59ca0bc3d7a09",
      "2beced093e944009a0e4b036551a53f3",
      "64adf08b5a154af7bd53b4980952da78",
      "fcfb28441de7496ca51bf301902ffabb",
      "1a2246a23f1f42a1be52f6b03b0f1544",
      "db4c470e9f774727b4520cd938ae763a",
      "fbce219a34a04e3eb7614e6bd40273ca",
      "44b152e4b513465c9374f7f65cfe165e"
     ]
    },
    "id": "KlU2f6DYHLGI",
    "outputId": "d2f6330a-90da-4570-c8ba-8be8f3b65f48"
   },
   "outputs": [
    {
     "data": {
      "application/vnd.jupyter.widget-view+json": {
       "model_id": "b6407771f446473e8b8fe946874a7115",
       "version_major": 2,
       "version_minor": 0
      },
      "text/plain": [
       "Downloading:   0%|          | 0.00/263M [00:00<?, ?B/s]"
      ]
     },
     "metadata": {},
     "output_type": "display_data"
    },
    {
     "name": "stderr",
     "output_type": "stream",
     "text": [
      "Some weights of the model checkpoint at distilbert-base-cased were not used when initializing DistilBertForTokenClassification: ['vocab_projector.weight', 'vocab_transform.bias', 'vocab_projector.bias', 'vocab_layer_norm.weight', 'vocab_transform.weight', 'vocab_layer_norm.bias']\n",
      "- This IS expected if you are initializing DistilBertForTokenClassification from the checkpoint of a model trained on another task or with another architecture (e.g. initializing a BertForSequenceClassification model from a BertForPreTraining model).\n",
      "- This IS NOT expected if you are initializing DistilBertForTokenClassification from the checkpoint of a model that you expect to be exactly identical (initializing a BertForSequenceClassification model from a BertForSequenceClassification model).\n",
      "Some weights of DistilBertForTokenClassification were not initialized from the model checkpoint at distilbert-base-cased and are newly initialized: ['classifier.bias', 'classifier.weight']\n",
      "You should probably TRAIN this model on a down-stream task to be able to use it for predictions and inference.\n"
     ]
    }
   ],
   "source": [
    "from transformers import DistilBertForTokenClassification\n",
    "model = DistilBertForTokenClassification.from_pretrained('distilbert-base-cased', num_labels=len(label_list))"
   ]
  },
  {
   "cell_type": "code",
   "execution_count": null,
   "metadata": {
    "colab": {
     "base_uri": "https://localhost:8080/"
    },
    "id": "84XizQB_HNnI",
    "outputId": "8efbfd9e-881d-4ab0-9e17-c1cac2445304"
   },
   "outputs": [
    {
     "name": "stderr",
     "output_type": "stream",
     "text": [
      "/usr/local/lib/python3.8/dist-packages/torch/cuda/__init__.py:497: UserWarning: Can't initialize NVML\n",
      "  warnings.warn(\"Can't initialize NVML\")\n"
     ]
    }
   ],
   "source": [
    "from transformers import DistilBertForSequenceClassification, Trainer, TrainingArguments\n",
    "\n",
    "batch_size = 64\n",
    "\n",
    "training_args = TrainingArguments(\n",
    "    output_dir='./results',          # output directory\n",
    "    evaluation_strategy = \"epoch\",\n",
    "    num_train_epochs=5,              # total number of training epochs\n",
    "    per_device_train_batch_size=batch_size,  # batch size per device during training\n",
    "    per_device_eval_batch_size=batch_size,   # batch size for evaluation\n",
    "    warmup_steps=500,                # number of warmup steps for learning rate scheduler\n",
    "    weight_decay=0.01,               # strength of weight decay\n",
    "    logging_dir='./logs',            # directory for storing logs\n",
    "    logging_steps=10,\n",
    ")"
   ]
  },
  {
   "cell_type": "code",
   "execution_count": null,
   "metadata": {
    "id": "UMg5hHJ28TqM"
   },
   "outputs": [],
   "source": [
    "from transformers import DataCollatorForTokenClassification\n",
    "\n",
    "data_collator = DataCollatorForTokenClassification(tokenizer)"
   ]
  },
  {
   "cell_type": "code",
   "execution_count": null,
   "metadata": {
    "id": "y2IA2dSlHRFo"
   },
   "outputs": [],
   "source": [
    "trainer = Trainer(\n",
    "    model=model,                         # the instantiated 🤗 Transformers model to be trained\n",
    "    args=training_args,                  # training arguments, defined above\n",
    "    train_dataset=train_dataset,         # training dataset\n",
    "    eval_dataset=val_dataset,             # evaluation dataset\n",
    "    data_collator=data_collator,\n",
    "    tokenizer=tokenizer\n",
    ")"
   ]
  },
  {
   "cell_type": "code",
   "execution_count": null,
   "metadata": {
    "colab": {
     "base_uri": "https://localhost:8080/",
     "height": 859
    },
    "id": "GRqa_BkqHS82",
    "outputId": "b5a5e0a9-24fd-4d24-bc68-9e54b44199ea"
   },
   "outputs": [
    {
     "name": "stderr",
     "output_type": "stream",
     "text": [
      "/usr/local/lib/python3.8/dist-packages/transformers/optimization.py:306: FutureWarning: This implementation of AdamW is deprecated and will be removed in a future version. Use the PyTorch implementation torch.optim.AdamW instead, or set `no_deprecation_warning=True` to disable this warning\n",
      "  warnings.warn(\n",
      "***** Running training *****\n",
      "  Num examples = 2429\n",
      "  Num Epochs = 5\n",
      "  Instantaneous batch size per device = 64\n",
      "  Total train batch size (w. parallel, distributed & accumulation) = 64\n",
      "  Gradient Accumulation steps = 1\n",
      "  Total optimization steps = 190\n",
      "  Number of trainable parameters = 65197064\n",
      "You're using a DistilBertTokenizerFast tokenizer. Please note that with a fast tokenizer, using the `__call__` method is faster than using a method to encode the text followed by a call to the `pad` method to get a padded encoding.\n"
     ]
    },
    {
     "data": {
      "text/html": [
       "\n",
       "    <div>\n",
       "      \n",
       "      <progress value='190' max='190' style='width:300px; height:20px; vertical-align: middle;'></progress>\n",
       "      [190/190 33:19, Epoch 5/5]\n",
       "    </div>\n",
       "    <table border=\"1\" class=\"dataframe\">\n",
       "  <thead>\n",
       " <tr style=\"text-align: left;\">\n",
       "      <th>Epoch</th>\n",
       "      <th>Training Loss</th>\n",
       "      <th>Validation Loss</th>\n",
       "    </tr>\n",
       "  </thead>\n",
       "  <tbody>\n",
       "    <tr>\n",
       "      <td>1</td>\n",
       "      <td>1.908000</td>\n",
       "      <td>1.727550</td>\n",
       "    </tr>\n",
       "    <tr>\n",
       "      <td>2</td>\n",
       "      <td>0.929900</td>\n",
       "      <td>0.497797</td>\n",
       "    </tr>\n",
       "    <tr>\n",
       "      <td>3</td>\n",
       "      <td>0.101800</td>\n",
       "      <td>0.053808</td>\n",
       "    </tr>\n",
       "    <tr>\n",
       "      <td>4</td>\n",
       "      <td>0.023700</td>\n",
       "      <td>0.025667</td>\n",
       "    </tr>\n",
       "    <tr>\n",
       "      <td>5</td>\n",
       "      <td>0.020300</td>\n",
       "      <td>0.023116</td>\n",
       "    </tr>\n",
       "  </tbody>\n",
       "</table><p>"
      ],
      "text/plain": [
       "<IPython.core.display.HTML object>"
      ]
     },
     "metadata": {},
     "output_type": "display_data"
    },
    {
     "name": "stderr",
     "output_type": "stream",
     "text": [
      "***** Running Evaluation *****\n",
      "  Num examples = 607\n",
      "  Batch size = 64\n",
      "***** Running Evaluation *****\n",
      "  Num examples = 607\n",
      "  Batch size = 64\n",
      "***** Running Evaluation *****\n",
      "  Num examples = 607\n",
      "  Batch size = 64\n",
      "***** Running Evaluation *****\n",
      "  Num examples = 607\n",
      "  Batch size = 64\n",
      "***** Running Evaluation *****\n",
      "  Num examples = 607\n",
      "  Batch size = 64\n",
      "\n",
      "\n",
      "Training completed. Do not forget to share your model on huggingface.co/models =)\n",
      "\n",
      "\n"
     ]
    },
    {
     "data": {
      "text/plain": [
       "TrainOutput(global_step=190, training_loss=0.683786163361449, metrics={'train_runtime': 2009.2628, 'train_samples_per_second': 6.045, 'train_steps_per_second': 0.095, 'total_flos': 105383667093600.0, 'train_loss': 0.683786163361449, 'epoch': 5.0})"
      ]
     },
     "execution_count": 20,
     "metadata": {},
     "output_type": "execute_result"
    }
   ],
   "source": [
    "trainer.train()"
   ]
  },
  {
   "cell_type": "markdown",
   "metadata": {
    "id": "LQ7cQTcjUUxI"
   },
   "source": [
    "# Evaluation"
   ]
  },
  {
   "cell_type": "code",
   "execution_count": null,
   "metadata": {
    "colab": {
     "base_uri": "https://localhost:8080/",
     "height": 105,
     "referenced_widgets": [
      "f8bf2cab97a247dc8804d2a071b26532",
      "7bdd5df36d5741f2b0f336f7f4695622",
      "d30f058aa27a4203ace2ca01f03172e4",
      "e6ac293833fd4f81a7114c76b9707c1b",
      "c284ed0f608e459b9dac25464244725c",
      "ef527cbb0d0c448397c64d67d6b9f4fd",
      "7697471fbe1b48478466050e2db5368a",
      "1a2a6efe52db442c8ac89f7ec8cdf6eb",
      "4609c5565d9c426b873e58f7f513a64f",
      "3bcb62f9402b4a029c0eb9cc38659ab1",
      "ffccb9b97da94760bff32364fee3ddba"
     ]
    },
    "id": "0FWfsIIR9yvo",
    "outputId": "08e792eb-c798-4df1-d0ba-34b3a2afd974"
   },
   "outputs": [
    {
     "name": "stderr",
     "output_type": "stream",
     "text": [
      "<ipython-input-21-edef154daec7>:3: FutureWarning: load_metric is deprecated and will be removed in the next major version of datasets. Use 'evaluate.load' instead, from the new library 🤗 Evaluate: https://huggingface.co/docs/evaluate\n",
      "  metric = load_metric(\"seqeval\")\n"
     ]
    },
    {
     "data": {
      "application/vnd.jupyter.widget-view+json": {
       "model_id": "f8bf2cab97a247dc8804d2a071b26532",
       "version_major": 2,
       "version_minor": 0
      },
      "text/plain": [
       "Downloading builder script:   0%|          | 0.00/2.47k [00:00<?, ?B/s]"
      ]
     },
     "metadata": {},
     "output_type": "display_data"
    }
   ],
   "source": [
    "from datasets import load_metric\n",
    "\n",
    "metric = load_metric(\"seqeval\")"
   ]
  },
  {
   "cell_type": "code",
   "execution_count": null,
   "metadata": {
    "colab": {
     "base_uri": "https://localhost:8080/",
     "height": 108
    },
    "id": "TF8eiDA9_yNY",
    "outputId": "65a61b8e-3751-4dd1-95fd-d4514ea45356"
   },
   "outputs": [
    {
     "name": "stderr",
     "output_type": "stream",
     "text": [
      "***** Running Prediction *****\n",
      "  Num examples = 333\n",
      "  Batch size = 64\n",
      "The following columns in the test set don't have a corresponding argument in `DistilBertForTokenClassification.forward` and have been ignored: offset_mapping. If offset_mapping are not expected by `DistilBertForTokenClassification.forward`,  you can safely ignore this message.\n"
     ]
    },
    {
     "data": {
      "text/html": [],
      "text/plain": [
       "<IPython.core.display.HTML object>"
      ]
     },
     "metadata": {},
     "output_type": "display_data"
    }
   ],
   "source": [
    "predictions, labels, _ = trainer.predict(test_dataset)\n",
    "predictions = np.argmax(predictions, axis=2)\n",
    "\n",
    "# Remove ignored index (special tokens)\n",
    "true_predictions = [\n",
    "    [label_list[p] for (p, l) in zip(prediction, label) if l != -100]\n",
    "    for prediction, label in zip(predictions, labels)\n",
    "]\n",
    "true_labels = [\n",
    "    [label_list[l] for (p, l) in zip(prediction, label) if l != -100]\n",
    "    for prediction, label in zip(predictions, labels)\n",
    "]"
   ]
  },
  {
   "cell_type": "code",
   "execution_count": null,
   "metadata": {
    "colab": {
     "base_uri": "https://localhost:8080/"
    },
    "id": "YuobiVu9_5f1",
    "outputId": "9da6afb5-7f98-4e5d-fe12-d462bf283df3"
   },
   "outputs": [
    {
     "name": "stdout",
     "output_type": "stream",
     "text": [
      "Quelques exemples où le modèle tort sur les données de test: \n",
      "\n",
      "Adresse:  ['1035', 'moncton', 'avenue', 'apt', 'r', 'kamloops', 'british', 'columbia', 'v2b', '1s7'] \n",
      "\n",
      " \t True tag:  ['StreetNumber', 'StreetName', 'StreetName', 'Unit', 'Unit', 'Municipality', 'Province', 'Province', 'PostalCode', 'PostalCode'] \n",
      "\n",
      " \t pred tag:  ['StreetNumber', 'StreetName', 'StreetName', 'StreetName', 'StreetName', 'Municipality', 'Province', 'Province', 'PostalCode', 'PostalCode'] \n",
      "\n",
      "Adresse:  ['254', 'willow', 'street', 'lower', 'level', 'kamloops', 'b', 'c', 'v2b', '4c9'] \n",
      "\n",
      " \t True tag:  ['StreetNumber', 'StreetName', 'StreetName', 'Unit', 'Unit', 'Municipality', 'Province', 'Province', 'PostalCode', 'PostalCode'] \n",
      "\n",
      " \t pred tag:  ['StreetNumber', 'StreetName', 'StreetName', 'StreetName', 'Unit', 'Municipality', 'Province', 'Province', 'PostalCode', 'PostalCode'] \n",
      "\n",
      "Adresse:  ['107', 'r', 'de', 'lorimier', '4e', 'étage', 'app', '401', 'gatineau', 'qc', 'j8y', '3e7'] \n",
      "\n",
      " \t True tag:  ['StreetNumber', 'StreetName', 'StreetName', 'StreetName', 'Unit', 'Unit', 'Unit', 'Unit', 'Municipality', 'Province', 'PostalCode', 'PostalCode'] \n",
      "\n",
      " \t pred tag:  ['StreetNumber', 'StreetName', 'StreetName', 'StreetName', 'StreetName', 'Unit', 'Unit', 'Unit', 'Municipality', 'Province', 'PostalCode', 'PostalCode'] \n",
      "\n",
      "Adresse:  ['380', 'bovaird', 'drive', 'east', 'brampton', 'on', 'l6z2s6'] \n",
      "\n",
      " \t True tag:  ['StreetNumber', 'StreetName', 'StreetName', 'StreetName', 'Municipality', 'Province', 'PostalCode'] \n",
      "\n",
      " \t pred tag:  ['StreetNumber', 'StreetName', 'StreetName', 'Municipality', 'Municipality', 'Province', 'PostalCode'] \n",
      "\n",
      "Adresse:  ['470', 'rue', 'du', 'pont', 'mt', 'laurier', 'québec', 'j9l1s5'] \n",
      "\n",
      " \t True tag:  ['StreetNumber', 'StreetName', 'StreetName', 'StreetName', 'Municipality', 'Municipality', 'Province', 'PostalCode'] \n",
      "\n",
      " \t pred tag:  ['StreetNumber', 'StreetName', 'StreetName', 'StreetName', 'StreetName', 'Municipality', 'Province', 'PostalCode'] \n",
      "\n",
      "Adresse:  ['1516', 'mufliers', 'st', 'bruno', 'de', 'montarville', 'qc', 'j3z0b7'] \n",
      "\n",
      " \t True tag:  ['StreetNumber', 'StreetName', 'Municipality', 'Municipality', 'Municipality', 'Municipality', 'Province', 'PostalCode'] \n",
      "\n",
      " \t pred tag:  ['StreetNumber', 'StreetName', 'StreetName', 'Municipality', 'Municipality', 'Municipality', 'Province', 'PostalCode'] \n",
      "\n"
     ]
    }
   ],
   "source": [
    "print(\"Quelques exemples où le modèle tort sur les données de test: \\n\")\n",
    "for i in range(0, len(X_test)):\n",
    "  if true_labels[i] != true_predictions[i]:\n",
    "    print(\"Adresse: \", X_test[i], '\\n')\n",
    "    print(\" \\t True tag: \", true_labels[i], '\\n')\n",
    "    print(\" \\t pred tag: \", true_predictions[i], '\\n')"
   ]
  },
  {
   "cell_type": "code",
   "execution_count": null,
   "metadata": {
    "colab": {
     "base_uri": "https://localhost:8080/"
    },
    "id": "bZqpsHDC9BTb",
    "outputId": "fa52d7a5-afe2-417b-a2de-aba4025125af"
   },
   "outputs": [
    {
     "name": "stderr",
     "output_type": "stream",
     "text": [
      "/usr/local/lib/python3.8/dist-packages/seqeval/metrics/sequence_labeling.py:171: UserWarning: StreetNumber seems not to be NE tag.\n",
      "  warnings.warn('{} seems not to be NE tag.'.format(chunk))\n",
      "/usr/local/lib/python3.8/dist-packages/seqeval/metrics/sequence_labeling.py:171: UserWarning: StreetName seems not to be NE tag.\n",
      "  warnings.warn('{} seems not to be NE tag.'.format(chunk))\n",
      "/usr/local/lib/python3.8/dist-packages/seqeval/metrics/sequence_labeling.py:171: UserWarning: Municipality seems not to be NE tag.\n",
      "  warnings.warn('{} seems not to be NE tag.'.format(chunk))\n",
      "/usr/local/lib/python3.8/dist-packages/seqeval/metrics/sequence_labeling.py:171: UserWarning: Province seems not to be NE tag.\n",
      "  warnings.warn('{} seems not to be NE tag.'.format(chunk))\n",
      "/usr/local/lib/python3.8/dist-packages/seqeval/metrics/sequence_labeling.py:171: UserWarning: PostalCode seems not to be NE tag.\n",
      "  warnings.warn('{} seems not to be NE tag.'.format(chunk))\n",
      "/usr/local/lib/python3.8/dist-packages/seqeval/metrics/sequence_labeling.py:171: UserWarning: Unit seems not to be NE tag.\n",
      "  warnings.warn('{} seems not to be NE tag.'.format(chunk))\n"
     ]
    }
   ],
   "source": [
    "results = metric.compute(predictions=true_predictions, references=true_labels)"
   ]
  },
  {
   "cell_type": "code",
   "execution_count": null,
   "metadata": {
    "colab": {
     "base_uri": "https://localhost:8080/"
    },
    "id": "rGHD5ChGJMSY",
    "outputId": "bd5252a1-d699-46b3-b9c6-44c2de0ca92d"
   },
   "outputs": [
    {
     "name": "stdout",
     "output_type": "stream",
     "text": [
      " Score sur la classe Unit \n",
      " \t {'precision': 0.9310344827586207, 'recall': 0.9, 'f1': 0.9152542372881356, 'number': 30}\n",
      "\n",
      " Score sur la classe StreetNumber \n",
      " \t {'precision': 1.0, 'recall': 1.0, 'f1': 1.0, 'number': 312}\n",
      "\n",
      " Score sur la classe PostalCode \n",
      " \t {'precision': 1.0, 'recall': 1.0, 'f1': 1.0, 'number': 333}\n",
      "\n",
      " Score sur la classe Province \n",
      " \t {'precision': 1.0, 'recall': 1.0, 'f1': 1.0, 'number': 333}\n",
      "\n",
      " Score sur la classe StreetName \n",
      " \t {'precision': 0.9917808219178083, 'recall': 0.9986206896551724, 'f1': 0.995189003436426, 'number': 725}\n",
      "\n",
      " Score sur la classe Municipality \n",
      " \t {'precision': 0.990990990990991, 'recall': 0.990990990990991, 'f1': 0.990990990990991, 'number': 333}\n",
      "\n",
      " ********************* \n",
      "\n",
      " overall PRECISION sur les données de test \t 0.9946859903381643\n",
      "\n",
      " overall RECALL sur les données de test \t 0.9966118102613747\n",
      "\n",
      " overall ACCURACY sur les données de test \t 0.9971590909090909\n"
     ]
    }
   ],
   "source": [
    "print(' Score sur la classe Unit \\n \\t', results['nit'])\n",
    "print('\\n Score sur la classe StreetNumber \\n \\t', results['treetNumber'])\n",
    "print('\\n Score sur la classe PostalCode \\n \\t', results['ostalCode'])\n",
    "print('\\n Score sur la classe Province \\n \\t', results['rovince'])\n",
    "print('\\n Score sur la classe StreetName \\n \\t', results['treetName'])\n",
    "print('\\n Score sur la classe Municipality \\n \\t', results['unicipality'])\n",
    "print('\\n ********************* ')\n",
    "print('\\n overall PRECISION sur les données de test \\t', results['overall_precision'])\n",
    "print('\\n overall RECALL sur les données de test \\t', results['overall_recall'])\n",
    "print('\\n overall ACCURACY sur les données de test \\t', results['overall_accuracy'])"
   ]
  },
  {
   "cell_type": "markdown",
   "metadata": {
    "id": "rxUDUC7OIAp1"
   },
   "source": [
    "# Bi-LSTM baseline"
   ]
  },
  {
   "cell_type": "code",
   "execution_count": null,
   "metadata": {
    "id": "riVRfKVcK32W"
   },
   "outputs": [],
   "source": [
    "# You need the dev version since we need a not-release feature as of January 28, 2022.\n",
    "# Will remove comments when the feature is released.\n",
    "%pip install --upgrade git+https://github.com/GRAAL-Research/poutyne.git@dev #install poutyne\n",
    "%pip install --upgrade colorama #install colorama\n",
    "%pip install --upgrade pymagnitude-light #install pymagnitude-light\n",
    "%matplotlib inline\n",
    "\n",
    "import gzip\n",
    "import os\n",
    "import pickle\n",
    "import shutil\n",
    "import warnings\n",
    "\n",
    "import requests\n",
    "import torch\n",
    "import torch.nn as nn\n",
    "import torch.optim as optim\n",
    "from poutyne import set_seeds\n",
    "from poutyne.framework import Experiment\n",
    "from pymagnitudelight import Magnitude\n",
    "from torch.nn.functional import cross_entropy\n",
    "from torch.nn.utils.rnn import pad_packed_sequence, pack_padded_sequence, pad_sequence\n",
    "from torch.utils.data import DataLoader"
   ]
  },
  {
   "cell_type": "code",
   "execution_count": 9,
   "metadata": {
    "id": "TEIHCbQVINEJ"
   },
   "outputs": [],
   "source": [
    "dimension = 300\n",
    "num_layer = 1\n",
    "bidirectional = False\n",
    "\n",
    "lstm_network = nn.LSTM(\n",
    "    input_size=dimension,\n",
    "    hidden_size=dimension,\n",
    "    num_layers=num_layer,\n",
    "    bidirectional=bidirectional,\n",
    "    batch_first=True,\n",
    ")"
   ]
  },
  {
   "cell_type": "code",
   "execution_count": 10,
   "metadata": {
    "id": "EHBsrygHIWd_"
   },
   "outputs": [],
   "source": [
    "input_dim = dimension  # the output of the LSTM\n",
    "tag_dimension = 8\n",
    "\n",
    "fully_connected_network = nn.Linear(input_dim, tag_dimension)"
   ]
  },
  {
   "cell_type": "code",
   "execution_count": 11,
   "metadata": {
    "colab": {
     "base_uri": "https://localhost:8080/"
    },
    "id": "oyqN_FDFIer3",
    "outputId": "b3934ae3-c325-4db0-ef62-055e6054a3a6"
   },
   "outputs": [
    {
     "name": "stderr",
     "output_type": "stream",
     "text": [
      "<ipython-input-11-035f21d92b93>:22: UserWarning: The fastText pre-trained word embeddings will be download in magnitude format (2.3 GO), this process will take several minutes.\n",
      "  warnings.warn(\n"
     ]
    },
    {
     "name": "stdout",
     "output_type": "stream",
     "text": [
      "Downloading the model.\n",
      "Unzip the model.\n"
     ]
    }
   ],
   "source": [
    "def download_from_url(model: str, saving_dir: str, extension: str):\n",
    "    \"\"\"\n",
    "    Simple function to download the content of a file from a distant repository.\n",
    "    \"\"\"\n",
    "    print(\"Downloading the model.\")\n",
    "    model_url = \"https://graal.ift.ulaval.ca/public/deepparse/{}.\" + extension\n",
    "    url = model_url.format(model)\n",
    "    r = requests.get(url)\n",
    "\n",
    "    os.makedirs(saving_dir, exist_ok=True)\n",
    "    open(os.path.join(saving_dir, f\"{model}.{extension}\"), \"wb\").write(r.content)\n",
    "\n",
    "\n",
    "def download_fasttext_magnitude_embeddings(saving_dir):\n",
    "    \"\"\"\n",
    "    Function to download the magnitude pre-trained fastText model.\n",
    "    \"\"\"\n",
    "    model = \"fasttext\"\n",
    "    extension = \"magnitude\"\n",
    "    file_name = os.path.join(saving_dir, f\"{model}.{extension}\")\n",
    "    if not os.path.isfile(file_name):\n",
    "        warnings.warn(\n",
    "            \"The fastText pre-trained word embeddings will be download in magnitude format (2.3 GO), \"\n",
    "            \"this process will take several minutes.\"\n",
    "        )\n",
    "        extension = extension + \".gz\"\n",
    "        download_from_url(model=model, saving_dir=saving_dir, extension=extension)\n",
    "        gz_file_name = file_name + \".gz\"\n",
    "        print(\"Unzip the model.\")\n",
    "        with gzip.open(os.path.join(saving_dir, gz_file_name), \"rb\") as f:\n",
    "            with open(os.path.join(saving_dir, file_name), \"wb\") as f_out:\n",
    "                shutil.copyfileobj(f, f_out)\n",
    "        os.remove(os.path.join(saving_dir, gz_file_name))\n",
    "    return file_name\n",
    "\n",
    "\n",
    "class EmbeddingVectorizer:\n",
    "    def __init__(self, path=\"./\"):\n",
    "        \"\"\"\n",
    "        Embedding vectorizer\n",
    "        \"\"\"\n",
    "        file_name = download_fasttext_magnitude_embeddings(saving_dir=path)\n",
    "        self.embedding_model = Magnitude(file_name)\n",
    "\n",
    "    def __call__(self, address):\n",
    "        \"\"\"\n",
    "        Convert address to embedding vectors\n",
    "        :param address: The address to convert\n",
    "        :return: The embeddings vectors\n",
    "        \"\"\"\n",
    "        embeddings = []\n",
    "        for word in address.split():\n",
    "            embeddings.append(self.embedding_model.query(word))\n",
    "        return embeddings\n",
    "\n",
    "\n",
    "embedding_vectorizer = EmbeddingVectorizer()"
   ]
  },
  {
   "cell_type": "code",
   "execution_count": 12,
   "metadata": {
    "id": "eFxFzRbEJF_t"
   },
   "outputs": [],
   "source": [
    "class DatasetBucket:\n",
    "    def __init__(self, data, embedding_vectorizer):\n",
    "        self.data = data\n",
    "        self.embedding_vectorizer = embedding_vectorizer\n",
    "        self.tags_set = {\n",
    "            \"StreetNumber\": 0,\n",
    "            \"StreetName\": 1,\n",
    "            \"Unit\": 2,\n",
    "            \"Municipality\": 3,\n",
    "            \"Province\": 4,\n",
    "            \"PostalCode\": 5,\n",
    "            \"Orientation\": 6,\n",
    "            \"GeneralDelivery\": 7,\n",
    "        }\n",
    "\n",
    "    def __len__(self):\n",
    "        return len(self.data)\n",
    "\n",
    "    def __getitem__(self, item):  # We vectorize when data is asked\n",
    "        data = self.data[item]\n",
    "        return self._item_vectorizing(data)\n",
    "\n",
    "    def _item_vectorizing(self, item):\n",
    "        address = item[0]\n",
    "        address_vector = self.embedding_vectorizer(address)\n",
    "\n",
    "        tags = item[1]\n",
    "        idx_tags = self._convert_tags_to_idx(tags)\n",
    "\n",
    "        return address_vector, idx_tags\n",
    "\n",
    "    def _convert_tags_to_idx(self, tags):\n",
    "        idx_tags = []\n",
    "        for tag in tags:\n",
    "            idx_tags.append(self.tags_set[tag])\n",
    "        return idx_tags\n",
    "\n",
    "\n",
    "train_dataset_vectorizer = DatasetBucket(train_data, embedding_vectorizer)\n",
    "valid_dataset_vectorizer = DatasetBucket(valid_data, embedding_vectorizer)\n",
    "test_dataset_vectorizer = DatasetBucket(test_data, embedding_vectorizer)"
   ]
  },
  {
   "cell_type": "code",
   "execution_count": 13,
   "metadata": {
    "id": "0qxw7tVeJKdh"
   },
   "outputs": [],
   "source": [
    "address, tag = train_dataset_vectorizer[0]  # Unpack the first tuple"
   ]
  },
  {
   "cell_type": "code",
   "execution_count": 14,
   "metadata": {
    "colab": {
     "base_uri": "https://localhost:8080/"
    },
    "id": "-JJM95xVJeGQ",
    "outputId": "0bbb7281-9fc5-4eff-fc41-c78fd42ebaa6"
   },
   "outputs": [
    {
     "name": "stdout",
     "output_type": "stream",
     "text": [
      "Tag is now a list of integers : [0, 1, 1, 1, 3, 3, 4, 5]\n"
     ]
    }
   ],
   "source": [
    "print(f\"Tag is now a list of integers : {tag}\")"
   ]
  },
  {
   "cell_type": "code",
   "execution_count": 24,
   "metadata": {
    "id": "9ZSDH474Msfx"
   },
   "outputs": [],
   "source": [
    "batch_size = 64 # meme que transformer\n",
    "lr = 0.1"
   ]
  },
  {
   "cell_type": "code",
   "execution_count": 16,
   "metadata": {
    "id": "0Ifj25GQJjAx"
   },
   "outputs": [],
   "source": [
    "def pad_collate_fn(batch):\n",
    "    \"\"\"\n",
    "    The collate_fn that can add padding to the sequences so all can have\n",
    "    the same length as the longest one.\n",
    "\n",
    "    Args:\n",
    "        batch (List[List, List]): The batch data, where the first element\n",
    "        of the tuple is the word idx and the second element are the target\n",
    "        label.\n",
    "\n",
    "    Returns:\n",
    "        A tuple (x, y). The element x is a tensor of packed sequence .\n",
    "        The element y is a tensor of padded tag indices. The word vectors are\n",
    "        padded with vectors of 0s and the tag indices are padded with -100s.\n",
    "        Padding with -100 is done because of the cross-entropy loss and the\n",
    "        accuracy metric ignores the targets with values -100.\n",
    "    \"\"\"\n",
    "\n",
    "    # This gets us two lists of tensors and a list of integer.\n",
    "    # Each tensor in the first list is a sequence of word vectors.\n",
    "    # Each tensor in the second list is a sequence of tag indices.\n",
    "    # The list of integer consist of the lengths of the sequences in order.\n",
    "    sequences_vectors, sequences_labels, lengths = zip(\n",
    "        *[\n",
    "            (torch.FloatTensor(seq_vectors), torch.LongTensor(labels), len(seq_vectors))\n",
    "            for (seq_vectors, labels) in sorted(\n",
    "                batch, key=lambda x: len(x[0]), reverse=True\n",
    "            )\n",
    "        ]\n",
    "    )\n",
    "\n",
    "    lengths = torch.LongTensor(lengths)\n",
    "\n",
    "    padded_sequences_vectors = pad_sequence(\n",
    "        sequences_vectors, batch_first=True, padding_value=0\n",
    "    )\n",
    "    pack_padded_sequences_vectors = pack_padded_sequence(\n",
    "        padded_sequences_vectors, lengths.cpu(), batch_first=True\n",
    "    )  # We pack the padded sequence to improve the computational speed during training\n",
    "\n",
    "    padded_sequences_labels = pad_sequence(\n",
    "        sequences_labels, batch_first=True, padding_value=-100\n",
    "    )\n",
    "\n",
    "    return pack_padded_sequences_vectors, padded_sequences_labels"
   ]
  },
  {
   "cell_type": "code",
   "execution_count": 17,
   "metadata": {
    "colab": {
     "base_uri": "https://localhost:8080/"
    },
    "id": "PlY0RvtjLQOs",
    "outputId": "dc5160f6-9771-4b37-ad8a-79a4adddc99f"
   },
   "outputs": [
    {
     "name": "stderr",
     "output_type": "stream",
     "text": [
      "/usr/local/lib/python3.8/dist-packages/torch/utils/data/dataloader.py:554: UserWarning: This DataLoader will create 4 worker processes in total. Our suggested max number of worker in current system is 2, which is smaller than what this DataLoader is going to create. Please be aware that excessive worker creation might get DataLoader running slow or even freeze, lower the worker number to avoid potential slowness/freeze if necessary.\n",
      "  warnings.warn(_create_warning_msg(\n"
     ]
    }
   ],
   "source": [
    "train_loader = DataLoader(\n",
    "    train_dataset_vectorizer,\n",
    "    batch_size=batch_size,\n",
    "    shuffle=True,\n",
    "    collate_fn=pad_collate_fn,\n",
    "    num_workers=4,\n",
    ")\n",
    "valid_loader = DataLoader(\n",
    "    valid_dataset_vectorizer,\n",
    "    batch_size=batch_size,\n",
    "    collate_fn=pad_collate_fn,\n",
    "    num_workers=4,\n",
    ")\n",
    "test_loader = DataLoader(\n",
    "    test_dataset_vectorizer,\n",
    "    batch_size=batch_size,\n",
    "    collate_fn=pad_collate_fn,\n",
    "    num_workers=2,\n",
    ")"
   ]
  },
  {
   "cell_type": "code",
   "execution_count": 18,
   "metadata": {
    "id": "Z1pzWs0ALSe2"
   },
   "outputs": [],
   "source": [
    "class RecurrentNet(nn.Module):\n",
    "    def __init__(self, lstm_network, fully_connected_network):\n",
    "        super().__init__()\n",
    "        self.hidden_state = None\n",
    "\n",
    "        self.lstm_network = lstm_network\n",
    "        self.fully_connected_network = fully_connected_network\n",
    "\n",
    "    def forward(self, packed_sequences_vectors):\n",
    "        \"\"\"\n",
    "        Defines the computation performed at every call.\n",
    "\n",
    "        Shapes:\n",
    "            packed_sequence_vectors: batch_size * longest_sequence_length (padding), 300\n",
    "\n",
    "        \"\"\"\n",
    "        lstm_out, self.hidden_state = self.lstm_network(packed_sequences_vectors)\n",
    "        lstm_out, _ = pad_packed_sequence(lstm_out, batch_first=True)\n",
    "\n",
    "        tag_space = self.fully_connected_network(lstm_out)\n",
    "        return tag_space.transpose(-1, 1)  # We need to transpose since it's a sequence"
   ]
  },
  {
   "cell_type": "code",
   "execution_count": 19,
   "metadata": {
    "id": "rCY5mYJ1MFTU"
   },
   "outputs": [],
   "source": [
    "dimension = 300\n",
    "num_layer = 2\n",
    "bidirectional = True\n",
    "\n",
    "lstm_network = nn.LSTM(\n",
    "    input_size=dimension,\n",
    "    hidden_size=dimension,\n",
    "    num_layers=num_layer,\n",
    "    bidirectional=bidirectional,\n",
    "    batch_first=True,\n",
    ")\n",
    "\n",
    "input_dim = dimension * 2  # since bidirectional\n",
    "\n",
    "fully_connected_network = nn.Linear(input_dim, tag_dimension)\n",
    "\n",
    "full_network_bi_lstm = RecurrentNet(lstm_network, fully_connected_network)"
   ]
  },
  {
   "cell_type": "code",
   "execution_count": 20,
   "metadata": {
    "id": "8L9gw2S8MDRd"
   },
   "outputs": [],
   "source": [
    "optimizer = optim.SGD(full_network_bi_lstm.parameters(), lr)"
   ]
  },
  {
   "cell_type": "code",
   "execution_count": 21,
   "metadata": {
    "colab": {
     "base_uri": "https://localhost:8080/"
    },
    "id": "qbAHsccSNi6u",
    "outputId": "2569405b-0cfc-4a55-df75-202427680b7a"
   },
   "outputs": [
    {
     "data": {
      "text/plain": [
       "SGD (\n",
       "Parameter Group 0\n",
       "    dampening: 0\n",
       "    differentiable: False\n",
       "    foreach: None\n",
       "    lr: 0.1\n",
       "    maximize: False\n",
       "    momentum: 0\n",
       "    nesterov: False\n",
       "    weight_decay: 0\n",
       ")"
      ]
     },
     "execution_count": 21,
     "metadata": {},
     "output_type": "execute_result"
    }
   ],
   "source": [
    "optimizer"
   ]
  },
  {
   "cell_type": "code",
   "execution_count": 29,
   "metadata": {
    "id": "v4fYS-xITA74"
   },
   "outputs": [],
   "source": [
    "epoch_number = 150"
   ]
  },
  {
   "cell_type": "code",
   "execution_count": 30,
   "metadata": {
    "colab": {
     "base_uri": "https://localhost:8080/"
    },
    "id": "VESmGfy1MRML",
    "outputId": "ca2d14a3-faca-4c7e-98a9-993920b153c7"
   },
   "outputs": [
    {
     "name": "stdout",
     "output_type": "stream",
     "text": [
      "Loading weights from ./checkpoint.ckpt and starting at epoch 101.\n",
      "Loading optimizer state from ./checkpoint.optim and starting at epoch 101.\n",
      "Loading random states from ./checkpoint.randomstate and starting at epoch 101.\n"
     ]
    },
    {
     "name": "stderr",
     "output_type": "stream",
     "text": [
      "/usr/local/lib/python3.8/dist-packages/torch/utils/data/dataloader.py:554: UserWarning: This DataLoader will create 4 worker processes in total. Our suggested max number of worker in current system is 2, which is smaller than what this DataLoader is going to create. Please be aware that excessive worker creation might get DataLoader running slow or even freeze, lower the worker number to avoid potential slowness/freeze if necessary.\n",
      "  warnings.warn(_create_warning_msg(\n",
      "<ipython-input-16-cd9c7a62e961>:25: UserWarning: Creating a tensor from a list of numpy.ndarrays is extremely slow. Please consider converting the list to a single numpy.ndarray with numpy.array() before converting to a tensor. (Triggered internally at ../torch/csrc/utils/tensor_new.cpp:230.)\n",
      "  (torch.FloatTensor(seq_vectors), torch.LongTensor(labels), len(seq_vectors))\n",
      "<ipython-input-16-cd9c7a62e961>:25: UserWarning: Creating a tensor from a list of numpy.ndarrays is extremely slow. Please consider converting the list to a single numpy.ndarray with numpy.array() before converting to a tensor. (Triggered internally at ../torch/csrc/utils/tensor_new.cpp:230.)\n",
      "  (torch.FloatTensor(seq_vectors), torch.LongTensor(labels), len(seq_vectors))\n",
      "<ipython-input-16-cd9c7a62e961>:25: UserWarning: Creating a tensor from a list of numpy.ndarrays is extremely slow. Please consider converting the list to a single numpy.ndarray with numpy.array() before converting to a tensor. (Triggered internally at ../torch/csrc/utils/tensor_new.cpp:230.)\n",
      "  (torch.FloatTensor(seq_vectors), torch.LongTensor(labels), len(seq_vectors))\n",
      "<ipython-input-16-cd9c7a62e961>:25: UserWarning: Creating a tensor from a list of numpy.ndarrays is extremely slow. Please consider converting the list to a single numpy.ndarray with numpy.array() before converting to a tensor. (Triggered internally at ../torch/csrc/utils/tensor_new.cpp:230.)\n",
      "  (torch.FloatTensor(seq_vectors), torch.LongTensor(labels), len(seq_vectors))\n"
     ]
    },
    {
     "name": "stdout",
     "output_type": "stream",
     "text": [
      "\u001b[35mEpoch: \u001b[36m101/150 \u001b[35mStep: \u001b[36m38/38 \u001b[35m100.00% |\u001b[35m████████████████████\u001b[35m|\u001b[35mETA: \u001b[32m0.00s \u001b[35mloss:\u001b[94m 0.145240\u001b[35m acc:\u001b[94m 94.954124"
     ]
    },
    {
     "name": "stderr",
     "output_type": "stream",
     "text": [
      "<ipython-input-16-cd9c7a62e961>:25: UserWarning: Creating a tensor from a list of numpy.ndarrays is extremely slow. Please consider converting the list to a single numpy.ndarray with numpy.array() before converting to a tensor. (Triggered internally at ../torch/csrc/utils/tensor_new.cpp:230.)\n",
      "  (torch.FloatTensor(seq_vectors), torch.LongTensor(labels), len(seq_vectors))\n"
     ]
    },
    {
     "name": "stdout",
     "output_type": "stream",
     "text": [
      "\r",
      "\u001b[35mEpoch: \u001b[36m101/150 \u001b[35mStep: \u001b[36m 1/10 \u001b[35m 10.00% |\u001b[35m██                  \u001b[35m|\u001b[35mETA: \u001b[32m30.56s \u001b[35mval_loss:\u001b[94m 0.108798\u001b[35m val_acc:\u001b[94m 96.226418"
     ]
    },
    {
     "name": "stderr",
     "output_type": "stream",
     "text": [
      "<ipython-input-16-cd9c7a62e961>:25: UserWarning: Creating a tensor from a list of numpy.ndarrays is extremely slow. Please consider converting the list to a single numpy.ndarray with numpy.array() before converting to a tensor. (Triggered internally at ../torch/csrc/utils/tensor_new.cpp:230.)\n",
      "  (torch.FloatTensor(seq_vectors), torch.LongTensor(labels), len(seq_vectors))\n",
      "<ipython-input-16-cd9c7a62e961>:25: UserWarning: Creating a tensor from a list of numpy.ndarrays is extremely slow. Please consider converting the list to a single numpy.ndarray with numpy.array() before converting to a tensor. (Triggered internally at ../torch/csrc/utils/tensor_new.cpp:230.)\n",
      "  (torch.FloatTensor(seq_vectors), torch.LongTensor(labels), len(seq_vectors))\n"
     ]
    },
    {
     "name": "stdout",
     "output_type": "stream",
     "text": [
      "\r",
      "\u001b[35mEpoch: \u001b[36m101/150 \u001b[35mStep: \u001b[36m 2/10 \u001b[35m 20.00% |\u001b[35m████                \u001b[35m|\u001b[35mETA: \u001b[32m14.99s \u001b[35mval_loss:\u001b[94m 0.131908\u001b[35m val_acc:\u001b[94m 94.588745"
     ]
    },
    {
     "name": "stderr",
     "output_type": "stream",
     "text": [
      "<ipython-input-16-cd9c7a62e961>:25: UserWarning: Creating a tensor from a list of numpy.ndarrays is extremely slow. Please consider converting the list to a single numpy.ndarray with numpy.array() before converting to a tensor. (Triggered internally at ../torch/csrc/utils/tensor_new.cpp:230.)\n",
      "  (torch.FloatTensor(seq_vectors), torch.LongTensor(labels), len(seq_vectors))\n"
     ]
    },
    {
     "name": "stdout",
     "output_type": "stream",
     "text": [
      "\u001b[35mEpoch: \u001b[36m101/150 \u001b[35mTrain steps: \u001b[36m38 \u001b[35mVal steps: \u001b[36m10 \u001b[32m49.72s \u001b[35mloss:\u001b[94m 0.155649\u001b[35m acc:\u001b[94m 95.331996\u001b[35m val_loss:\u001b[94m 0.139171\u001b[35m val_acc:\u001b[94m 95.108031\u001b[0m\n"
     ]
    },
    {
     "name": "stderr",
     "output_type": "stream",
     "text": [
      "<ipython-input-16-cd9c7a62e961>:25: UserWarning: Creating a tensor from a list of numpy.ndarrays is extremely slow. Please consider converting the list to a single numpy.ndarray with numpy.array() before converting to a tensor. (Triggered internally at ../torch/csrc/utils/tensor_new.cpp:230.)\n",
      "  (torch.FloatTensor(seq_vectors), torch.LongTensor(labels), len(seq_vectors))\n",
      "<ipython-input-16-cd9c7a62e961>:25: UserWarning: Creating a tensor from a list of numpy.ndarrays is extremely slow. Please consider converting the list to a single numpy.ndarray with numpy.array() before converting to a tensor. (Triggered internally at ../torch/csrc/utils/tensor_new.cpp:230.)\n",
      "  (torch.FloatTensor(seq_vectors), torch.LongTensor(labels), len(seq_vectors))\n",
      "<ipython-input-16-cd9c7a62e961>:25: UserWarning: Creating a tensor from a list of numpy.ndarrays is extremely slow. Please consider converting the list to a single numpy.ndarray with numpy.array() before converting to a tensor. (Triggered internally at ../torch/csrc/utils/tensor_new.cpp:230.)\n",
      "  (torch.FloatTensor(seq_vectors), torch.LongTensor(labels), len(seq_vectors))\n",
      "<ipython-input-16-cd9c7a62e961>:25: UserWarning: Creating a tensor from a list of numpy.ndarrays is extremely slow. Please consider converting the list to a single numpy.ndarray with numpy.array() before converting to a tensor. (Triggered internally at ../torch/csrc/utils/tensor_new.cpp:230.)\n",
      "  (torch.FloatTensor(seq_vectors), torch.LongTensor(labels), len(seq_vectors))\n"
     ]
    },
    {
     "name": "stdout",
     "output_type": "stream",
     "text": [
      "\u001b[35mEpoch: \u001b[36m102/150 \u001b[35mStep: \u001b[36m38/38 \u001b[35m100.00% |\u001b[35m████████████████████\u001b[35m|\u001b[35mETA: \u001b[32m0.00s \u001b[35mloss:\u001b[94m 0.105702\u001b[35m acc:\u001b[94m 96.651787"
     ]
    },
    {
     "name": "stderr",
     "output_type": "stream",
     "text": [
      "<ipython-input-16-cd9c7a62e961>:25: UserWarning: Creating a tensor from a list of numpy.ndarrays is extremely slow. Please consider converting the list to a single numpy.ndarray with numpy.array() before converting to a tensor. (Triggered internally at ../torch/csrc/utils/tensor_new.cpp:230.)\n",
      "  (torch.FloatTensor(seq_vectors), torch.LongTensor(labels), len(seq_vectors))\n",
      "<ipython-input-16-cd9c7a62e961>:25: UserWarning: Creating a tensor from a list of numpy.ndarrays is extremely slow. Please consider converting the list to a single numpy.ndarray with numpy.array() before converting to a tensor. (Triggered internally at ../torch/csrc/utils/tensor_new.cpp:230.)\n",
      "  (torch.FloatTensor(seq_vectors), torch.LongTensor(labels), len(seq_vectors))\n",
      "<ipython-input-16-cd9c7a62e961>:25: UserWarning: Creating a tensor from a list of numpy.ndarrays is extremely slow. Please consider converting the list to a single numpy.ndarray with numpy.array() before converting to a tensor. (Triggered internally at ../torch/csrc/utils/tensor_new.cpp:230.)\n",
      "  (torch.FloatTensor(seq_vectors), torch.LongTensor(labels), len(seq_vectors))\n"
     ]
    },
    {
     "name": "stdout",
     "output_type": "stream",
     "text": [
      "\u001b[35mEpoch: \u001b[36m102/150 \u001b[35mStep: \u001b[36m 2/10 \u001b[35m 20.00% |\u001b[35m████                \u001b[35m|\u001b[35mETA: \u001b[32m17.84s \u001b[35mval_loss:\u001b[94m 0.128269\u001b[35m val_acc:\u001b[94m 95.454544"
     ]
    },
    {
     "name": "stderr",
     "output_type": "stream",
     "text": [
      "<ipython-input-16-cd9c7a62e961>:25: UserWarning: Creating a tensor from a list of numpy.ndarrays is extremely slow. Please consider converting the list to a single numpy.ndarray with numpy.array() before converting to a tensor. (Triggered internally at ../torch/csrc/utils/tensor_new.cpp:230.)\n",
      "  (torch.FloatTensor(seq_vectors), torch.LongTensor(labels), len(seq_vectors))\n"
     ]
    },
    {
     "name": "stdout",
     "output_type": "stream",
     "text": [
      "\u001b[35mEpoch: \u001b[36m102/150 \u001b[35mTrain steps: \u001b[36m38 \u001b[35mVal steps: \u001b[36m10 \u001b[32m1m2.83s \u001b[35mloss:\u001b[94m 0.156404\u001b[35m acc:\u001b[94m 95.433104\u001b[35m val_loss:\u001b[94m 0.124708\u001b[35m val_acc:\u001b[94m 95.966988\u001b[0m\n",
      "Epoch 102: val_loss improved from 0.12914 to 0.12471, saving file to ./checkpoint_epoch_102.ckpt\n"
     ]
    },
    {
     "name": "stderr",
     "output_type": "stream",
     "text": [
      "<ipython-input-16-cd9c7a62e961>:25: UserWarning: Creating a tensor from a list of numpy.ndarrays is extremely slow. Please consider converting the list to a single numpy.ndarray with numpy.array() before converting to a tensor. (Triggered internally at ../torch/csrc/utils/tensor_new.cpp:230.)\n",
      "  (torch.FloatTensor(seq_vectors), torch.LongTensor(labels), len(seq_vectors))\n",
      "<ipython-input-16-cd9c7a62e961>:25: UserWarning: Creating a tensor from a list of numpy.ndarrays is extremely slow. Please consider converting the list to a single numpy.ndarray with numpy.array() before converting to a tensor. (Triggered internally at ../torch/csrc/utils/tensor_new.cpp:230.)\n",
      "  (torch.FloatTensor(seq_vectors), torch.LongTensor(labels), len(seq_vectors))\n",
      "<ipython-input-16-cd9c7a62e961>:25: UserWarning: Creating a tensor from a list of numpy.ndarrays is extremely slow. Please consider converting the list to a single numpy.ndarray with numpy.array() before converting to a tensor. (Triggered internally at ../torch/csrc/utils/tensor_new.cpp:230.)\n",
      "  (torch.FloatTensor(seq_vectors), torch.LongTensor(labels), len(seq_vectors))\n",
      "<ipython-input-16-cd9c7a62e961>:25: UserWarning: Creating a tensor from a list of numpy.ndarrays is extremely slow. Please consider converting the list to a single numpy.ndarray with numpy.array() before converting to a tensor. (Triggered internally at ../torch/csrc/utils/tensor_new.cpp:230.)\n",
      "  (torch.FloatTensor(seq_vectors), torch.LongTensor(labels), len(seq_vectors))\n"
     ]
    },
    {
     "name": "stdout",
     "output_type": "stream",
     "text": [
      "\u001b[35mEpoch: \u001b[36m103/150 \u001b[35mStep: \u001b[36m38/38 \u001b[35m100.00% |\u001b[35m████████████████████\u001b[35m|\u001b[35mETA: \u001b[32m0.00s \u001b[35mloss:\u001b[94m 0.176110\u001b[35m acc:\u001b[94m 94.469032"
     ]
    },
    {
     "name": "stderr",
     "output_type": "stream",
     "text": [
      "<ipython-input-16-cd9c7a62e961>:25: UserWarning: Creating a tensor from a list of numpy.ndarrays is extremely slow. Please consider converting the list to a single numpy.ndarray with numpy.array() before converting to a tensor. (Triggered internally at ../torch/csrc/utils/tensor_new.cpp:230.)\n",
      "  (torch.FloatTensor(seq_vectors), torch.LongTensor(labels), len(seq_vectors))\n"
     ]
    },
    {
     "name": "stdout",
     "output_type": "stream",
     "text": [
      "\r",
      "\u001b[35mEpoch: \u001b[36m103/150 \u001b[35mStep: \u001b[36m 1/10 \u001b[35m 10.00% |\u001b[35m██                  \u001b[35m|\u001b[35mETA: \u001b[32m35.71s \u001b[35mval_loss:\u001b[94m 0.099342\u001b[35m val_acc:\u001b[94m 97.064987"
     ]
    },
    {
     "name": "stderr",
     "output_type": "stream",
     "text": [
      "<ipython-input-16-cd9c7a62e961>:25: UserWarning: Creating a tensor from a list of numpy.ndarrays is extremely slow. Please consider converting the list to a single numpy.ndarray with numpy.array() before converting to a tensor. (Triggered internally at ../torch/csrc/utils/tensor_new.cpp:230.)\n",
      "  (torch.FloatTensor(seq_vectors), torch.LongTensor(labels), len(seq_vectors))\n",
      "<ipython-input-16-cd9c7a62e961>:25: UserWarning: Creating a tensor from a list of numpy.ndarrays is extremely slow. Please consider converting the list to a single numpy.ndarray with numpy.array() before converting to a tensor. (Triggered internally at ../torch/csrc/utils/tensor_new.cpp:230.)\n",
      "  (torch.FloatTensor(seq_vectors), torch.LongTensor(labels), len(seq_vectors))\n"
     ]
    },
    {
     "name": "stdout",
     "output_type": "stream",
     "text": [
      "\r",
      "\u001b[35mEpoch: \u001b[36m103/150 \u001b[35mStep: \u001b[36m 2/10 \u001b[35m 20.00% |\u001b[35m████                \u001b[35m|\u001b[35mETA: \u001b[32m13.19s \u001b[35mval_loss:\u001b[94m 0.127982\u001b[35m val_acc:\u001b[94m 95.670998"
     ]
    },
    {
     "name": "stderr",
     "output_type": "stream",
     "text": [
      "<ipython-input-16-cd9c7a62e961>:25: UserWarning: Creating a tensor from a list of numpy.ndarrays is extremely slow. Please consider converting the list to a single numpy.ndarray with numpy.array() before converting to a tensor. (Triggered internally at ../torch/csrc/utils/tensor_new.cpp:230.)\n",
      "  (torch.FloatTensor(seq_vectors), torch.LongTensor(labels), len(seq_vectors))\n"
     ]
    },
    {
     "name": "stdout",
     "output_type": "stream",
     "text": [
      "\u001b[35mEpoch: \u001b[36m103/150 \u001b[35mTrain steps: \u001b[36m38 \u001b[35mVal steps: \u001b[36m10 \u001b[32m55.56s \u001b[35mloss:\u001b[94m 0.148126\u001b[35m acc:\u001b[94m 95.686871\u001b[35m val_loss:\u001b[94m 0.125636\u001b[35m val_acc:\u001b[94m 95.634482\u001b[0m\n"
     ]
    },
    {
     "name": "stderr",
     "output_type": "stream",
     "text": [
      "<ipython-input-16-cd9c7a62e961>:25: UserWarning: Creating a tensor from a list of numpy.ndarrays is extremely slow. Please consider converting the list to a single numpy.ndarray with numpy.array() before converting to a tensor. (Triggered internally at ../torch/csrc/utils/tensor_new.cpp:230.)\n",
      "  (torch.FloatTensor(seq_vectors), torch.LongTensor(labels), len(seq_vectors))\n",
      "<ipython-input-16-cd9c7a62e961>:25: UserWarning: Creating a tensor from a list of numpy.ndarrays is extremely slow. Please consider converting the list to a single numpy.ndarray with numpy.array() before converting to a tensor. (Triggered internally at ../torch/csrc/utils/tensor_new.cpp:230.)\n",
      "  (torch.FloatTensor(seq_vectors), torch.LongTensor(labels), len(seq_vectors))\n",
      "<ipython-input-16-cd9c7a62e961>:25: UserWarning: Creating a tensor from a list of numpy.ndarrays is extremely slow. Please consider converting the list to a single numpy.ndarray with numpy.array() before converting to a tensor. (Triggered internally at ../torch/csrc/utils/tensor_new.cpp:230.)\n",
      "  (torch.FloatTensor(seq_vectors), torch.LongTensor(labels), len(seq_vectors))\n",
      "<ipython-input-16-cd9c7a62e961>:25: UserWarning: Creating a tensor from a list of numpy.ndarrays is extremely slow. Please consider converting the list to a single numpy.ndarray with numpy.array() before converting to a tensor. (Triggered internally at ../torch/csrc/utils/tensor_new.cpp:230.)\n",
      "  (torch.FloatTensor(seq_vectors), torch.LongTensor(labels), len(seq_vectors))\n"
     ]
    },
    {
     "name": "stdout",
     "output_type": "stream",
     "text": [
      "\u001b[35mEpoch: \u001b[36m104/150 \u001b[35mStep: \u001b[36m38/38 \u001b[35m100.00% |\u001b[35m████████████████████\u001b[35m|\u001b[35mETA: \u001b[32m0.00s \u001b[35mloss:\u001b[94m 0.135059\u001b[35m acc:\u001b[94m 96.304855"
     ]
    },
    {
     "name": "stderr",
     "output_type": "stream",
     "text": [
      "<ipython-input-16-cd9c7a62e961>:25: UserWarning: Creating a tensor from a list of numpy.ndarrays is extremely slow. Please consider converting the list to a single numpy.ndarray with numpy.array() before converting to a tensor. (Triggered internally at ../torch/csrc/utils/tensor_new.cpp:230.)\n",
      "  (torch.FloatTensor(seq_vectors), torch.LongTensor(labels), len(seq_vectors))\n",
      "<ipython-input-16-cd9c7a62e961>:25: UserWarning: Creating a tensor from a list of numpy.ndarrays is extremely slow. Please consider converting the list to a single numpy.ndarray with numpy.array() before converting to a tensor. (Triggered internally at ../torch/csrc/utils/tensor_new.cpp:230.)\n",
      "  (torch.FloatTensor(seq_vectors), torch.LongTensor(labels), len(seq_vectors))\n",
      "<ipython-input-16-cd9c7a62e961>:25: UserWarning: Creating a tensor from a list of numpy.ndarrays is extremely slow. Please consider converting the list to a single numpy.ndarray with numpy.array() before converting to a tensor. (Triggered internally at ../torch/csrc/utils/tensor_new.cpp:230.)\n",
      "  (torch.FloatTensor(seq_vectors), torch.LongTensor(labels), len(seq_vectors))\n"
     ]
    },
    {
     "name": "stdout",
     "output_type": "stream",
     "text": [
      "\u001b[35mEpoch: \u001b[36m104/150 \u001b[35mStep: \u001b[36m 2/10 \u001b[35m 20.00% |\u001b[35m████                \u001b[35m|\u001b[35mETA: \u001b[32m12.95s \u001b[35mval_loss:\u001b[94m 0.110363\u001b[35m val_acc:\u001b[94m 95.887444"
     ]
    },
    {
     "name": "stderr",
     "output_type": "stream",
     "text": [
      "<ipython-input-16-cd9c7a62e961>:25: UserWarning: Creating a tensor from a list of numpy.ndarrays is extremely slow. Please consider converting the list to a single numpy.ndarray with numpy.array() before converting to a tensor. (Triggered internally at ../torch/csrc/utils/tensor_new.cpp:230.)\n",
      "  (torch.FloatTensor(seq_vectors), torch.LongTensor(labels), len(seq_vectors))\n"
     ]
    },
    {
     "name": "stdout",
     "output_type": "stream",
     "text": [
      "\u001b[35mEpoch: \u001b[36m104/150 \u001b[35mTrain steps: \u001b[36m38 \u001b[35mVal steps: \u001b[36m10 \u001b[32m46.73s \u001b[35mloss:\u001b[94m 0.151194\u001b[35m acc:\u001b[94m 95.486544\u001b[35m val_loss:\u001b[94m 0.126966\u001b[35m val_acc:\u001b[94m 95.492960\u001b[0m\n"
     ]
    },
    {
     "name": "stderr",
     "output_type": "stream",
     "text": [
      "<ipython-input-16-cd9c7a62e961>:25: UserWarning: Creating a tensor from a list of numpy.ndarrays is extremely slow. Please consider converting the list to a single numpy.ndarray with numpy.array() before converting to a tensor. (Triggered internally at ../torch/csrc/utils/tensor_new.cpp:230.)\n",
      "  (torch.FloatTensor(seq_vectors), torch.LongTensor(labels), len(seq_vectors))\n",
      "<ipython-input-16-cd9c7a62e961>:25: UserWarning: Creating a tensor from a list of numpy.ndarrays is extremely slow. Please consider converting the list to a single numpy.ndarray with numpy.array() before converting to a tensor. (Triggered internally at ../torch/csrc/utils/tensor_new.cpp:230.)\n",
      "  (torch.FloatTensor(seq_vectors), torch.LongTensor(labels), len(seq_vectors))\n",
      "<ipython-input-16-cd9c7a62e961>:25: UserWarning: Creating a tensor from a list of numpy.ndarrays is extremely slow. Please consider converting the list to a single numpy.ndarray with numpy.array() before converting to a tensor. (Triggered internally at ../torch/csrc/utils/tensor_new.cpp:230.)\n",
      "  (torch.FloatTensor(seq_vectors), torch.LongTensor(labels), len(seq_vectors))\n",
      "<ipython-input-16-cd9c7a62e961>:25: UserWarning: Creating a tensor from a list of numpy.ndarrays is extremely slow. Please consider converting the list to a single numpy.ndarray with numpy.array() before converting to a tensor. (Triggered internally at ../torch/csrc/utils/tensor_new.cpp:230.)\n",
      "  (torch.FloatTensor(seq_vectors), torch.LongTensor(labels), len(seq_vectors))\n"
     ]
    },
    {
     "name": "stdout",
     "output_type": "stream",
     "text": [
      "\u001b[35mEpoch: \u001b[36m105/150 \u001b[35mStep: \u001b[36m38/38 \u001b[35m100.00% |\u001b[35m████████████████████\u001b[35m|\u001b[35mETA: \u001b[32m0.00s \u001b[35mloss:\u001b[94m 0.069302\u001b[35m acc:\u001b[94m 97.641510"
     ]
    },
    {
     "name": "stderr",
     "output_type": "stream",
     "text": [
      "<ipython-input-16-cd9c7a62e961>:25: UserWarning: Creating a tensor from a list of numpy.ndarrays is extremely slow. Please consider converting the list to a single numpy.ndarray with numpy.array() before converting to a tensor. (Triggered internally at ../torch/csrc/utils/tensor_new.cpp:230.)\n",
      "  (torch.FloatTensor(seq_vectors), torch.LongTensor(labels), len(seq_vectors))\n",
      "<ipython-input-16-cd9c7a62e961>:25: UserWarning: Creating a tensor from a list of numpy.ndarrays is extremely slow. Please consider converting the list to a single numpy.ndarray with numpy.array() before converting to a tensor. (Triggered internally at ../torch/csrc/utils/tensor_new.cpp:230.)\n",
      "  (torch.FloatTensor(seq_vectors), torch.LongTensor(labels), len(seq_vectors))\n",
      "<ipython-input-16-cd9c7a62e961>:25: UserWarning: Creating a tensor from a list of numpy.ndarrays is extremely slow. Please consider converting the list to a single numpy.ndarray with numpy.array() before converting to a tensor. (Triggered internally at ../torch/csrc/utils/tensor_new.cpp:230.)\n",
      "  (torch.FloatTensor(seq_vectors), torch.LongTensor(labels), len(seq_vectors))\n"
     ]
    },
    {
     "name": "stdout",
     "output_type": "stream",
     "text": [
      "\u001b[35mEpoch: \u001b[36m105/150 \u001b[35mStep: \u001b[36m 2/10 \u001b[35m 20.00% |\u001b[35m████                \u001b[35m|\u001b[35mETA: \u001b[32m15.94s \u001b[35mval_loss:\u001b[94m 0.122237\u001b[35m val_acc:\u001b[94m 95.238098"
     ]
    },
    {
     "name": "stderr",
     "output_type": "stream",
     "text": [
      "<ipython-input-16-cd9c7a62e961>:25: UserWarning: Creating a tensor from a list of numpy.ndarrays is extremely slow. Please consider converting the list to a single numpy.ndarray with numpy.array() before converting to a tensor. (Triggered internally at ../torch/csrc/utils/tensor_new.cpp:230.)\n",
      "  (torch.FloatTensor(seq_vectors), torch.LongTensor(labels), len(seq_vectors))\n"
     ]
    },
    {
     "name": "stdout",
     "output_type": "stream",
     "text": [
      "\u001b[35mEpoch: \u001b[36m105/150 \u001b[35mTrain steps: \u001b[36m38 \u001b[35mVal steps: \u001b[36m10 \u001b[32m49.63s \u001b[35mloss:\u001b[94m 0.147799\u001b[35m acc:\u001b[94m 95.655228\u001b[35m val_loss:\u001b[94m 0.119997\u001b[35m val_acc:\u001b[94m 95.993725\u001b[0m\n",
      "Epoch 105: val_loss improved from 0.12471 to 0.12000, saving file to ./checkpoint_epoch_105.ckpt\n"
     ]
    },
    {
     "name": "stderr",
     "output_type": "stream",
     "text": [
      "<ipython-input-16-cd9c7a62e961>:25: UserWarning: Creating a tensor from a list of numpy.ndarrays is extremely slow. Please consider converting the list to a single numpy.ndarray with numpy.array() before converting to a tensor. (Triggered internally at ../torch/csrc/utils/tensor_new.cpp:230.)\n",
      "  (torch.FloatTensor(seq_vectors), torch.LongTensor(labels), len(seq_vectors))\n",
      "<ipython-input-16-cd9c7a62e961>:25: UserWarning: Creating a tensor from a list of numpy.ndarrays is extremely slow. Please consider converting the list to a single numpy.ndarray with numpy.array() before converting to a tensor. (Triggered internally at ../torch/csrc/utils/tensor_new.cpp:230.)\n",
      "  (torch.FloatTensor(seq_vectors), torch.LongTensor(labels), len(seq_vectors))\n",
      "<ipython-input-16-cd9c7a62e961>:25: UserWarning: Creating a tensor from a list of numpy.ndarrays is extremely slow. Please consider converting the list to a single numpy.ndarray with numpy.array() before converting to a tensor. (Triggered internally at ../torch/csrc/utils/tensor_new.cpp:230.)\n",
      "  (torch.FloatTensor(seq_vectors), torch.LongTensor(labels), len(seq_vectors))\n",
      "<ipython-input-16-cd9c7a62e961>:25: UserWarning: Creating a tensor from a list of numpy.ndarrays is extremely slow. Please consider converting the list to a single numpy.ndarray with numpy.array() before converting to a tensor. (Triggered internally at ../torch/csrc/utils/tensor_new.cpp:230.)\n",
      "  (torch.FloatTensor(seq_vectors), torch.LongTensor(labels), len(seq_vectors))\n"
     ]
    },
    {
     "name": "stdout",
     "output_type": "stream",
     "text": [
      "\u001b[35mEpoch: \u001b[36m106/150 \u001b[35mStep: \u001b[36m38/38 \u001b[35m100.00% |\u001b[35m████████████████████\u001b[35m|\u001b[35mETA: \u001b[32m0.00s \u001b[35mloss:\u001b[94m 0.115129\u001b[35m acc:\u001b[94m 95.871559"
     ]
    },
    {
     "name": "stderr",
     "output_type": "stream",
     "text": [
      "<ipython-input-16-cd9c7a62e961>:25: UserWarning: Creating a tensor from a list of numpy.ndarrays is extremely slow. Please consider converting the list to a single numpy.ndarray with numpy.array() before converting to a tensor. (Triggered internally at ../torch/csrc/utils/tensor_new.cpp:230.)\n",
      "  (torch.FloatTensor(seq_vectors), torch.LongTensor(labels), len(seq_vectors))\n",
      "<ipython-input-16-cd9c7a62e961>:25: UserWarning: Creating a tensor from a list of numpy.ndarrays is extremely slow. Please consider converting the list to a single numpy.ndarray with numpy.array() before converting to a tensor. (Triggered internally at ../torch/csrc/utils/tensor_new.cpp:230.)\n",
      "  (torch.FloatTensor(seq_vectors), torch.LongTensor(labels), len(seq_vectors))\n",
      "<ipython-input-16-cd9c7a62e961>:25: UserWarning: Creating a tensor from a list of numpy.ndarrays is extremely slow. Please consider converting the list to a single numpy.ndarray with numpy.array() before converting to a tensor. (Triggered internally at ../torch/csrc/utils/tensor_new.cpp:230.)\n",
      "  (torch.FloatTensor(seq_vectors), torch.LongTensor(labels), len(seq_vectors))\n"
     ]
    },
    {
     "name": "stdout",
     "output_type": "stream",
     "text": [
      "\u001b[35mEpoch: \u001b[36m106/150 \u001b[35mStep: \u001b[36m 2/10 \u001b[35m 20.00% |\u001b[35m████                \u001b[35m|\u001b[35mETA: \u001b[32m13.85s \u001b[35mval_loss:\u001b[94m 0.109548\u001b[35m val_acc:\u001b[94m 95.454544"
     ]
    },
    {
     "name": "stderr",
     "output_type": "stream",
     "text": [
      "<ipython-input-16-cd9c7a62e961>:25: UserWarning: Creating a tensor from a list of numpy.ndarrays is extremely slow. Please consider converting the list to a single numpy.ndarray with numpy.array() before converting to a tensor. (Triggered internally at ../torch/csrc/utils/tensor_new.cpp:230.)\n",
      "  (torch.FloatTensor(seq_vectors), torch.LongTensor(labels), len(seq_vectors))\n"
     ]
    },
    {
     "name": "stdout",
     "output_type": "stream",
     "text": [
      "\u001b[35mEpoch: \u001b[36m106/150 \u001b[35mTrain steps: \u001b[36m38 \u001b[35mVal steps: \u001b[36m10 \u001b[32m48.26s \u001b[35mloss:\u001b[94m 0.144642\u001b[35m acc:\u001b[94m 95.665885\u001b[35m val_loss:\u001b[94m 0.127941\u001b[35m val_acc:\u001b[94m 95.661647\u001b[0m\n"
     ]
    },
    {
     "name": "stderr",
     "output_type": "stream",
     "text": [
      "<ipython-input-16-cd9c7a62e961>:25: UserWarning: Creating a tensor from a list of numpy.ndarrays is extremely slow. Please consider converting the list to a single numpy.ndarray with numpy.array() before converting to a tensor. (Triggered internally at ../torch/csrc/utils/tensor_new.cpp:230.)\n",
      "  (torch.FloatTensor(seq_vectors), torch.LongTensor(labels), len(seq_vectors))\n",
      "<ipython-input-16-cd9c7a62e961>:25: UserWarning: Creating a tensor from a list of numpy.ndarrays is extremely slow. Please consider converting the list to a single numpy.ndarray with numpy.array() before converting to a tensor. (Triggered internally at ../torch/csrc/utils/tensor_new.cpp:230.)\n",
      "  (torch.FloatTensor(seq_vectors), torch.LongTensor(labels), len(seq_vectors))\n",
      "<ipython-input-16-cd9c7a62e961>:25: UserWarning: Creating a tensor from a list of numpy.ndarrays is extremely slow. Please consider converting the list to a single numpy.ndarray with numpy.array() before converting to a tensor. (Triggered internally at ../torch/csrc/utils/tensor_new.cpp:230.)\n",
      "  (torch.FloatTensor(seq_vectors), torch.LongTensor(labels), len(seq_vectors))\n",
      "<ipython-input-16-cd9c7a62e961>:25: UserWarning: Creating a tensor from a list of numpy.ndarrays is extremely slow. Please consider converting the list to a single numpy.ndarray with numpy.array() before converting to a tensor. (Triggered internally at ../torch/csrc/utils/tensor_new.cpp:230.)\n",
      "  (torch.FloatTensor(seq_vectors), torch.LongTensor(labels), len(seq_vectors))\n"
     ]
    },
    {
     "name": "stdout",
     "output_type": "stream",
     "text": [
      "\u001b[35mEpoch: \u001b[36m107/150 \u001b[35mStep: \u001b[36m38/38 \u001b[35m100.00% |\u001b[35m████████████████████\u001b[35m|\u001b[35mETA: \u001b[32m0.00s \u001b[35mloss:\u001b[94m 0.168036\u001b[35m acc:\u001b[94m 93.886467"
     ]
    },
    {
     "name": "stderr",
     "output_type": "stream",
     "text": [
      "<ipython-input-16-cd9c7a62e961>:25: UserWarning: Creating a tensor from a list of numpy.ndarrays is extremely slow. Please consider converting the list to a single numpy.ndarray with numpy.array() before converting to a tensor. (Triggered internally at ../torch/csrc/utils/tensor_new.cpp:230.)\n",
      "  (torch.FloatTensor(seq_vectors), torch.LongTensor(labels), len(seq_vectors))\n",
      "<ipython-input-16-cd9c7a62e961>:25: UserWarning: Creating a tensor from a list of numpy.ndarrays is extremely slow. Please consider converting the list to a single numpy.ndarray with numpy.array() before converting to a tensor. (Triggered internally at ../torch/csrc/utils/tensor_new.cpp:230.)\n",
      "  (torch.FloatTensor(seq_vectors), torch.LongTensor(labels), len(seq_vectors))\n",
      "<ipython-input-16-cd9c7a62e961>:25: UserWarning: Creating a tensor from a list of numpy.ndarrays is extremely slow. Please consider converting the list to a single numpy.ndarray with numpy.array() before converting to a tensor. (Triggered internally at ../torch/csrc/utils/tensor_new.cpp:230.)\n",
      "  (torch.FloatTensor(seq_vectors), torch.LongTensor(labels), len(seq_vectors))\n"
     ]
    },
    {
     "name": "stdout",
     "output_type": "stream",
     "text": [
      "\u001b[35mEpoch: \u001b[36m107/150 \u001b[35mStep: \u001b[36m 2/10 \u001b[35m 20.00% |\u001b[35m████                \u001b[35m|\u001b[35mETA: \u001b[32m15.28s \u001b[35mval_loss:\u001b[94m 0.116701\u001b[35m val_acc:\u001b[94m 95.887444"
     ]
    },
    {
     "name": "stderr",
     "output_type": "stream",
     "text": [
      "<ipython-input-16-cd9c7a62e961>:25: UserWarning: Creating a tensor from a list of numpy.ndarrays is extremely slow. Please consider converting the list to a single numpy.ndarray with numpy.array() before converting to a tensor. (Triggered internally at ../torch/csrc/utils/tensor_new.cpp:230.)\n",
      "  (torch.FloatTensor(seq_vectors), torch.LongTensor(labels), len(seq_vectors))\n"
     ]
    },
    {
     "name": "stdout",
     "output_type": "stream",
     "text": [
      "\u001b[35mEpoch: \u001b[36m107/150 \u001b[35mTrain steps: \u001b[36m38 \u001b[35mVal steps: \u001b[36m10 \u001b[32m48.67s \u001b[35mloss:\u001b[94m 0.147411\u001b[35m acc:\u001b[94m 95.651774\u001b[35m val_loss:\u001b[94m 0.123283\u001b[35m val_acc:\u001b[94m 95.326562\u001b[0m\n"
     ]
    },
    {
     "name": "stderr",
     "output_type": "stream",
     "text": [
      "<ipython-input-16-cd9c7a62e961>:25: UserWarning: Creating a tensor from a list of numpy.ndarrays is extremely slow. Please consider converting the list to a single numpy.ndarray with numpy.array() before converting to a tensor. (Triggered internally at ../torch/csrc/utils/tensor_new.cpp:230.)\n",
      "  (torch.FloatTensor(seq_vectors), torch.LongTensor(labels), len(seq_vectors))\n",
      "<ipython-input-16-cd9c7a62e961>:25: UserWarning: Creating a tensor from a list of numpy.ndarrays is extremely slow. Please consider converting the list to a single numpy.ndarray with numpy.array() before converting to a tensor. (Triggered internally at ../torch/csrc/utils/tensor_new.cpp:230.)\n",
      "  (torch.FloatTensor(seq_vectors), torch.LongTensor(labels), len(seq_vectors))\n",
      "<ipython-input-16-cd9c7a62e961>:25: UserWarning: Creating a tensor from a list of numpy.ndarrays is extremely slow. Please consider converting the list to a single numpy.ndarray with numpy.array() before converting to a tensor. (Triggered internally at ../torch/csrc/utils/tensor_new.cpp:230.)\n",
      "  (torch.FloatTensor(seq_vectors), torch.LongTensor(labels), len(seq_vectors))\n",
      "<ipython-input-16-cd9c7a62e961>:25: UserWarning: Creating a tensor from a list of numpy.ndarrays is extremely slow. Please consider converting the list to a single numpy.ndarray with numpy.array() before converting to a tensor. (Triggered internally at ../torch/csrc/utils/tensor_new.cpp:230.)\n",
      "  (torch.FloatTensor(seq_vectors), torch.LongTensor(labels), len(seq_vectors))\n"
     ]
    },
    {
     "name": "stdout",
     "output_type": "stream",
     "text": [
      "\u001b[35mEpoch: \u001b[36m108/150 \u001b[35mStep: \u001b[36m38/38 \u001b[35m100.00% |\u001b[35m████████████████████\u001b[35m|\u001b[35mETA: \u001b[32m0.00s \u001b[35mloss:\u001b[94m 0.163654\u001b[35m acc:\u001b[94m 94.888893"
     ]
    },
    {
     "name": "stderr",
     "output_type": "stream",
     "text": [
      "<ipython-input-16-cd9c7a62e961>:25: UserWarning: Creating a tensor from a list of numpy.ndarrays is extremely slow. Please consider converting the list to a single numpy.ndarray with numpy.array() before converting to a tensor. (Triggered internally at ../torch/csrc/utils/tensor_new.cpp:230.)\n",
      "  (torch.FloatTensor(seq_vectors), torch.LongTensor(labels), len(seq_vectors))\n",
      "<ipython-input-16-cd9c7a62e961>:25: UserWarning: Creating a tensor from a list of numpy.ndarrays is extremely slow. Please consider converting the list to a single numpy.ndarray with numpy.array() before converting to a tensor. (Triggered internally at ../torch/csrc/utils/tensor_new.cpp:230.)\n",
      "  (torch.FloatTensor(seq_vectors), torch.LongTensor(labels), len(seq_vectors))\n",
      "<ipython-input-16-cd9c7a62e961>:25: UserWarning: Creating a tensor from a list of numpy.ndarrays is extremely slow. Please consider converting the list to a single numpy.ndarray with numpy.array() before converting to a tensor. (Triggered internally at ../torch/csrc/utils/tensor_new.cpp:230.)\n",
      "  (torch.FloatTensor(seq_vectors), torch.LongTensor(labels), len(seq_vectors))\n"
     ]
    },
    {
     "name": "stdout",
     "output_type": "stream",
     "text": [
      "\u001b[35mEpoch: \u001b[36m108/150 \u001b[35mStep: \u001b[36m 2/10 \u001b[35m 20.00% |\u001b[35m████                \u001b[35m|\u001b[35mETA: \u001b[32m19.97s \u001b[35mval_loss:\u001b[94m 0.114445\u001b[35m val_acc:\u001b[94m 95.670998"
     ]
    },
    {
     "name": "stderr",
     "output_type": "stream",
     "text": [
      "<ipython-input-16-cd9c7a62e961>:25: UserWarning: Creating a tensor from a list of numpy.ndarrays is extremely slow. Please consider converting the list to a single numpy.ndarray with numpy.array() before converting to a tensor. (Triggered internally at ../torch/csrc/utils/tensor_new.cpp:230.)\n",
      "  (torch.FloatTensor(seq_vectors), torch.LongTensor(labels), len(seq_vectors))\n"
     ]
    },
    {
     "name": "stdout",
     "output_type": "stream",
     "text": [
      "\u001b[35mEpoch: \u001b[36m108/150 \u001b[35mTrain steps: \u001b[36m38 \u001b[35mVal steps: \u001b[36m10 \u001b[32m50.02s \u001b[35mloss:\u001b[94m 0.141072\u001b[35m acc:\u001b[94m 95.902153\u001b[35m val_loss:\u001b[94m 0.115095\u001b[35m val_acc:\u001b[94m 96.033419\u001b[0m\n",
      "Epoch 108: val_loss improved from 0.12000 to 0.11509, saving file to ./checkpoint_epoch_108.ckpt\n"
     ]
    },
    {
     "name": "stderr",
     "output_type": "stream",
     "text": [
      "<ipython-input-16-cd9c7a62e961>:25: UserWarning: Creating a tensor from a list of numpy.ndarrays is extremely slow. Please consider converting the list to a single numpy.ndarray with numpy.array() before converting to a tensor. (Triggered internally at ../torch/csrc/utils/tensor_new.cpp:230.)\n",
      "  (torch.FloatTensor(seq_vectors), torch.LongTensor(labels), len(seq_vectors))\n",
      "<ipython-input-16-cd9c7a62e961>:25: UserWarning: Creating a tensor from a list of numpy.ndarrays is extremely slow. Please consider converting the list to a single numpy.ndarray with numpy.array() before converting to a tensor. (Triggered internally at ../torch/csrc/utils/tensor_new.cpp:230.)\n",
      "  (torch.FloatTensor(seq_vectors), torch.LongTensor(labels), len(seq_vectors))\n",
      "<ipython-input-16-cd9c7a62e961>:25: UserWarning: Creating a tensor from a list of numpy.ndarrays is extremely slow. Please consider converting the list to a single numpy.ndarray with numpy.array() before converting to a tensor. (Triggered internally at ../torch/csrc/utils/tensor_new.cpp:230.)\n",
      "  (torch.FloatTensor(seq_vectors), torch.LongTensor(labels), len(seq_vectors))\n",
      "<ipython-input-16-cd9c7a62e961>:25: UserWarning: Creating a tensor from a list of numpy.ndarrays is extremely slow. Please consider converting the list to a single numpy.ndarray with numpy.array() before converting to a tensor. (Triggered internally at ../torch/csrc/utils/tensor_new.cpp:230.)\n",
      "  (torch.FloatTensor(seq_vectors), torch.LongTensor(labels), len(seq_vectors))\n"
     ]
    },
    {
     "name": "stdout",
     "output_type": "stream",
     "text": [
      "\u001b[35mEpoch: \u001b[36m109/150 \u001b[35mStep: \u001b[36m38/38 \u001b[35m100.00% |\u001b[35m████████████████████\u001b[35m|\u001b[35mETA: \u001b[32m0.00s \u001b[35mloss:\u001b[94m 0.182230\u001b[35m acc:\u001b[94m 94.570137"
     ]
    },
    {
     "name": "stderr",
     "output_type": "stream",
     "text": [
      "<ipython-input-16-cd9c7a62e961>:25: UserWarning: Creating a tensor from a list of numpy.ndarrays is extremely slow. Please consider converting the list to a single numpy.ndarray with numpy.array() before converting to a tensor. (Triggered internally at ../torch/csrc/utils/tensor_new.cpp:230.)\n",
      "  (torch.FloatTensor(seq_vectors), torch.LongTensor(labels), len(seq_vectors))\n",
      "<ipython-input-16-cd9c7a62e961>:25: UserWarning: Creating a tensor from a list of numpy.ndarrays is extremely slow. Please consider converting the list to a single numpy.ndarray with numpy.array() before converting to a tensor. (Triggered internally at ../torch/csrc/utils/tensor_new.cpp:230.)\n",
      "  (torch.FloatTensor(seq_vectors), torch.LongTensor(labels), len(seq_vectors))\n",
      "<ipython-input-16-cd9c7a62e961>:25: UserWarning: Creating a tensor from a list of numpy.ndarrays is extremely slow. Please consider converting the list to a single numpy.ndarray with numpy.array() before converting to a tensor. (Triggered internally at ../torch/csrc/utils/tensor_new.cpp:230.)\n",
      "  (torch.FloatTensor(seq_vectors), torch.LongTensor(labels), len(seq_vectors))\n"
     ]
    },
    {
     "name": "stdout",
     "output_type": "stream",
     "text": [
      "\u001b[35mEpoch: \u001b[36m109/150 \u001b[35mStep: \u001b[36m 2/10 \u001b[35m 20.00% |\u001b[35m████                \u001b[35m|\u001b[35mETA: \u001b[32m13.42s \u001b[35mval_loss:\u001b[94m 0.119551\u001b[35m val_acc:\u001b[94m 95.021645"
     ]
    },
    {
     "name": "stderr",
     "output_type": "stream",
     "text": [
      "<ipython-input-16-cd9c7a62e961>:25: UserWarning: Creating a tensor from a list of numpy.ndarrays is extremely slow. Please consider converting the list to a single numpy.ndarray with numpy.array() before converting to a tensor. (Triggered internally at ../torch/csrc/utils/tensor_new.cpp:230.)\n",
      "  (torch.FloatTensor(seq_vectors), torch.LongTensor(labels), len(seq_vectors))\n"
     ]
    },
    {
     "name": "stdout",
     "output_type": "stream",
     "text": [
      "\u001b[35mEpoch: \u001b[36m109/150 \u001b[35mTrain steps: \u001b[36m38 \u001b[35mVal steps: \u001b[36m10 \u001b[32m54.56s \u001b[35mloss:\u001b[94m 0.142036\u001b[35m acc:\u001b[94m 95.938693\u001b[35m val_loss:\u001b[94m 0.114771\u001b[35m val_acc:\u001b[94m 96.032173\u001b[0m\n",
      "Epoch 109: val_loss improved from 0.11509 to 0.11477, saving file to ./checkpoint_epoch_109.ckpt\n"
     ]
    },
    {
     "name": "stderr",
     "output_type": "stream",
     "text": [
      "<ipython-input-16-cd9c7a62e961>:25: UserWarning: Creating a tensor from a list of numpy.ndarrays is extremely slow. Please consider converting the list to a single numpy.ndarray with numpy.array() before converting to a tensor. (Triggered internally at ../torch/csrc/utils/tensor_new.cpp:230.)\n",
      "  (torch.FloatTensor(seq_vectors), torch.LongTensor(labels), len(seq_vectors))\n",
      "<ipython-input-16-cd9c7a62e961>:25: UserWarning: Creating a tensor from a list of numpy.ndarrays is extremely slow. Please consider converting the list to a single numpy.ndarray with numpy.array() before converting to a tensor. (Triggered internally at ../torch/csrc/utils/tensor_new.cpp:230.)\n",
      "  (torch.FloatTensor(seq_vectors), torch.LongTensor(labels), len(seq_vectors))\n",
      "<ipython-input-16-cd9c7a62e961>:25: UserWarning: Creating a tensor from a list of numpy.ndarrays is extremely slow. Please consider converting the list to a single numpy.ndarray with numpy.array() before converting to a tensor. (Triggered internally at ../torch/csrc/utils/tensor_new.cpp:230.)\n",
      "  (torch.FloatTensor(seq_vectors), torch.LongTensor(labels), len(seq_vectors))\n",
      "<ipython-input-16-cd9c7a62e961>:25: UserWarning: Creating a tensor from a list of numpy.ndarrays is extremely slow. Please consider converting the list to a single numpy.ndarray with numpy.array() before converting to a tensor. (Triggered internally at ../torch/csrc/utils/tensor_new.cpp:230.)\n",
      "  (torch.FloatTensor(seq_vectors), torch.LongTensor(labels), len(seq_vectors))\n"
     ]
    },
    {
     "name": "stdout",
     "output_type": "stream",
     "text": [
      "\u001b[35mEpoch: \u001b[36m110/150 \u001b[35mStep: \u001b[36m38/38 \u001b[35m100.00% |\u001b[35m████████████████████\u001b[35m|\u001b[35mETA: \u001b[32m0.00s \u001b[35mloss:\u001b[94m 0.144245\u001b[35m acc:\u001b[94m 95.777779"
     ]
    },
    {
     "name": "stderr",
     "output_type": "stream",
     "text": [
      "<ipython-input-16-cd9c7a62e961>:25: UserWarning: Creating a tensor from a list of numpy.ndarrays is extremely slow. Please consider converting the list to a single numpy.ndarray with numpy.array() before converting to a tensor. (Triggered internally at ../torch/csrc/utils/tensor_new.cpp:230.)\n",
      "  (torch.FloatTensor(seq_vectors), torch.LongTensor(labels), len(seq_vectors))\n",
      "<ipython-input-16-cd9c7a62e961>:25: UserWarning: Creating a tensor from a list of numpy.ndarrays is extremely slow. Please consider converting the list to a single numpy.ndarray with numpy.array() before converting to a tensor. (Triggered internally at ../torch/csrc/utils/tensor_new.cpp:230.)\n",
      "  (torch.FloatTensor(seq_vectors), torch.LongTensor(labels), len(seq_vectors))\n",
      "<ipython-input-16-cd9c7a62e961>:25: UserWarning: Creating a tensor from a list of numpy.ndarrays is extremely slow. Please consider converting the list to a single numpy.ndarray with numpy.array() before converting to a tensor. (Triggered internally at ../torch/csrc/utils/tensor_new.cpp:230.)\n",
      "  (torch.FloatTensor(seq_vectors), torch.LongTensor(labels), len(seq_vectors))\n"
     ]
    },
    {
     "name": "stdout",
     "output_type": "stream",
     "text": [
      "\u001b[35mEpoch: \u001b[36m110/150 \u001b[35mStep: \u001b[36m 2/10 \u001b[35m 20.00% |\u001b[35m████                \u001b[35m|\u001b[35mETA: \u001b[32m14.79s \u001b[35mval_loss:\u001b[94m 0.110851\u001b[35m val_acc:\u001b[94m 95.887444"
     ]
    },
    {
     "name": "stderr",
     "output_type": "stream",
     "text": [
      "<ipython-input-16-cd9c7a62e961>:25: UserWarning: Creating a tensor from a list of numpy.ndarrays is extremely slow. Please consider converting the list to a single numpy.ndarray with numpy.array() before converting to a tensor. (Triggered internally at ../torch/csrc/utils/tensor_new.cpp:230.)\n",
      "  (torch.FloatTensor(seq_vectors), torch.LongTensor(labels), len(seq_vectors))\n"
     ]
    },
    {
     "name": "stdout",
     "output_type": "stream",
     "text": [
      "\u001b[35mEpoch: \u001b[36m110/150 \u001b[35mTrain steps: \u001b[36m38 \u001b[35mVal steps: \u001b[36m10 \u001b[32m47.71s \u001b[35mloss:\u001b[94m 0.146559\u001b[35m acc:\u001b[94m 95.549579\u001b[35m val_loss:\u001b[94m 0.115530\u001b[35m val_acc:\u001b[94m 95.720685\u001b[0m\n"
     ]
    },
    {
     "name": "stderr",
     "output_type": "stream",
     "text": [
      "<ipython-input-16-cd9c7a62e961>:25: UserWarning: Creating a tensor from a list of numpy.ndarrays is extremely slow. Please consider converting the list to a single numpy.ndarray with numpy.array() before converting to a tensor. (Triggered internally at ../torch/csrc/utils/tensor_new.cpp:230.)\n",
      "  (torch.FloatTensor(seq_vectors), torch.LongTensor(labels), len(seq_vectors))\n",
      "<ipython-input-16-cd9c7a62e961>:25: UserWarning: Creating a tensor from a list of numpy.ndarrays is extremely slow. Please consider converting the list to a single numpy.ndarray with numpy.array() before converting to a tensor. (Triggered internally at ../torch/csrc/utils/tensor_new.cpp:230.)\n",
      "  (torch.FloatTensor(seq_vectors), torch.LongTensor(labels), len(seq_vectors))\n",
      "<ipython-input-16-cd9c7a62e961>:25: UserWarning: Creating a tensor from a list of numpy.ndarrays is extremely slow. Please consider converting the list to a single numpy.ndarray with numpy.array() before converting to a tensor. (Triggered internally at ../torch/csrc/utils/tensor_new.cpp:230.)\n",
      "  (torch.FloatTensor(seq_vectors), torch.LongTensor(labels), len(seq_vectors))\n",
      "<ipython-input-16-cd9c7a62e961>:25: UserWarning: Creating a tensor from a list of numpy.ndarrays is extremely slow. Please consider converting the list to a single numpy.ndarray with numpy.array() before converting to a tensor. (Triggered internally at ../torch/csrc/utils/tensor_new.cpp:230.)\n",
      "  (torch.FloatTensor(seq_vectors), torch.LongTensor(labels), len(seq_vectors))\n"
     ]
    },
    {
     "name": "stdout",
     "output_type": "stream",
     "text": [
      "\u001b[35mEpoch: \u001b[36m111/150 \u001b[35mStep: \u001b[36m38/38 \u001b[35m100.00% |\u001b[35m████████████████████\u001b[35m|\u001b[35mETA: \u001b[32m0.00s \u001b[35mloss:\u001b[94m 0.279978\u001b[35m acc:\u001b[94m 92.967033"
     ]
    },
    {
     "name": "stderr",
     "output_type": "stream",
     "text": [
      "<ipython-input-16-cd9c7a62e961>:25: UserWarning: Creating a tensor from a list of numpy.ndarrays is extremely slow. Please consider converting the list to a single numpy.ndarray with numpy.array() before converting to a tensor. (Triggered internally at ../torch/csrc/utils/tensor_new.cpp:230.)\n",
      "  (torch.FloatTensor(seq_vectors), torch.LongTensor(labels), len(seq_vectors))\n",
      "<ipython-input-16-cd9c7a62e961>:25: UserWarning: Creating a tensor from a list of numpy.ndarrays is extremely slow. Please consider converting the list to a single numpy.ndarray with numpy.array() before converting to a tensor. (Triggered internally at ../torch/csrc/utils/tensor_new.cpp:230.)\n",
      "  (torch.FloatTensor(seq_vectors), torch.LongTensor(labels), len(seq_vectors))\n"
     ]
    },
    {
     "name": "stdout",
     "output_type": "stream",
     "text": [
      "\r",
      "\u001b[35mEpoch: \u001b[36m111/150 \u001b[35mStep: \u001b[36m 1/10 \u001b[35m 10.00% |\u001b[35m██                  \u001b[35m|\u001b[35mETA: \u001b[32m36.81s \u001b[35mval_loss:\u001b[94m 0.087998\u001b[35m val_acc:\u001b[94m 96.645699"
     ]
    },
    {
     "name": "stderr",
     "output_type": "stream",
     "text": [
      "<ipython-input-16-cd9c7a62e961>:25: UserWarning: Creating a tensor from a list of numpy.ndarrays is extremely slow. Please consider converting the list to a single numpy.ndarray with numpy.array() before converting to a tensor. (Triggered internally at ../torch/csrc/utils/tensor_new.cpp:230.)\n",
      "  (torch.FloatTensor(seq_vectors), torch.LongTensor(labels), len(seq_vectors))\n"
     ]
    },
    {
     "name": "stdout",
     "output_type": "stream",
     "text": [
      "\r",
      "\u001b[35mEpoch: \u001b[36m111/150 \u001b[35mStep: \u001b[36m 2/10 \u001b[35m 20.00% |\u001b[35m████                \u001b[35m|\u001b[35mETA: \u001b[32m12.79s \u001b[35mval_loss:\u001b[94m 0.109975\u001b[35m val_acc:\u001b[94m 95.670998"
     ]
    },
    {
     "name": "stderr",
     "output_type": "stream",
     "text": [
      "<ipython-input-16-cd9c7a62e961>:25: UserWarning: Creating a tensor from a list of numpy.ndarrays is extremely slow. Please consider converting the list to a single numpy.ndarray with numpy.array() before converting to a tensor. (Triggered internally at ../torch/csrc/utils/tensor_new.cpp:230.)\n",
      "  (torch.FloatTensor(seq_vectors), torch.LongTensor(labels), len(seq_vectors))\n"
     ]
    },
    {
     "name": "stdout",
     "output_type": "stream",
     "text": [
      "\u001b[35mEpoch: \u001b[36m111/150 \u001b[35mTrain steps: \u001b[36m38 \u001b[35mVal steps: \u001b[36m10 \u001b[32m49.03s \u001b[35mloss:\u001b[94m 0.136097\u001b[35m acc:\u001b[94m 95.955879\u001b[35m val_loss:\u001b[94m 0.114678\u001b[35m val_acc:\u001b[94m 96.037839\u001b[0m\n",
      "Epoch 111: val_loss improved from 0.11477 to 0.11468, saving file to ./checkpoint_epoch_111.ckpt\n"
     ]
    },
    {
     "name": "stderr",
     "output_type": "stream",
     "text": [
      "<ipython-input-16-cd9c7a62e961>:25: UserWarning: Creating a tensor from a list of numpy.ndarrays is extremely slow. Please consider converting the list to a single numpy.ndarray with numpy.array() before converting to a tensor. (Triggered internally at ../torch/csrc/utils/tensor_new.cpp:230.)\n",
      "  (torch.FloatTensor(seq_vectors), torch.LongTensor(labels), len(seq_vectors))\n",
      "<ipython-input-16-cd9c7a62e961>:25: UserWarning: Creating a tensor from a list of numpy.ndarrays is extremely slow. Please consider converting the list to a single numpy.ndarray with numpy.array() before converting to a tensor. (Triggered internally at ../torch/csrc/utils/tensor_new.cpp:230.)\n",
      "  (torch.FloatTensor(seq_vectors), torch.LongTensor(labels), len(seq_vectors))\n",
      "<ipython-input-16-cd9c7a62e961>:25: UserWarning: Creating a tensor from a list of numpy.ndarrays is extremely slow. Please consider converting the list to a single numpy.ndarray with numpy.array() before converting to a tensor. (Triggered internally at ../torch/csrc/utils/tensor_new.cpp:230.)\n",
      "  (torch.FloatTensor(seq_vectors), torch.LongTensor(labels), len(seq_vectors))\n",
      "<ipython-input-16-cd9c7a62e961>:25: UserWarning: Creating a tensor from a list of numpy.ndarrays is extremely slow. Please consider converting the list to a single numpy.ndarray with numpy.array() before converting to a tensor. (Triggered internally at ../torch/csrc/utils/tensor_new.cpp:230.)\n",
      "  (torch.FloatTensor(seq_vectors), torch.LongTensor(labels), len(seq_vectors))\n"
     ]
    },
    {
     "name": "stdout",
     "output_type": "stream",
     "text": [
      "\u001b[35mEpoch: \u001b[36m112/150 \u001b[35mStep: \u001b[36m38/38 \u001b[35m100.00% |\u001b[35m████████████████████\u001b[35m|\u001b[35mETA: \u001b[32m0.00s \u001b[35mloss:\u001b[94m 0.217857\u001b[35m acc:\u001b[94m 95.945946"
     ]
    },
    {
     "name": "stderr",
     "output_type": "stream",
     "text": [
      "<ipython-input-16-cd9c7a62e961>:25: UserWarning: Creating a tensor from a list of numpy.ndarrays is extremely slow. Please consider converting the list to a single numpy.ndarray with numpy.array() before converting to a tensor. (Triggered internally at ../torch/csrc/utils/tensor_new.cpp:230.)\n",
      "  (torch.FloatTensor(seq_vectors), torch.LongTensor(labels), len(seq_vectors))\n",
      "<ipython-input-16-cd9c7a62e961>:25: UserWarning: Creating a tensor from a list of numpy.ndarrays is extremely slow. Please consider converting the list to a single numpy.ndarray with numpy.array() before converting to a tensor. (Triggered internally at ../torch/csrc/utils/tensor_new.cpp:230.)\n",
      "  (torch.FloatTensor(seq_vectors), torch.LongTensor(labels), len(seq_vectors))\n",
      "<ipython-input-16-cd9c7a62e961>:25: UserWarning: Creating a tensor from a list of numpy.ndarrays is extremely slow. Please consider converting the list to a single numpy.ndarray with numpy.array() before converting to a tensor. (Triggered internally at ../torch/csrc/utils/tensor_new.cpp:230.)\n",
      "  (torch.FloatTensor(seq_vectors), torch.LongTensor(labels), len(seq_vectors))\n"
     ]
    },
    {
     "name": "stdout",
     "output_type": "stream",
     "text": [
      "\u001b[35mEpoch: \u001b[36m112/150 \u001b[35mStep: \u001b[36m 2/10 \u001b[35m 20.00% |\u001b[35m████                \u001b[35m|\u001b[35mETA: \u001b[32m13.18s \u001b[35mval_loss:\u001b[94m 0.119836\u001b[35m val_acc:\u001b[94m 95.670998"
     ]
    },
    {
     "name": "stderr",
     "output_type": "stream",
     "text": [
      "<ipython-input-16-cd9c7a62e961>:25: UserWarning: Creating a tensor from a list of numpy.ndarrays is extremely slow. Please consider converting the list to a single numpy.ndarray with numpy.array() before converting to a tensor. (Triggered internally at ../torch/csrc/utils/tensor_new.cpp:230.)\n",
      "  (torch.FloatTensor(seq_vectors), torch.LongTensor(labels), len(seq_vectors))\n"
     ]
    },
    {
     "name": "stdout",
     "output_type": "stream",
     "text": [
      "\u001b[35mEpoch: \u001b[36m112/150 \u001b[35mTrain steps: \u001b[36m38 \u001b[35mVal steps: \u001b[36m10 \u001b[32m45.62s \u001b[35mloss:\u001b[94m 0.134620\u001b[35m acc:\u001b[94m 96.111210\u001b[35m val_loss:\u001b[94m 0.111902\u001b[35m val_acc:\u001b[94m 96.183405\u001b[0m\n",
      "Epoch 112: val_loss improved from 0.11468 to 0.11190, saving file to ./checkpoint_epoch_112.ckpt\n"
     ]
    },
    {
     "name": "stderr",
     "output_type": "stream",
     "text": [
      "<ipython-input-16-cd9c7a62e961>:25: UserWarning: Creating a tensor from a list of numpy.ndarrays is extremely slow. Please consider converting the list to a single numpy.ndarray with numpy.array() before converting to a tensor. (Triggered internally at ../torch/csrc/utils/tensor_new.cpp:230.)\n",
      "  (torch.FloatTensor(seq_vectors), torch.LongTensor(labels), len(seq_vectors))\n",
      "<ipython-input-16-cd9c7a62e961>:25: UserWarning: Creating a tensor from a list of numpy.ndarrays is extremely slow. Please consider converting the list to a single numpy.ndarray with numpy.array() before converting to a tensor. (Triggered internally at ../torch/csrc/utils/tensor_new.cpp:230.)\n",
      "  (torch.FloatTensor(seq_vectors), torch.LongTensor(labels), len(seq_vectors))\n",
      "<ipython-input-16-cd9c7a62e961>:25: UserWarning: Creating a tensor from a list of numpy.ndarrays is extremely slow. Please consider converting the list to a single numpy.ndarray with numpy.array() before converting to a tensor. (Triggered internally at ../torch/csrc/utils/tensor_new.cpp:230.)\n",
      "  (torch.FloatTensor(seq_vectors), torch.LongTensor(labels), len(seq_vectors))\n",
      "<ipython-input-16-cd9c7a62e961>:25: UserWarning: Creating a tensor from a list of numpy.ndarrays is extremely slow. Please consider converting the list to a single numpy.ndarray with numpy.array() before converting to a tensor. (Triggered internally at ../torch/csrc/utils/tensor_new.cpp:230.)\n",
      "  (torch.FloatTensor(seq_vectors), torch.LongTensor(labels), len(seq_vectors))\n"
     ]
    },
    {
     "name": "stdout",
     "output_type": "stream",
     "text": [
      "\u001b[35mEpoch: \u001b[36m113/150 \u001b[35mStep: \u001b[36m38/38 \u001b[35m100.00% |\u001b[35m████████████████████\u001b[35m|\u001b[35mETA: \u001b[32m0.00s \u001b[35mloss:\u001b[94m 0.152499\u001b[35m acc:\u001b[94m 96.969696"
     ]
    },
    {
     "name": "stderr",
     "output_type": "stream",
     "text": [
      "<ipython-input-16-cd9c7a62e961>:25: UserWarning: Creating a tensor from a list of numpy.ndarrays is extremely slow. Please consider converting the list to a single numpy.ndarray with numpy.array() before converting to a tensor. (Triggered internally at ../torch/csrc/utils/tensor_new.cpp:230.)\n",
      "  (torch.FloatTensor(seq_vectors), torch.LongTensor(labels), len(seq_vectors))\n",
      "<ipython-input-16-cd9c7a62e961>:25: UserWarning: Creating a tensor from a list of numpy.ndarrays is extremely slow. Please consider converting the list to a single numpy.ndarray with numpy.array() before converting to a tensor. (Triggered internally at ../torch/csrc/utils/tensor_new.cpp:230.)\n",
      "  (torch.FloatTensor(seq_vectors), torch.LongTensor(labels), len(seq_vectors))\n",
      "<ipython-input-16-cd9c7a62e961>:25: UserWarning: Creating a tensor from a list of numpy.ndarrays is extremely slow. Please consider converting the list to a single numpy.ndarray with numpy.array() before converting to a tensor. (Triggered internally at ../torch/csrc/utils/tensor_new.cpp:230.)\n",
      "  (torch.FloatTensor(seq_vectors), torch.LongTensor(labels), len(seq_vectors))\n"
     ]
    },
    {
     "name": "stdout",
     "output_type": "stream",
     "text": [
      "\u001b[35mEpoch: \u001b[36m113/150 \u001b[35mStep: \u001b[36m 2/10 \u001b[35m 20.00% |\u001b[35m████                \u001b[35m|\u001b[35mETA: \u001b[32m14.15s \u001b[35mval_loss:\u001b[94m 0.108442\u001b[35m val_acc:\u001b[94m 96.320351"
     ]
    },
    {
     "name": "stderr",
     "output_type": "stream",
     "text": [
      "<ipython-input-16-cd9c7a62e961>:25: UserWarning: Creating a tensor from a list of numpy.ndarrays is extremely slow. Please consider converting the list to a single numpy.ndarray with numpy.array() before converting to a tensor. (Triggered internally at ../torch/csrc/utils/tensor_new.cpp:230.)\n",
      "  (torch.FloatTensor(seq_vectors), torch.LongTensor(labels), len(seq_vectors))\n"
     ]
    },
    {
     "name": "stdout",
     "output_type": "stream",
     "text": [
      "\u001b[35mEpoch: \u001b[36m113/150 \u001b[35mTrain steps: \u001b[36m38 \u001b[35mVal steps: \u001b[36m10 \u001b[32m45.90s \u001b[35mloss:\u001b[94m 0.135362\u001b[35m acc:\u001b[94m 96.120110\u001b[35m val_loss:\u001b[94m 0.111567\u001b[35m val_acc:\u001b[94m 96.215694\u001b[0m\n",
      "Epoch 113: val_loss improved from 0.11190 to 0.11157, saving file to ./checkpoint_epoch_113.ckpt\n"
     ]
    },
    {
     "name": "stderr",
     "output_type": "stream",
     "text": [
      "<ipython-input-16-cd9c7a62e961>:25: UserWarning: Creating a tensor from a list of numpy.ndarrays is extremely slow. Please consider converting the list to a single numpy.ndarray with numpy.array() before converting to a tensor. (Triggered internally at ../torch/csrc/utils/tensor_new.cpp:230.)\n",
      "  (torch.FloatTensor(seq_vectors), torch.LongTensor(labels), len(seq_vectors))\n",
      "<ipython-input-16-cd9c7a62e961>:25: UserWarning: Creating a tensor from a list of numpy.ndarrays is extremely slow. Please consider converting the list to a single numpy.ndarray with numpy.array() before converting to a tensor. (Triggered internally at ../torch/csrc/utils/tensor_new.cpp:230.)\n",
      "  (torch.FloatTensor(seq_vectors), torch.LongTensor(labels), len(seq_vectors))\n",
      "<ipython-input-16-cd9c7a62e961>:25: UserWarning: Creating a tensor from a list of numpy.ndarrays is extremely slow. Please consider converting the list to a single numpy.ndarray with numpy.array() before converting to a tensor. (Triggered internally at ../torch/csrc/utils/tensor_new.cpp:230.)\n",
      "  (torch.FloatTensor(seq_vectors), torch.LongTensor(labels), len(seq_vectors))\n",
      "<ipython-input-16-cd9c7a62e961>:25: UserWarning: Creating a tensor from a list of numpy.ndarrays is extremely slow. Please consider converting the list to a single numpy.ndarray with numpy.array() before converting to a tensor. (Triggered internally at ../torch/csrc/utils/tensor_new.cpp:230.)\n",
      "  (torch.FloatTensor(seq_vectors), torch.LongTensor(labels), len(seq_vectors))\n"
     ]
    },
    {
     "name": "stdout",
     "output_type": "stream",
     "text": [
      "\u001b[35mEpoch: \u001b[36m114/150 \u001b[35mStep: \u001b[36m38/38 \u001b[35m100.00% |\u001b[35m████████████████████\u001b[35m|\u001b[35mETA: \u001b[32m0.00s \u001b[35mloss:\u001b[94m 0.103119\u001b[35m acc:\u001b[94m 96.000000"
     ]
    },
    {
     "name": "stderr",
     "output_type": "stream",
     "text": [
      "<ipython-input-16-cd9c7a62e961>:25: UserWarning: Creating a tensor from a list of numpy.ndarrays is extremely slow. Please consider converting the list to a single numpy.ndarray with numpy.array() before converting to a tensor. (Triggered internally at ../torch/csrc/utils/tensor_new.cpp:230.)\n",
      "  (torch.FloatTensor(seq_vectors), torch.LongTensor(labels), len(seq_vectors))\n",
      "<ipython-input-16-cd9c7a62e961>:25: UserWarning: Creating a tensor from a list of numpy.ndarrays is extremely slow. Please consider converting the list to a single numpy.ndarray with numpy.array() before converting to a tensor. (Triggered internally at ../torch/csrc/utils/tensor_new.cpp:230.)\n",
      "  (torch.FloatTensor(seq_vectors), torch.LongTensor(labels), len(seq_vectors))\n",
      "<ipython-input-16-cd9c7a62e961>:25: UserWarning: Creating a tensor from a list of numpy.ndarrays is extremely slow. Please consider converting the list to a single numpy.ndarray with numpy.array() before converting to a tensor. (Triggered internally at ../torch/csrc/utils/tensor_new.cpp:230.)\n",
      "  (torch.FloatTensor(seq_vectors), torch.LongTensor(labels), len(seq_vectors))\n"
     ]
    },
    {
     "name": "stdout",
     "output_type": "stream",
     "text": [
      "\u001b[35mEpoch: \u001b[36m114/150 \u001b[35mStep: \u001b[36m 2/10 \u001b[35m 20.00% |\u001b[35m████                \u001b[35m|\u001b[35mETA: \u001b[32m13.50s \u001b[35mval_loss:\u001b[94m 0.097202\u001b[35m val_acc:\u001b[94m 96.536797"
     ]
    },
    {
     "name": "stderr",
     "output_type": "stream",
     "text": [
      "<ipython-input-16-cd9c7a62e961>:25: UserWarning: Creating a tensor from a list of numpy.ndarrays is extremely slow. Please consider converting the list to a single numpy.ndarray with numpy.array() before converting to a tensor. (Triggered internally at ../torch/csrc/utils/tensor_new.cpp:230.)\n",
      "  (torch.FloatTensor(seq_vectors), torch.LongTensor(labels), len(seq_vectors))\n"
     ]
    },
    {
     "name": "stdout",
     "output_type": "stream",
     "text": [
      "\u001b[35mEpoch: \u001b[36m114/150 \u001b[35mTrain steps: \u001b[36m38 \u001b[35mVal steps: \u001b[36m10 \u001b[32m48.31s \u001b[35mloss:\u001b[94m 0.133898\u001b[35m acc:\u001b[94m 96.118240\u001b[35m val_loss:\u001b[94m 0.110871\u001b[35m val_acc:\u001b[94m 96.547198\u001b[0m\n",
      "Epoch 114: val_loss improved from 0.11157 to 0.11087, saving file to ./checkpoint_epoch_114.ckpt\n"
     ]
    },
    {
     "name": "stderr",
     "output_type": "stream",
     "text": [
      "<ipython-input-16-cd9c7a62e961>:25: UserWarning: Creating a tensor from a list of numpy.ndarrays is extremely slow. Please consider converting the list to a single numpy.ndarray with numpy.array() before converting to a tensor. (Triggered internally at ../torch/csrc/utils/tensor_new.cpp:230.)\n",
      "  (torch.FloatTensor(seq_vectors), torch.LongTensor(labels), len(seq_vectors))\n",
      "<ipython-input-16-cd9c7a62e961>:25: UserWarning: Creating a tensor from a list of numpy.ndarrays is extremely slow. Please consider converting the list to a single numpy.ndarray with numpy.array() before converting to a tensor. (Triggered internally at ../torch/csrc/utils/tensor_new.cpp:230.)\n",
      "  (torch.FloatTensor(seq_vectors), torch.LongTensor(labels), len(seq_vectors))\n",
      "<ipython-input-16-cd9c7a62e961>:25: UserWarning: Creating a tensor from a list of numpy.ndarrays is extremely slow. Please consider converting the list to a single numpy.ndarray with numpy.array() before converting to a tensor. (Triggered internally at ../torch/csrc/utils/tensor_new.cpp:230.)\n",
      "  (torch.FloatTensor(seq_vectors), torch.LongTensor(labels), len(seq_vectors))\n",
      "<ipython-input-16-cd9c7a62e961>:25: UserWarning: Creating a tensor from a list of numpy.ndarrays is extremely slow. Please consider converting the list to a single numpy.ndarray with numpy.array() before converting to a tensor. (Triggered internally at ../torch/csrc/utils/tensor_new.cpp:230.)\n",
      "  (torch.FloatTensor(seq_vectors), torch.LongTensor(labels), len(seq_vectors))\n"
     ]
    },
    {
     "name": "stdout",
     "output_type": "stream",
     "text": [
      "\u001b[35mEpoch: \u001b[36m115/150 \u001b[35mStep: \u001b[36m38/38 \u001b[35m100.00% |\u001b[35m████████████████████\u001b[35m|\u001b[35mETA: \u001b[32m0.00s \u001b[35mloss:\u001b[94m 0.126783\u001b[35m acc:\u001b[94m 95.777779"
     ]
    },
    {
     "name": "stderr",
     "output_type": "stream",
     "text": [
      "<ipython-input-16-cd9c7a62e961>:25: UserWarning: Creating a tensor from a list of numpy.ndarrays is extremely slow. Please consider converting the list to a single numpy.ndarray with numpy.array() before converting to a tensor. (Triggered internally at ../torch/csrc/utils/tensor_new.cpp:230.)\n",
      "  (torch.FloatTensor(seq_vectors), torch.LongTensor(labels), len(seq_vectors))\n",
      "<ipython-input-16-cd9c7a62e961>:25: UserWarning: Creating a tensor from a list of numpy.ndarrays is extremely slow. Please consider converting the list to a single numpy.ndarray with numpy.array() before converting to a tensor. (Triggered internally at ../torch/csrc/utils/tensor_new.cpp:230.)\n",
      "  (torch.FloatTensor(seq_vectors), torch.LongTensor(labels), len(seq_vectors))\n",
      "<ipython-input-16-cd9c7a62e961>:25: UserWarning: Creating a tensor from a list of numpy.ndarrays is extremely slow. Please consider converting the list to a single numpy.ndarray with numpy.array() before converting to a tensor. (Triggered internally at ../torch/csrc/utils/tensor_new.cpp:230.)\n",
      "  (torch.FloatTensor(seq_vectors), torch.LongTensor(labels), len(seq_vectors))\n"
     ]
    },
    {
     "name": "stdout",
     "output_type": "stream",
     "text": [
      "\u001b[35mEpoch: \u001b[36m115/150 \u001b[35mStep: \u001b[36m 2/10 \u001b[35m 20.00% |\u001b[35m████                \u001b[35m|\u001b[35mETA: \u001b[32m12.85s \u001b[35mval_loss:\u001b[94m 0.144680\u001b[35m val_acc:\u001b[94m 95.021645"
     ]
    },
    {
     "name": "stderr",
     "output_type": "stream",
     "text": [
      "<ipython-input-16-cd9c7a62e961>:25: UserWarning: Creating a tensor from a list of numpy.ndarrays is extremely slow. Please consider converting the list to a single numpy.ndarray with numpy.array() before converting to a tensor. (Triggered internally at ../torch/csrc/utils/tensor_new.cpp:230.)\n",
      "  (torch.FloatTensor(seq_vectors), torch.LongTensor(labels), len(seq_vectors))\n"
     ]
    },
    {
     "name": "stdout",
     "output_type": "stream",
     "text": [
      "\u001b[35mEpoch: \u001b[36m115/150 \u001b[35mTrain steps: \u001b[36m38 \u001b[35mVal steps: \u001b[36m10 \u001b[32m45.55s \u001b[35mloss:\u001b[94m 0.133377\u001b[35m acc:\u001b[94m 96.068045\u001b[35m val_loss:\u001b[94m 0.126677\u001b[35m val_acc:\u001b[94m 95.597049\u001b[0m\n"
     ]
    },
    {
     "name": "stderr",
     "output_type": "stream",
     "text": [
      "<ipython-input-16-cd9c7a62e961>:25: UserWarning: Creating a tensor from a list of numpy.ndarrays is extremely slow. Please consider converting the list to a single numpy.ndarray with numpy.array() before converting to a tensor. (Triggered internally at ../torch/csrc/utils/tensor_new.cpp:230.)\n",
      "  (torch.FloatTensor(seq_vectors), torch.LongTensor(labels), len(seq_vectors))\n",
      "<ipython-input-16-cd9c7a62e961>:25: UserWarning: Creating a tensor from a list of numpy.ndarrays is extremely slow. Please consider converting the list to a single numpy.ndarray with numpy.array() before converting to a tensor. (Triggered internally at ../torch/csrc/utils/tensor_new.cpp:230.)\n",
      "  (torch.FloatTensor(seq_vectors), torch.LongTensor(labels), len(seq_vectors))\n",
      "<ipython-input-16-cd9c7a62e961>:25: UserWarning: Creating a tensor from a list of numpy.ndarrays is extremely slow. Please consider converting the list to a single numpy.ndarray with numpy.array() before converting to a tensor. (Triggered internally at ../torch/csrc/utils/tensor_new.cpp:230.)\n",
      "  (torch.FloatTensor(seq_vectors), torch.LongTensor(labels), len(seq_vectors))\n",
      "<ipython-input-16-cd9c7a62e961>:25: UserWarning: Creating a tensor from a list of numpy.ndarrays is extremely slow. Please consider converting the list to a single numpy.ndarray with numpy.array() before converting to a tensor. (Triggered internally at ../torch/csrc/utils/tensor_new.cpp:230.)\n",
      "  (torch.FloatTensor(seq_vectors), torch.LongTensor(labels), len(seq_vectors))\n"
     ]
    },
    {
     "name": "stdout",
     "output_type": "stream",
     "text": [
      "\u001b[35mEpoch: \u001b[36m116/150 \u001b[35mStep: \u001b[36m38/38 \u001b[35m100.00% |\u001b[35m████████████████████\u001b[35m|\u001b[35mETA: \u001b[32m0.00s \u001b[35mloss:\u001b[94m 0.095942\u001b[35m acc:\u001b[94m 96.853928"
     ]
    },
    {
     "name": "stderr",
     "output_type": "stream",
     "text": [
      "<ipython-input-16-cd9c7a62e961>:25: UserWarning: Creating a tensor from a list of numpy.ndarrays is extremely slow. Please consider converting the list to a single numpy.ndarray with numpy.array() before converting to a tensor. (Triggered internally at ../torch/csrc/utils/tensor_new.cpp:230.)\n",
      "  (torch.FloatTensor(seq_vectors), torch.LongTensor(labels), len(seq_vectors))\n",
      "<ipython-input-16-cd9c7a62e961>:25: UserWarning: Creating a tensor from a list of numpy.ndarrays is extremely slow. Please consider converting the list to a single numpy.ndarray with numpy.array() before converting to a tensor. (Triggered internally at ../torch/csrc/utils/tensor_new.cpp:230.)\n",
      "  (torch.FloatTensor(seq_vectors), torch.LongTensor(labels), len(seq_vectors))\n",
      "<ipython-input-16-cd9c7a62e961>:25: UserWarning: Creating a tensor from a list of numpy.ndarrays is extremely slow. Please consider converting the list to a single numpy.ndarray with numpy.array() before converting to a tensor. (Triggered internally at ../torch/csrc/utils/tensor_new.cpp:230.)\n",
      "  (torch.FloatTensor(seq_vectors), torch.LongTensor(labels), len(seq_vectors))\n"
     ]
    },
    {
     "name": "stdout",
     "output_type": "stream",
     "text": [
      "\u001b[35mEpoch: \u001b[36m116/150 \u001b[35mStep: \u001b[36m 2/10 \u001b[35m 20.00% |\u001b[35m████                \u001b[35m|\u001b[35mETA: \u001b[32m13.57s \u001b[35mval_loss:\u001b[94m 0.099815\u001b[35m val_acc:\u001b[94m 96.536797"
     ]
    },
    {
     "name": "stderr",
     "output_type": "stream",
     "text": [
      "<ipython-input-16-cd9c7a62e961>:25: UserWarning: Creating a tensor from a list of numpy.ndarrays is extremely slow. Please consider converting the list to a single numpy.ndarray with numpy.array() before converting to a tensor. (Triggered internally at ../torch/csrc/utils/tensor_new.cpp:230.)\n",
      "  (torch.FloatTensor(seq_vectors), torch.LongTensor(labels), len(seq_vectors))\n"
     ]
    },
    {
     "name": "stdout",
     "output_type": "stream",
     "text": [
      "\u001b[35mEpoch: \u001b[36m116/150 \u001b[35mTrain steps: \u001b[36m38 \u001b[35mVal steps: \u001b[36m10 \u001b[32m46.52s \u001b[35mloss:\u001b[94m 0.133692\u001b[35m acc:\u001b[94m 96.165582\u001b[35m val_loss:\u001b[94m 0.106555\u001b[35m val_acc:\u001b[94m 96.118903\u001b[0m\n",
      "Epoch 116: val_loss improved from 0.11087 to 0.10656, saving file to ./checkpoint_epoch_116.ckpt\n"
     ]
    },
    {
     "name": "stderr",
     "output_type": "stream",
     "text": [
      "<ipython-input-16-cd9c7a62e961>:25: UserWarning: Creating a tensor from a list of numpy.ndarrays is extremely slow. Please consider converting the list to a single numpy.ndarray with numpy.array() before converting to a tensor. (Triggered internally at ../torch/csrc/utils/tensor_new.cpp:230.)\n",
      "  (torch.FloatTensor(seq_vectors), torch.LongTensor(labels), len(seq_vectors))\n",
      "<ipython-input-16-cd9c7a62e961>:25: UserWarning: Creating a tensor from a list of numpy.ndarrays is extremely slow. Please consider converting the list to a single numpy.ndarray with numpy.array() before converting to a tensor. (Triggered internally at ../torch/csrc/utils/tensor_new.cpp:230.)\n",
      "  (torch.FloatTensor(seq_vectors), torch.LongTensor(labels), len(seq_vectors))\n",
      "<ipython-input-16-cd9c7a62e961>:25: UserWarning: Creating a tensor from a list of numpy.ndarrays is extremely slow. Please consider converting the list to a single numpy.ndarray with numpy.array() before converting to a tensor. (Triggered internally at ../torch/csrc/utils/tensor_new.cpp:230.)\n",
      "  (torch.FloatTensor(seq_vectors), torch.LongTensor(labels), len(seq_vectors))\n",
      "<ipython-input-16-cd9c7a62e961>:25: UserWarning: Creating a tensor from a list of numpy.ndarrays is extremely slow. Please consider converting the list to a single numpy.ndarray with numpy.array() before converting to a tensor. (Triggered internally at ../torch/csrc/utils/tensor_new.cpp:230.)\n",
      "  (torch.FloatTensor(seq_vectors), torch.LongTensor(labels), len(seq_vectors))\n"
     ]
    },
    {
     "name": "stdout",
     "output_type": "stream",
     "text": [
      "\u001b[35mEpoch: \u001b[36m117/150 \u001b[35mStep: \u001b[36m38/38 \u001b[35m100.00% |\u001b[35m████████████████████\u001b[35m|\u001b[35mETA: \u001b[32m0.00s \u001b[35mloss:\u001b[94m 0.192770\u001b[35m acc:\u001b[94m 96.606331"
     ]
    },
    {
     "name": "stderr",
     "output_type": "stream",
     "text": [
      "<ipython-input-16-cd9c7a62e961>:25: UserWarning: Creating a tensor from a list of numpy.ndarrays is extremely slow. Please consider converting the list to a single numpy.ndarray with numpy.array() before converting to a tensor. (Triggered internally at ../torch/csrc/utils/tensor_new.cpp:230.)\n",
      "  (torch.FloatTensor(seq_vectors), torch.LongTensor(labels), len(seq_vectors))\n",
      "<ipython-input-16-cd9c7a62e961>:25: UserWarning: Creating a tensor from a list of numpy.ndarrays is extremely slow. Please consider converting the list to a single numpy.ndarray with numpy.array() before converting to a tensor. (Triggered internally at ../torch/csrc/utils/tensor_new.cpp:230.)\n",
      "  (torch.FloatTensor(seq_vectors), torch.LongTensor(labels), len(seq_vectors))\n"
     ]
    },
    {
     "name": "stdout",
     "output_type": "stream",
     "text": [
      "\r",
      "\u001b[35mEpoch: \u001b[36m117/150 \u001b[35mStep: \u001b[36m 1/10 \u001b[35m 10.00% |\u001b[35m██                  \u001b[35m|\u001b[35mETA: \u001b[32m36.22s \u001b[35mval_loss:\u001b[94m 0.092439\u001b[35m val_acc:\u001b[94m 97.064987"
     ]
    },
    {
     "name": "stderr",
     "output_type": "stream",
     "text": [
      "<ipython-input-16-cd9c7a62e961>:25: UserWarning: Creating a tensor from a list of numpy.ndarrays is extremely slow. Please consider converting the list to a single numpy.ndarray with numpy.array() before converting to a tensor. (Triggered internally at ../torch/csrc/utils/tensor_new.cpp:230.)\n",
      "  (torch.FloatTensor(seq_vectors), torch.LongTensor(labels), len(seq_vectors))\n"
     ]
    },
    {
     "name": "stdout",
     "output_type": "stream",
     "text": [
      "\r",
      "\u001b[35mEpoch: \u001b[36m117/150 \u001b[35mStep: \u001b[36m 2/10 \u001b[35m 20.00% |\u001b[35m████                \u001b[35m|\u001b[35mETA: \u001b[32m12.65s \u001b[35mval_loss:\u001b[94m 0.134835\u001b[35m val_acc:\u001b[94m 95.454544"
     ]
    },
    {
     "name": "stderr",
     "output_type": "stream",
     "text": [
      "<ipython-input-16-cd9c7a62e961>:25: UserWarning: Creating a tensor from a list of numpy.ndarrays is extremely slow. Please consider converting the list to a single numpy.ndarray with numpy.array() before converting to a tensor. (Triggered internally at ../torch/csrc/utils/tensor_new.cpp:230.)\n",
      "  (torch.FloatTensor(seq_vectors), torch.LongTensor(labels), len(seq_vectors))\n"
     ]
    },
    {
     "name": "stdout",
     "output_type": "stream",
     "text": [
      "\u001b[35mEpoch: \u001b[36m117/150 \u001b[35mTrain steps: \u001b[36m38 \u001b[35mVal steps: \u001b[36m10 \u001b[32m48.10s \u001b[35mloss:\u001b[94m 0.134305\u001b[35m acc:\u001b[94m 96.043164\u001b[35m val_loss:\u001b[94m 0.118192\u001b[35m val_acc:\u001b[94m 95.867013\u001b[0m\n"
     ]
    },
    {
     "name": "stderr",
     "output_type": "stream",
     "text": [
      "<ipython-input-16-cd9c7a62e961>:25: UserWarning: Creating a tensor from a list of numpy.ndarrays is extremely slow. Please consider converting the list to a single numpy.ndarray with numpy.array() before converting to a tensor. (Triggered internally at ../torch/csrc/utils/tensor_new.cpp:230.)\n",
      "  (torch.FloatTensor(seq_vectors), torch.LongTensor(labels), len(seq_vectors))\n",
      "<ipython-input-16-cd9c7a62e961>:25: UserWarning: Creating a tensor from a list of numpy.ndarrays is extremely slow. Please consider converting the list to a single numpy.ndarray with numpy.array() before converting to a tensor. (Triggered internally at ../torch/csrc/utils/tensor_new.cpp:230.)\n",
      "  (torch.FloatTensor(seq_vectors), torch.LongTensor(labels), len(seq_vectors))\n",
      "<ipython-input-16-cd9c7a62e961>:25: UserWarning: Creating a tensor from a list of numpy.ndarrays is extremely slow. Please consider converting the list to a single numpy.ndarray with numpy.array() before converting to a tensor. (Triggered internally at ../torch/csrc/utils/tensor_new.cpp:230.)\n",
      "  (torch.FloatTensor(seq_vectors), torch.LongTensor(labels), len(seq_vectors))\n",
      "<ipython-input-16-cd9c7a62e961>:25: UserWarning: Creating a tensor from a list of numpy.ndarrays is extremely slow. Please consider converting the list to a single numpy.ndarray with numpy.array() before converting to a tensor. (Triggered internally at ../torch/csrc/utils/tensor_new.cpp:230.)\n",
      "  (torch.FloatTensor(seq_vectors), torch.LongTensor(labels), len(seq_vectors))\n"
     ]
    },
    {
     "name": "stdout",
     "output_type": "stream",
     "text": [
      "\u001b[35mEpoch: \u001b[36m118/150 \u001b[35mStep: \u001b[36m38/38 \u001b[35m100.00% |\u001b[35m████████████████████\u001b[35m|\u001b[35mETA: \u001b[32m0.00s \u001b[35mloss:\u001b[94m 0.108684\u001b[35m acc:\u001b[94m 96.304855"
     ]
    },
    {
     "name": "stderr",
     "output_type": "stream",
     "text": [
      "<ipython-input-16-cd9c7a62e961>:25: UserWarning: Creating a tensor from a list of numpy.ndarrays is extremely slow. Please consider converting the list to a single numpy.ndarray with numpy.array() before converting to a tensor. (Triggered internally at ../torch/csrc/utils/tensor_new.cpp:230.)\n",
      "  (torch.FloatTensor(seq_vectors), torch.LongTensor(labels), len(seq_vectors))\n",
      "<ipython-input-16-cd9c7a62e961>:25: UserWarning: Creating a tensor from a list of numpy.ndarrays is extremely slow. Please consider converting the list to a single numpy.ndarray with numpy.array() before converting to a tensor. (Triggered internally at ../torch/csrc/utils/tensor_new.cpp:230.)\n",
      "  (torch.FloatTensor(seq_vectors), torch.LongTensor(labels), len(seq_vectors))\n",
      "<ipython-input-16-cd9c7a62e961>:25: UserWarning: Creating a tensor from a list of numpy.ndarrays is extremely slow. Please consider converting the list to a single numpy.ndarray with numpy.array() before converting to a tensor. (Triggered internally at ../torch/csrc/utils/tensor_new.cpp:230.)\n",
      "  (torch.FloatTensor(seq_vectors), torch.LongTensor(labels), len(seq_vectors))\n"
     ]
    },
    {
     "name": "stdout",
     "output_type": "stream",
     "text": [
      "\u001b[35mEpoch: \u001b[36m118/150 \u001b[35mStep: \u001b[36m 2/10 \u001b[35m 20.00% |\u001b[35m████                \u001b[35m|\u001b[35mETA: \u001b[32m13.61s \u001b[35mval_loss:\u001b[94m 0.087370\u001b[35m val_acc:\u001b[94m 97.186150"
     ]
    },
    {
     "name": "stderr",
     "output_type": "stream",
     "text": [
      "<ipython-input-16-cd9c7a62e961>:25: UserWarning: Creating a tensor from a list of numpy.ndarrays is extremely slow. Please consider converting the list to a single numpy.ndarray with numpy.array() before converting to a tensor. (Triggered internally at ../torch/csrc/utils/tensor_new.cpp:230.)\n",
      "  (torch.FloatTensor(seq_vectors), torch.LongTensor(labels), len(seq_vectors))\n"
     ]
    },
    {
     "name": "stdout",
     "output_type": "stream",
     "text": [
      "\u001b[35mEpoch: \u001b[36m118/150 \u001b[35mTrain steps: \u001b[36m38 \u001b[35mVal steps: \u001b[36m10 \u001b[32m45.85s \u001b[35mloss:\u001b[94m 0.127874\u001b[35m acc:\u001b[94m 96.230558\u001b[35m val_loss:\u001b[94m 0.102308\u001b[35m val_acc:\u001b[94m 96.745414\u001b[0m\n",
      "Epoch 118: val_loss improved from 0.10656 to 0.10231, saving file to ./checkpoint_epoch_118.ckpt\n"
     ]
    },
    {
     "name": "stderr",
     "output_type": "stream",
     "text": [
      "<ipython-input-16-cd9c7a62e961>:25: UserWarning: Creating a tensor from a list of numpy.ndarrays is extremely slow. Please consider converting the list to a single numpy.ndarray with numpy.array() before converting to a tensor. (Triggered internally at ../torch/csrc/utils/tensor_new.cpp:230.)\n",
      "  (torch.FloatTensor(seq_vectors), torch.LongTensor(labels), len(seq_vectors))\n",
      "<ipython-input-16-cd9c7a62e961>:25: UserWarning: Creating a tensor from a list of numpy.ndarrays is extremely slow. Please consider converting the list to a single numpy.ndarray with numpy.array() before converting to a tensor. (Triggered internally at ../torch/csrc/utils/tensor_new.cpp:230.)\n",
      "  (torch.FloatTensor(seq_vectors), torch.LongTensor(labels), len(seq_vectors))\n",
      "<ipython-input-16-cd9c7a62e961>:25: UserWarning: Creating a tensor from a list of numpy.ndarrays is extremely slow. Please consider converting the list to a single numpy.ndarray with numpy.array() before converting to a tensor. (Triggered internally at ../torch/csrc/utils/tensor_new.cpp:230.)\n",
      "  (torch.FloatTensor(seq_vectors), torch.LongTensor(labels), len(seq_vectors))\n",
      "<ipython-input-16-cd9c7a62e961>:25: UserWarning: Creating a tensor from a list of numpy.ndarrays is extremely slow. Please consider converting the list to a single numpy.ndarray with numpy.array() before converting to a tensor. (Triggered internally at ../torch/csrc/utils/tensor_new.cpp:230.)\n",
      "  (torch.FloatTensor(seq_vectors), torch.LongTensor(labels), len(seq_vectors))\n"
     ]
    },
    {
     "name": "stdout",
     "output_type": "stream",
     "text": [
      "\u001b[35mEpoch: \u001b[36m119/150 \u001b[35mStep: \u001b[36m38/38 \u001b[35m100.00% |\u001b[35m████████████████████\u001b[35m|\u001b[35mETA: \u001b[32m0.00s \u001b[35mloss:\u001b[94m 0.072688\u001b[35m acc:\u001b[94m 97.362640"
     ]
    },
    {
     "name": "stderr",
     "output_type": "stream",
     "text": [
      "<ipython-input-16-cd9c7a62e961>:25: UserWarning: Creating a tensor from a list of numpy.ndarrays is extremely slow. Please consider converting the list to a single numpy.ndarray with numpy.array() before converting to a tensor. (Triggered internally at ../torch/csrc/utils/tensor_new.cpp:230.)\n",
      "  (torch.FloatTensor(seq_vectors), torch.LongTensor(labels), len(seq_vectors))\n",
      "<ipython-input-16-cd9c7a62e961>:25: UserWarning: Creating a tensor from a list of numpy.ndarrays is extremely slow. Please consider converting the list to a single numpy.ndarray with numpy.array() before converting to a tensor. (Triggered internally at ../torch/csrc/utils/tensor_new.cpp:230.)\n",
      "  (torch.FloatTensor(seq_vectors), torch.LongTensor(labels), len(seq_vectors))\n",
      "<ipython-input-16-cd9c7a62e961>:25: UserWarning: Creating a tensor from a list of numpy.ndarrays is extremely slow. Please consider converting the list to a single numpy.ndarray with numpy.array() before converting to a tensor. (Triggered internally at ../torch/csrc/utils/tensor_new.cpp:230.)\n",
      "  (torch.FloatTensor(seq_vectors), torch.LongTensor(labels), len(seq_vectors))\n"
     ]
    },
    {
     "name": "stdout",
     "output_type": "stream",
     "text": [
      "\u001b[35mEpoch: \u001b[36m119/150 \u001b[35mStep: \u001b[36m 2/10 \u001b[35m 20.00% |\u001b[35m████                \u001b[35m|\u001b[35mETA: \u001b[32m12.84s \u001b[35mval_loss:\u001b[94m 0.091125\u001b[35m val_acc:\u001b[94m 96.536797"
     ]
    },
    {
     "name": "stderr",
     "output_type": "stream",
     "text": [
      "<ipython-input-16-cd9c7a62e961>:25: UserWarning: Creating a tensor from a list of numpy.ndarrays is extremely slow. Please consider converting the list to a single numpy.ndarray with numpy.array() before converting to a tensor. (Triggered internally at ../torch/csrc/utils/tensor_new.cpp:230.)\n",
      "  (torch.FloatTensor(seq_vectors), torch.LongTensor(labels), len(seq_vectors))\n"
     ]
    },
    {
     "name": "stdout",
     "output_type": "stream",
     "text": [
      "\u001b[35mEpoch: \u001b[36m119/150 \u001b[35mTrain steps: \u001b[36m38 \u001b[35mVal steps: \u001b[36m10 \u001b[32m45.44s \u001b[35mloss:\u001b[94m 0.127760\u001b[35m acc:\u001b[94m 96.241468\u001b[35m val_loss:\u001b[94m 0.099629\u001b[35m val_acc:\u001b[94m 96.806421\u001b[0m\n",
      "Epoch 119: val_loss improved from 0.10231 to 0.09963, saving file to ./checkpoint_epoch_119.ckpt\n"
     ]
    },
    {
     "name": "stderr",
     "output_type": "stream",
     "text": [
      "<ipython-input-16-cd9c7a62e961>:25: UserWarning: Creating a tensor from a list of numpy.ndarrays is extremely slow. Please consider converting the list to a single numpy.ndarray with numpy.array() before converting to a tensor. (Triggered internally at ../torch/csrc/utils/tensor_new.cpp:230.)\n",
      "  (torch.FloatTensor(seq_vectors), torch.LongTensor(labels), len(seq_vectors))\n",
      "<ipython-input-16-cd9c7a62e961>:25: UserWarning: Creating a tensor from a list of numpy.ndarrays is extremely slow. Please consider converting the list to a single numpy.ndarray with numpy.array() before converting to a tensor. (Triggered internally at ../torch/csrc/utils/tensor_new.cpp:230.)\n",
      "  (torch.FloatTensor(seq_vectors), torch.LongTensor(labels), len(seq_vectors))\n",
      "<ipython-input-16-cd9c7a62e961>:25: UserWarning: Creating a tensor from a list of numpy.ndarrays is extremely slow. Please consider converting the list to a single numpy.ndarray with numpy.array() before converting to a tensor. (Triggered internally at ../torch/csrc/utils/tensor_new.cpp:230.)\n",
      "  (torch.FloatTensor(seq_vectors), torch.LongTensor(labels), len(seq_vectors))\n",
      "<ipython-input-16-cd9c7a62e961>:25: UserWarning: Creating a tensor from a list of numpy.ndarrays is extremely slow. Please consider converting the list to a single numpy.ndarray with numpy.array() before converting to a tensor. (Triggered internally at ../torch/csrc/utils/tensor_new.cpp:230.)\n",
      "  (torch.FloatTensor(seq_vectors), torch.LongTensor(labels), len(seq_vectors))\n"
     ]
    },
    {
     "name": "stdout",
     "output_type": "stream",
     "text": [
      "\u001b[35mEpoch: \u001b[36m120/150 \u001b[35mStep: \u001b[36m38/38 \u001b[35m100.00% |\u001b[35m████████████████████\u001b[35m|\u001b[35mETA: \u001b[32m0.00s \u001b[35mloss:\u001b[94m 0.113653\u001b[35m acc:\u001b[94m 96.444443"
     ]
    },
    {
     "name": "stderr",
     "output_type": "stream",
     "text": [
      "<ipython-input-16-cd9c7a62e961>:25: UserWarning: Creating a tensor from a list of numpy.ndarrays is extremely slow. Please consider converting the list to a single numpy.ndarray with numpy.array() before converting to a tensor. (Triggered internally at ../torch/csrc/utils/tensor_new.cpp:230.)\n",
      "  (torch.FloatTensor(seq_vectors), torch.LongTensor(labels), len(seq_vectors))\n",
      "<ipython-input-16-cd9c7a62e961>:25: UserWarning: Creating a tensor from a list of numpy.ndarrays is extremely slow. Please consider converting the list to a single numpy.ndarray with numpy.array() before converting to a tensor. (Triggered internally at ../torch/csrc/utils/tensor_new.cpp:230.)\n",
      "  (torch.FloatTensor(seq_vectors), torch.LongTensor(labels), len(seq_vectors))\n",
      "<ipython-input-16-cd9c7a62e961>:25: UserWarning: Creating a tensor from a list of numpy.ndarrays is extremely slow. Please consider converting the list to a single numpy.ndarray with numpy.array() before converting to a tensor. (Triggered internally at ../torch/csrc/utils/tensor_new.cpp:230.)\n",
      "  (torch.FloatTensor(seq_vectors), torch.LongTensor(labels), len(seq_vectors))\n"
     ]
    },
    {
     "name": "stdout",
     "output_type": "stream",
     "text": [
      "\u001b[35mEpoch: \u001b[36m120/150 \u001b[35mStep: \u001b[36m 2/10 \u001b[35m 20.00% |\u001b[35m████                \u001b[35m|\u001b[35mETA: \u001b[32m19.84s \u001b[35mval_loss:\u001b[94m 0.089099\u001b[35m val_acc:\u001b[94m 96.969696"
     ]
    },
    {
     "name": "stderr",
     "output_type": "stream",
     "text": [
      "<ipython-input-16-cd9c7a62e961>:25: UserWarning: Creating a tensor from a list of numpy.ndarrays is extremely slow. Please consider converting the list to a single numpy.ndarray with numpy.array() before converting to a tensor. (Triggered internally at ../torch/csrc/utils/tensor_new.cpp:230.)\n",
      "  (torch.FloatTensor(seq_vectors), torch.LongTensor(labels), len(seq_vectors))\n"
     ]
    },
    {
     "name": "stdout",
     "output_type": "stream",
     "text": [
      "\u001b[35mEpoch: \u001b[36m120/150 \u001b[35mTrain steps: \u001b[36m38 \u001b[35mVal steps: \u001b[36m10 \u001b[32m48.24s \u001b[35mloss:\u001b[94m 0.127428\u001b[35m acc:\u001b[94m 96.339575\u001b[35m val_loss:\u001b[94m 0.099040\u001b[35m val_acc:\u001b[94m 96.830424\u001b[0m\n",
      "Epoch 120: val_loss improved from 0.09963 to 0.09904, saving file to ./checkpoint_epoch_120.ckpt\n"
     ]
    },
    {
     "name": "stderr",
     "output_type": "stream",
     "text": [
      "<ipython-input-16-cd9c7a62e961>:25: UserWarning: Creating a tensor from a list of numpy.ndarrays is extremely slow. Please consider converting the list to a single numpy.ndarray with numpy.array() before converting to a tensor. (Triggered internally at ../torch/csrc/utils/tensor_new.cpp:230.)\n",
      "  (torch.FloatTensor(seq_vectors), torch.LongTensor(labels), len(seq_vectors))\n",
      "<ipython-input-16-cd9c7a62e961>:25: UserWarning: Creating a tensor from a list of numpy.ndarrays is extremely slow. Please consider converting the list to a single numpy.ndarray with numpy.array() before converting to a tensor. (Triggered internally at ../torch/csrc/utils/tensor_new.cpp:230.)\n",
      "  (torch.FloatTensor(seq_vectors), torch.LongTensor(labels), len(seq_vectors))\n",
      "<ipython-input-16-cd9c7a62e961>:25: UserWarning: Creating a tensor from a list of numpy.ndarrays is extremely slow. Please consider converting the list to a single numpy.ndarray with numpy.array() before converting to a tensor. (Triggered internally at ../torch/csrc/utils/tensor_new.cpp:230.)\n",
      "  (torch.FloatTensor(seq_vectors), torch.LongTensor(labels), len(seq_vectors))\n",
      "<ipython-input-16-cd9c7a62e961>:25: UserWarning: Creating a tensor from a list of numpy.ndarrays is extremely slow. Please consider converting the list to a single numpy.ndarray with numpy.array() before converting to a tensor. (Triggered internally at ../torch/csrc/utils/tensor_new.cpp:230.)\n",
      "  (torch.FloatTensor(seq_vectors), torch.LongTensor(labels), len(seq_vectors))\n"
     ]
    },
    {
     "name": "stdout",
     "output_type": "stream",
     "text": [
      "\u001b[35mEpoch: \u001b[36m121/150 \u001b[35mStep: \u001b[36m38/38 \u001b[35m100.00% |\u001b[35m████████████████████\u001b[35m|\u001b[35mETA: \u001b[32m0.00s \u001b[35mloss:\u001b[94m 0.106390\u001b[35m acc:\u001b[94m 95.973152"
     ]
    },
    {
     "name": "stderr",
     "output_type": "stream",
     "text": [
      "<ipython-input-16-cd9c7a62e961>:25: UserWarning: Creating a tensor from a list of numpy.ndarrays is extremely slow. Please consider converting the list to a single numpy.ndarray with numpy.array() before converting to a tensor. (Triggered internally at ../torch/csrc/utils/tensor_new.cpp:230.)\n",
      "  (torch.FloatTensor(seq_vectors), torch.LongTensor(labels), len(seq_vectors))\n",
      "<ipython-input-16-cd9c7a62e961>:25: UserWarning: Creating a tensor from a list of numpy.ndarrays is extremely slow. Please consider converting the list to a single numpy.ndarray with numpy.array() before converting to a tensor. (Triggered internally at ../torch/csrc/utils/tensor_new.cpp:230.)\n",
      "  (torch.FloatTensor(seq_vectors), torch.LongTensor(labels), len(seq_vectors))\n"
     ]
    },
    {
     "name": "stdout",
     "output_type": "stream",
     "text": [
      "\r",
      "\u001b[35mEpoch: \u001b[36m121/150 \u001b[35mStep: \u001b[36m 1/10 \u001b[35m 10.00% |\u001b[35m██                  \u001b[35m|\u001b[35mETA: \u001b[32m36.24s \u001b[35mval_loss:\u001b[94m 0.093109\u001b[35m val_acc:\u001b[94m 96.645699"
     ]
    },
    {
     "name": "stderr",
     "output_type": "stream",
     "text": [
      "<ipython-input-16-cd9c7a62e961>:25: UserWarning: Creating a tensor from a list of numpy.ndarrays is extremely slow. Please consider converting the list to a single numpy.ndarray with numpy.array() before converting to a tensor. (Triggered internally at ../torch/csrc/utils/tensor_new.cpp:230.)\n",
      "  (torch.FloatTensor(seq_vectors), torch.LongTensor(labels), len(seq_vectors))\n"
     ]
    },
    {
     "name": "stdout",
     "output_type": "stream",
     "text": [
      "\r",
      "\u001b[35mEpoch: \u001b[36m121/150 \u001b[35mStep: \u001b[36m 2/10 \u001b[35m 20.00% |\u001b[35m████                \u001b[35m|\u001b[35mETA: \u001b[32m13.34s \u001b[35mval_loss:\u001b[94m 0.133305\u001b[35m val_acc:\u001b[94m 95.021645"
     ]
    },
    {
     "name": "stderr",
     "output_type": "stream",
     "text": [
      "<ipython-input-16-cd9c7a62e961>:25: UserWarning: Creating a tensor from a list of numpy.ndarrays is extremely slow. Please consider converting the list to a single numpy.ndarray with numpy.array() before converting to a tensor. (Triggered internally at ../torch/csrc/utils/tensor_new.cpp:230.)\n",
      "  (torch.FloatTensor(seq_vectors), torch.LongTensor(labels), len(seq_vectors))\n"
     ]
    },
    {
     "name": "stdout",
     "output_type": "stream",
     "text": [
      "\u001b[35mEpoch: \u001b[36m121/150 \u001b[35mTrain steps: \u001b[36m38 \u001b[35mVal steps: \u001b[36m10 \u001b[32m45.16s \u001b[35mloss:\u001b[94m 0.124529\u001b[35m acc:\u001b[94m 96.453278\u001b[35m val_loss:\u001b[94m 0.123581\u001b[35m val_acc:\u001b[94m 95.996874\u001b[0m\n"
     ]
    },
    {
     "name": "stderr",
     "output_type": "stream",
     "text": [
      "<ipython-input-16-cd9c7a62e961>:25: UserWarning: Creating a tensor from a list of numpy.ndarrays is extremely slow. Please consider converting the list to a single numpy.ndarray with numpy.array() before converting to a tensor. (Triggered internally at ../torch/csrc/utils/tensor_new.cpp:230.)\n",
      "  (torch.FloatTensor(seq_vectors), torch.LongTensor(labels), len(seq_vectors))\n",
      "<ipython-input-16-cd9c7a62e961>:25: UserWarning: Creating a tensor from a list of numpy.ndarrays is extremely slow. Please consider converting the list to a single numpy.ndarray with numpy.array() before converting to a tensor. (Triggered internally at ../torch/csrc/utils/tensor_new.cpp:230.)\n",
      "  (torch.FloatTensor(seq_vectors), torch.LongTensor(labels), len(seq_vectors))\n",
      "<ipython-input-16-cd9c7a62e961>:25: UserWarning: Creating a tensor from a list of numpy.ndarrays is extremely slow. Please consider converting the list to a single numpy.ndarray with numpy.array() before converting to a tensor. (Triggered internally at ../torch/csrc/utils/tensor_new.cpp:230.)\n",
      "  (torch.FloatTensor(seq_vectors), torch.LongTensor(labels), len(seq_vectors))\n",
      "<ipython-input-16-cd9c7a62e961>:25: UserWarning: Creating a tensor from a list of numpy.ndarrays is extremely slow. Please consider converting the list to a single numpy.ndarray with numpy.array() before converting to a tensor. (Triggered internally at ../torch/csrc/utils/tensor_new.cpp:230.)\n",
      "  (torch.FloatTensor(seq_vectors), torch.LongTensor(labels), len(seq_vectors))\n"
     ]
    },
    {
     "name": "stdout",
     "output_type": "stream",
     "text": [
      "\u001b[35mEpoch: \u001b[36m122/150 \u001b[35mStep: \u001b[36m38/38 \u001b[35m100.00% |\u001b[35m████████████████████\u001b[35m|\u001b[35mETA: \u001b[32m0.00s \u001b[35mloss:\u001b[94m 0.160086\u001b[35m acc:\u001b[94m 95.777779"
     ]
    },
    {
     "name": "stderr",
     "output_type": "stream",
     "text": [
      "<ipython-input-16-cd9c7a62e961>:25: UserWarning: Creating a tensor from a list of numpy.ndarrays is extremely slow. Please consider converting the list to a single numpy.ndarray with numpy.array() before converting to a tensor. (Triggered internally at ../torch/csrc/utils/tensor_new.cpp:230.)\n",
      "  (torch.FloatTensor(seq_vectors), torch.LongTensor(labels), len(seq_vectors))\n"
     ]
    },
    {
     "name": "stdout",
     "output_type": "stream",
     "text": [
      "\r",
      "\u001b[35mEpoch: \u001b[36m122/150 \u001b[35mStep: \u001b[36m 1/10 \u001b[35m 10.00% |\u001b[35m██                  \u001b[35m|\u001b[35mETA: \u001b[32m34.14s \u001b[35mval_loss:\u001b[94m 0.088377\u001b[35m val_acc:\u001b[94m 97.274628"
     ]
    },
    {
     "name": "stderr",
     "output_type": "stream",
     "text": [
      "<ipython-input-16-cd9c7a62e961>:25: UserWarning: Creating a tensor from a list of numpy.ndarrays is extremely slow. Please consider converting the list to a single numpy.ndarray with numpy.array() before converting to a tensor. (Triggered internally at ../torch/csrc/utils/tensor_new.cpp:230.)\n",
      "  (torch.FloatTensor(seq_vectors), torch.LongTensor(labels), len(seq_vectors))\n",
      "<ipython-input-16-cd9c7a62e961>:25: UserWarning: Creating a tensor from a list of numpy.ndarrays is extremely slow. Please consider converting the list to a single numpy.ndarray with numpy.array() before converting to a tensor. (Triggered internally at ../torch/csrc/utils/tensor_new.cpp:230.)\n",
      "  (torch.FloatTensor(seq_vectors), torch.LongTensor(labels), len(seq_vectors))\n"
     ]
    },
    {
     "name": "stdout",
     "output_type": "stream",
     "text": [
      "\r",
      "\u001b[35mEpoch: \u001b[36m122/150 \u001b[35mStep: \u001b[36m 2/10 \u001b[35m 20.00% |\u001b[35m████                \u001b[35m|\u001b[35mETA: \u001b[32m12.96s \u001b[35mval_loss:\u001b[94m 0.084011\u001b[35m val_acc:\u001b[94m 97.402596"
     ]
    },
    {
     "name": "stderr",
     "output_type": "stream",
     "text": [
      "<ipython-input-16-cd9c7a62e961>:25: UserWarning: Creating a tensor from a list of numpy.ndarrays is extremely slow. Please consider converting the list to a single numpy.ndarray with numpy.array() before converting to a tensor. (Triggered internally at ../torch/csrc/utils/tensor_new.cpp:230.)\n",
      "  (torch.FloatTensor(seq_vectors), torch.LongTensor(labels), len(seq_vectors))\n"
     ]
    },
    {
     "name": "stdout",
     "output_type": "stream",
     "text": [
      "\u001b[35mEpoch: \u001b[36m122/150 \u001b[35mTrain steps: \u001b[36m38 \u001b[35mVal steps: \u001b[36m10 \u001b[32m45.98s \u001b[35mloss:\u001b[94m 0.128171\u001b[35m acc:\u001b[94m 96.433678\u001b[35m val_loss:\u001b[94m 0.102148\u001b[35m val_acc:\u001b[94m 96.521635\u001b[0m\n"
     ]
    },
    {
     "name": "stderr",
     "output_type": "stream",
     "text": [
      "<ipython-input-16-cd9c7a62e961>:25: UserWarning: Creating a tensor from a list of numpy.ndarrays is extremely slow. Please consider converting the list to a single numpy.ndarray with numpy.array() before converting to a tensor. (Triggered internally at ../torch/csrc/utils/tensor_new.cpp:230.)\n",
      "  (torch.FloatTensor(seq_vectors), torch.LongTensor(labels), len(seq_vectors))\n",
      "<ipython-input-16-cd9c7a62e961>:25: UserWarning: Creating a tensor from a list of numpy.ndarrays is extremely slow. Please consider converting the list to a single numpy.ndarray with numpy.array() before converting to a tensor. (Triggered internally at ../torch/csrc/utils/tensor_new.cpp:230.)\n",
      "  (torch.FloatTensor(seq_vectors), torch.LongTensor(labels), len(seq_vectors))\n",
      "<ipython-input-16-cd9c7a62e961>:25: UserWarning: Creating a tensor from a list of numpy.ndarrays is extremely slow. Please consider converting the list to a single numpy.ndarray with numpy.array() before converting to a tensor. (Triggered internally at ../torch/csrc/utils/tensor_new.cpp:230.)\n",
      "  (torch.FloatTensor(seq_vectors), torch.LongTensor(labels), len(seq_vectors))\n",
      "<ipython-input-16-cd9c7a62e961>:25: UserWarning: Creating a tensor from a list of numpy.ndarrays is extremely slow. Please consider converting the list to a single numpy.ndarray with numpy.array() before converting to a tensor. (Triggered internally at ../torch/csrc/utils/tensor_new.cpp:230.)\n",
      "  (torch.FloatTensor(seq_vectors), torch.LongTensor(labels), len(seq_vectors))\n"
     ]
    },
    {
     "name": "stdout",
     "output_type": "stream",
     "text": [
      "\u001b[35mEpoch: \u001b[36m123/150 \u001b[35mStep: \u001b[36m38/38 \u001b[35m100.00% |\u001b[35m████████████████████\u001b[35m|\u001b[35mETA: \u001b[32m0.00s \u001b[35mloss:\u001b[94m 0.239722\u001b[35m acc:\u001b[94m 95.045052"
     ]
    },
    {
     "name": "stderr",
     "output_type": "stream",
     "text": [
      "<ipython-input-16-cd9c7a62e961>:25: UserWarning: Creating a tensor from a list of numpy.ndarrays is extremely slow. Please consider converting the list to a single numpy.ndarray with numpy.array() before converting to a tensor. (Triggered internally at ../torch/csrc/utils/tensor_new.cpp:230.)\n",
      "  (torch.FloatTensor(seq_vectors), torch.LongTensor(labels), len(seq_vectors))\n",
      "<ipython-input-16-cd9c7a62e961>:25: UserWarning: Creating a tensor from a list of numpy.ndarrays is extremely slow. Please consider converting the list to a single numpy.ndarray with numpy.array() before converting to a tensor. (Triggered internally at ../torch/csrc/utils/tensor_new.cpp:230.)\n",
      "  (torch.FloatTensor(seq_vectors), torch.LongTensor(labels), len(seq_vectors))\n",
      "<ipython-input-16-cd9c7a62e961>:25: UserWarning: Creating a tensor from a list of numpy.ndarrays is extremely slow. Please consider converting the list to a single numpy.ndarray with numpy.array() before converting to a tensor. (Triggered internally at ../torch/csrc/utils/tensor_new.cpp:230.)\n",
      "  (torch.FloatTensor(seq_vectors), torch.LongTensor(labels), len(seq_vectors))\n"
     ]
    },
    {
     "name": "stdout",
     "output_type": "stream",
     "text": [
      "\u001b[35mEpoch: \u001b[36m123/150 \u001b[35mStep: \u001b[36m 2/10 \u001b[35m 20.00% |\u001b[35m████                \u001b[35m|\u001b[35mETA: \u001b[32m13.44s \u001b[35mval_loss:\u001b[94m 0.086527\u001b[35m val_acc:\u001b[94m 97.186150"
     ]
    },
    {
     "name": "stderr",
     "output_type": "stream",
     "text": [
      "<ipython-input-16-cd9c7a62e961>:25: UserWarning: Creating a tensor from a list of numpy.ndarrays is extremely slow. Please consider converting the list to a single numpy.ndarray with numpy.array() before converting to a tensor. (Triggered internally at ../torch/csrc/utils/tensor_new.cpp:230.)\n",
      "  (torch.FloatTensor(seq_vectors), torch.LongTensor(labels), len(seq_vectors))\n"
     ]
    },
    {
     "name": "stdout",
     "output_type": "stream",
     "text": [
      "\u001b[35mEpoch: \u001b[36m123/150 \u001b[35mTrain steps: \u001b[36m38 \u001b[35mVal steps: \u001b[36m10 \u001b[32m45.61s \u001b[35mloss:\u001b[94m 0.120720\u001b[35m acc:\u001b[94m 96.564860\u001b[35m val_loss:\u001b[94m 0.095411\u001b[35m val_acc:\u001b[94m 96.779309\u001b[0m\n",
      "Epoch 123: val_loss improved from 0.09904 to 0.09541, saving file to ./checkpoint_epoch_123.ckpt\n"
     ]
    },
    {
     "name": "stderr",
     "output_type": "stream",
     "text": [
      "<ipython-input-16-cd9c7a62e961>:25: UserWarning: Creating a tensor from a list of numpy.ndarrays is extremely slow. Please consider converting the list to a single numpy.ndarray with numpy.array() before converting to a tensor. (Triggered internally at ../torch/csrc/utils/tensor_new.cpp:230.)\n",
      "  (torch.FloatTensor(seq_vectors), torch.LongTensor(labels), len(seq_vectors))\n",
      "<ipython-input-16-cd9c7a62e961>:25: UserWarning: Creating a tensor from a list of numpy.ndarrays is extremely slow. Please consider converting the list to a single numpy.ndarray with numpy.array() before converting to a tensor. (Triggered internally at ../torch/csrc/utils/tensor_new.cpp:230.)\n",
      "  (torch.FloatTensor(seq_vectors), torch.LongTensor(labels), len(seq_vectors))\n",
      "<ipython-input-16-cd9c7a62e961>:25: UserWarning: Creating a tensor from a list of numpy.ndarrays is extremely slow. Please consider converting the list to a single numpy.ndarray with numpy.array() before converting to a tensor. (Triggered internally at ../torch/csrc/utils/tensor_new.cpp:230.)\n",
      "  (torch.FloatTensor(seq_vectors), torch.LongTensor(labels), len(seq_vectors))\n",
      "<ipython-input-16-cd9c7a62e961>:25: UserWarning: Creating a tensor from a list of numpy.ndarrays is extremely slow. Please consider converting the list to a single numpy.ndarray with numpy.array() before converting to a tensor. (Triggered internally at ../torch/csrc/utils/tensor_new.cpp:230.)\n",
      "  (torch.FloatTensor(seq_vectors), torch.LongTensor(labels), len(seq_vectors))\n"
     ]
    },
    {
     "name": "stdout",
     "output_type": "stream",
     "text": [
      "\u001b[35mEpoch: \u001b[36m124/150 \u001b[35mStep: \u001b[36m38/38 \u001b[35m100.00% |\u001b[35m████████████████████\u001b[35m|\u001b[35mETA: \u001b[32m0.00s \u001b[35mloss:\u001b[94m 0.099925\u001b[35m acc:\u001b[94m 96.519722"
     ]
    },
    {
     "name": "stderr",
     "output_type": "stream",
     "text": [
      "<ipython-input-16-cd9c7a62e961>:25: UserWarning: Creating a tensor from a list of numpy.ndarrays is extremely slow. Please consider converting the list to a single numpy.ndarray with numpy.array() before converting to a tensor. (Triggered internally at ../torch/csrc/utils/tensor_new.cpp:230.)\n",
      "  (torch.FloatTensor(seq_vectors), torch.LongTensor(labels), len(seq_vectors))\n",
      "<ipython-input-16-cd9c7a62e961>:25: UserWarning: Creating a tensor from a list of numpy.ndarrays is extremely slow. Please consider converting the list to a single numpy.ndarray with numpy.array() before converting to a tensor. (Triggered internally at ../torch/csrc/utils/tensor_new.cpp:230.)\n",
      "  (torch.FloatTensor(seq_vectors), torch.LongTensor(labels), len(seq_vectors))\n"
     ]
    },
    {
     "name": "stdout",
     "output_type": "stream",
     "text": [
      "\r",
      "\u001b[35mEpoch: \u001b[36m124/150 \u001b[35mStep: \u001b[36m 1/10 \u001b[35m 10.00% |\u001b[35m██                  \u001b[35m|\u001b[35mETA: \u001b[32m37.87s \u001b[35mval_loss:\u001b[94m 0.086812\u001b[35m val_acc:\u001b[94m 97.274628"
     ]
    },
    {
     "name": "stderr",
     "output_type": "stream",
     "text": [
      "<ipython-input-16-cd9c7a62e961>:25: UserWarning: Creating a tensor from a list of numpy.ndarrays is extremely slow. Please consider converting the list to a single numpy.ndarray with numpy.array() before converting to a tensor. (Triggered internally at ../torch/csrc/utils/tensor_new.cpp:230.)\n",
      "  (torch.FloatTensor(seq_vectors), torch.LongTensor(labels), len(seq_vectors))\n"
     ]
    },
    {
     "name": "stdout",
     "output_type": "stream",
     "text": [
      "\r",
      "\u001b[35mEpoch: \u001b[36m124/150 \u001b[35mStep: \u001b[36m 2/10 \u001b[35m 20.00% |\u001b[35m████                \u001b[35m|\u001b[35mETA: \u001b[32m14.29s \u001b[35mval_loss:\u001b[94m 0.090496\u001b[35m val_acc:\u001b[94m 96.969696"
     ]
    },
    {
     "name": "stderr",
     "output_type": "stream",
     "text": [
      "<ipython-input-16-cd9c7a62e961>:25: UserWarning: Creating a tensor from a list of numpy.ndarrays is extremely slow. Please consider converting the list to a single numpy.ndarray with numpy.array() before converting to a tensor. (Triggered internally at ../torch/csrc/utils/tensor_new.cpp:230.)\n",
      "  (torch.FloatTensor(seq_vectors), torch.LongTensor(labels), len(seq_vectors))\n"
     ]
    },
    {
     "name": "stdout",
     "output_type": "stream",
     "text": [
      "\u001b[35mEpoch: \u001b[36m124/150 \u001b[35mTrain steps: \u001b[36m38 \u001b[35mVal steps: \u001b[36m10 \u001b[32m48.79s \u001b[35mloss:\u001b[94m 0.121026\u001b[35m acc:\u001b[94m 96.481600\u001b[35m val_loss:\u001b[94m 0.103124\u001b[35m val_acc:\u001b[94m 97.024320\u001b[0m\n"
     ]
    },
    {
     "name": "stderr",
     "output_type": "stream",
     "text": [
      "<ipython-input-16-cd9c7a62e961>:25: UserWarning: Creating a tensor from a list of numpy.ndarrays is extremely slow. Please consider converting the list to a single numpy.ndarray with numpy.array() before converting to a tensor. (Triggered internally at ../torch/csrc/utils/tensor_new.cpp:230.)\n",
      "  (torch.FloatTensor(seq_vectors), torch.LongTensor(labels), len(seq_vectors))\n",
      "<ipython-input-16-cd9c7a62e961>:25: UserWarning: Creating a tensor from a list of numpy.ndarrays is extremely slow. Please consider converting the list to a single numpy.ndarray with numpy.array() before converting to a tensor. (Triggered internally at ../torch/csrc/utils/tensor_new.cpp:230.)\n",
      "  (torch.FloatTensor(seq_vectors), torch.LongTensor(labels), len(seq_vectors))\n",
      "<ipython-input-16-cd9c7a62e961>:25: UserWarning: Creating a tensor from a list of numpy.ndarrays is extremely slow. Please consider converting the list to a single numpy.ndarray with numpy.array() before converting to a tensor. (Triggered internally at ../torch/csrc/utils/tensor_new.cpp:230.)\n",
      "  (torch.FloatTensor(seq_vectors), torch.LongTensor(labels), len(seq_vectors))\n",
      "<ipython-input-16-cd9c7a62e961>:25: UserWarning: Creating a tensor from a list of numpy.ndarrays is extremely slow. Please consider converting the list to a single numpy.ndarray with numpy.array() before converting to a tensor. (Triggered internally at ../torch/csrc/utils/tensor_new.cpp:230.)\n",
      "  (torch.FloatTensor(seq_vectors), torch.LongTensor(labels), len(seq_vectors))\n"
     ]
    },
    {
     "name": "stdout",
     "output_type": "stream",
     "text": [
      "\u001b[35mEpoch: \u001b[36m125/150 \u001b[35mStep: \u001b[36m38/38 \u001b[35m100.00% |\u001b[35m████████████████████\u001b[35m|\u001b[35mETA: \u001b[32m0.00s \u001b[35mloss:\u001b[94m 0.099131\u001b[35m acc:\u001b[94m 97.303375"
     ]
    },
    {
     "name": "stderr",
     "output_type": "stream",
     "text": [
      "<ipython-input-16-cd9c7a62e961>:25: UserWarning: Creating a tensor from a list of numpy.ndarrays is extremely slow. Please consider converting the list to a single numpy.ndarray with numpy.array() before converting to a tensor. (Triggered internally at ../torch/csrc/utils/tensor_new.cpp:230.)\n",
      "  (torch.FloatTensor(seq_vectors), torch.LongTensor(labels), len(seq_vectors))\n",
      "<ipython-input-16-cd9c7a62e961>:25: UserWarning: Creating a tensor from a list of numpy.ndarrays is extremely slow. Please consider converting the list to a single numpy.ndarray with numpy.array() before converting to a tensor. (Triggered internally at ../torch/csrc/utils/tensor_new.cpp:230.)\n",
      "  (torch.FloatTensor(seq_vectors), torch.LongTensor(labels), len(seq_vectors))\n",
      "<ipython-input-16-cd9c7a62e961>:25: UserWarning: Creating a tensor from a list of numpy.ndarrays is extremely slow. Please consider converting the list to a single numpy.ndarray with numpy.array() before converting to a tensor. (Triggered internally at ../torch/csrc/utils/tensor_new.cpp:230.)\n",
      "  (torch.FloatTensor(seq_vectors), torch.LongTensor(labels), len(seq_vectors))\n"
     ]
    },
    {
     "name": "stdout",
     "output_type": "stream",
     "text": [
      "\u001b[35mEpoch: \u001b[36m125/150 \u001b[35mStep: \u001b[36m 2/10 \u001b[35m 20.00% |\u001b[35m████                \u001b[35m|\u001b[35mETA: \u001b[32m12.74s \u001b[35mval_loss:\u001b[94m 0.082508\u001b[35m val_acc:\u001b[94m 97.402596"
     ]
    },
    {
     "name": "stderr",
     "output_type": "stream",
     "text": [
      "<ipython-input-16-cd9c7a62e961>:25: UserWarning: Creating a tensor from a list of numpy.ndarrays is extremely slow. Please consider converting the list to a single numpy.ndarray with numpy.array() before converting to a tensor. (Triggered internally at ../torch/csrc/utils/tensor_new.cpp:230.)\n",
      "  (torch.FloatTensor(seq_vectors), torch.LongTensor(labels), len(seq_vectors))\n"
     ]
    },
    {
     "name": "stdout",
     "output_type": "stream",
     "text": [
      "\u001b[35mEpoch: \u001b[36m125/150 \u001b[35mTrain steps: \u001b[36m38 \u001b[35mVal steps: \u001b[36m10 \u001b[32m45.32s \u001b[35mloss:\u001b[94m 0.121490\u001b[35m acc:\u001b[94m 96.526422\u001b[35m val_loss:\u001b[94m 0.090354\u001b[35m val_acc:\u001b[94m 97.400100\u001b[0m\n",
      "Epoch 125: val_loss improved from 0.09541 to 0.09035, saving file to ./checkpoint_epoch_125.ckpt\n"
     ]
    },
    {
     "name": "stderr",
     "output_type": "stream",
     "text": [
      "<ipython-input-16-cd9c7a62e961>:25: UserWarning: Creating a tensor from a list of numpy.ndarrays is extremely slow. Please consider converting the list to a single numpy.ndarray with numpy.array() before converting to a tensor. (Triggered internally at ../torch/csrc/utils/tensor_new.cpp:230.)\n",
      "  (torch.FloatTensor(seq_vectors), torch.LongTensor(labels), len(seq_vectors))\n",
      "<ipython-input-16-cd9c7a62e961>:25: UserWarning: Creating a tensor from a list of numpy.ndarrays is extremely slow. Please consider converting the list to a single numpy.ndarray with numpy.array() before converting to a tensor. (Triggered internally at ../torch/csrc/utils/tensor_new.cpp:230.)\n",
      "  (torch.FloatTensor(seq_vectors), torch.LongTensor(labels), len(seq_vectors))\n",
      "<ipython-input-16-cd9c7a62e961>:25: UserWarning: Creating a tensor from a list of numpy.ndarrays is extremely slow. Please consider converting the list to a single numpy.ndarray with numpy.array() before converting to a tensor. (Triggered internally at ../torch/csrc/utils/tensor_new.cpp:230.)\n",
      "  (torch.FloatTensor(seq_vectors), torch.LongTensor(labels), len(seq_vectors))\n",
      "<ipython-input-16-cd9c7a62e961>:25: UserWarning: Creating a tensor from a list of numpy.ndarrays is extremely slow. Please consider converting the list to a single numpy.ndarray with numpy.array() before converting to a tensor. (Triggered internally at ../torch/csrc/utils/tensor_new.cpp:230.)\n",
      "  (torch.FloatTensor(seq_vectors), torch.LongTensor(labels), len(seq_vectors))\n"
     ]
    },
    {
     "name": "stdout",
     "output_type": "stream",
     "text": [
      "\u001b[35mEpoch: \u001b[36m126/150 \u001b[35mStep: \u001b[36m38/38 \u001b[35m100.00% |\u001b[35m████████████████████\u001b[35m|\u001b[35mETA: \u001b[32m0.00s \u001b[35mloss:\u001b[94m 0.150831\u001b[35m acc:\u001b[94m 97.241379"
     ]
    },
    {
     "name": "stderr",
     "output_type": "stream",
     "text": [
      "<ipython-input-16-cd9c7a62e961>:25: UserWarning: Creating a tensor from a list of numpy.ndarrays is extremely slow. Please consider converting the list to a single numpy.ndarray with numpy.array() before converting to a tensor. (Triggered internally at ../torch/csrc/utils/tensor_new.cpp:230.)\n",
      "  (torch.FloatTensor(seq_vectors), torch.LongTensor(labels), len(seq_vectors))\n",
      "<ipython-input-16-cd9c7a62e961>:25: UserWarning: Creating a tensor from a list of numpy.ndarrays is extremely slow. Please consider converting the list to a single numpy.ndarray with numpy.array() before converting to a tensor. (Triggered internally at ../torch/csrc/utils/tensor_new.cpp:230.)\n",
      "  (torch.FloatTensor(seq_vectors), torch.LongTensor(labels), len(seq_vectors))\n",
      "<ipython-input-16-cd9c7a62e961>:25: UserWarning: Creating a tensor from a list of numpy.ndarrays is extremely slow. Please consider converting the list to a single numpy.ndarray with numpy.array() before converting to a tensor. (Triggered internally at ../torch/csrc/utils/tensor_new.cpp:230.)\n",
      "  (torch.FloatTensor(seq_vectors), torch.LongTensor(labels), len(seq_vectors))\n"
     ]
    },
    {
     "name": "stdout",
     "output_type": "stream",
     "text": [
      "\u001b[35mEpoch: \u001b[36m126/150 \u001b[35mStep: \u001b[36m 2/10 \u001b[35m 20.00% |\u001b[35m████                \u001b[35m|\u001b[35mETA: \u001b[32m12.20s \u001b[35mval_loss:\u001b[94m 0.078934\u001b[35m val_acc:\u001b[94m 97.402596"
     ]
    },
    {
     "name": "stderr",
     "output_type": "stream",
     "text": [
      "<ipython-input-16-cd9c7a62e961>:25: UserWarning: Creating a tensor from a list of numpy.ndarrays is extremely slow. Please consider converting the list to a single numpy.ndarray with numpy.array() before converting to a tensor. (Triggered internally at ../torch/csrc/utils/tensor_new.cpp:230.)\n",
      "  (torch.FloatTensor(seq_vectors), torch.LongTensor(labels), len(seq_vectors))\n"
     ]
    },
    {
     "name": "stdout",
     "output_type": "stream",
     "text": [
      "\u001b[35mEpoch: \u001b[36m126/150 \u001b[35mTrain steps: \u001b[36m38 \u001b[35mVal steps: \u001b[36m10 \u001b[32m46.25s \u001b[35mloss:\u001b[94m 0.115810\u001b[35m acc:\u001b[94m 96.786097\u001b[35m val_loss:\u001b[94m 0.093256\u001b[35m val_acc:\u001b[94m 96.928416\u001b[0m\n"
     ]
    },
    {
     "name": "stderr",
     "output_type": "stream",
     "text": [
      "<ipython-input-16-cd9c7a62e961>:25: UserWarning: Creating a tensor from a list of numpy.ndarrays is extremely slow. Please consider converting the list to a single numpy.ndarray with numpy.array() before converting to a tensor. (Triggered internally at ../torch/csrc/utils/tensor_new.cpp:230.)\n",
      "  (torch.FloatTensor(seq_vectors), torch.LongTensor(labels), len(seq_vectors))\n",
      "<ipython-input-16-cd9c7a62e961>:25: UserWarning: Creating a tensor from a list of numpy.ndarrays is extremely slow. Please consider converting the list to a single numpy.ndarray with numpy.array() before converting to a tensor. (Triggered internally at ../torch/csrc/utils/tensor_new.cpp:230.)\n",
      "  (torch.FloatTensor(seq_vectors), torch.LongTensor(labels), len(seq_vectors))\n",
      "<ipython-input-16-cd9c7a62e961>:25: UserWarning: Creating a tensor from a list of numpy.ndarrays is extremely slow. Please consider converting the list to a single numpy.ndarray with numpy.array() before converting to a tensor. (Triggered internally at ../torch/csrc/utils/tensor_new.cpp:230.)\n",
      "  (torch.FloatTensor(seq_vectors), torch.LongTensor(labels), len(seq_vectors))\n",
      "<ipython-input-16-cd9c7a62e961>:25: UserWarning: Creating a tensor from a list of numpy.ndarrays is extremely slow. Please consider converting the list to a single numpy.ndarray with numpy.array() before converting to a tensor. (Triggered internally at ../torch/csrc/utils/tensor_new.cpp:230.)\n",
      "  (torch.FloatTensor(seq_vectors), torch.LongTensor(labels), len(seq_vectors))\n"
     ]
    },
    {
     "name": "stdout",
     "output_type": "stream",
     "text": [
      "\u001b[35mEpoch: \u001b[36m127/150 \u001b[35mStep: \u001b[36m38/38 \u001b[35m100.00% |\u001b[35m████████████████████\u001b[35m|\u001b[35mETA: \u001b[32m0.00s \u001b[35mloss:\u001b[94m 0.124672\u001b[35m acc:\u001b[94m 95.726494"
     ]
    },
    {
     "name": "stderr",
     "output_type": "stream",
     "text": [
      "<ipython-input-16-cd9c7a62e961>:25: UserWarning: Creating a tensor from a list of numpy.ndarrays is extremely slow. Please consider converting the list to a single numpy.ndarray with numpy.array() before converting to a tensor. (Triggered internally at ../torch/csrc/utils/tensor_new.cpp:230.)\n",
      "  (torch.FloatTensor(seq_vectors), torch.LongTensor(labels), len(seq_vectors))\n",
      "<ipython-input-16-cd9c7a62e961>:25: UserWarning: Creating a tensor from a list of numpy.ndarrays is extremely slow. Please consider converting the list to a single numpy.ndarray with numpy.array() before converting to a tensor. (Triggered internally at ../torch/csrc/utils/tensor_new.cpp:230.)\n",
      "  (torch.FloatTensor(seq_vectors), torch.LongTensor(labels), len(seq_vectors))\n",
      "<ipython-input-16-cd9c7a62e961>:25: UserWarning: Creating a tensor from a list of numpy.ndarrays is extremely slow. Please consider converting the list to a single numpy.ndarray with numpy.array() before converting to a tensor. (Triggered internally at ../torch/csrc/utils/tensor_new.cpp:230.)\n",
      "  (torch.FloatTensor(seq_vectors), torch.LongTensor(labels), len(seq_vectors))\n"
     ]
    },
    {
     "name": "stdout",
     "output_type": "stream",
     "text": [
      "\u001b[35mEpoch: \u001b[36m127/150 \u001b[35mStep: \u001b[36m 2/10 \u001b[35m 20.00% |\u001b[35m████                \u001b[35m|\u001b[35mETA: \u001b[32m14.08s \u001b[35mval_loss:\u001b[94m 0.070442\u001b[35m val_acc:\u001b[94m 98.701302"
     ]
    },
    {
     "name": "stderr",
     "output_type": "stream",
     "text": [
      "<ipython-input-16-cd9c7a62e961>:25: UserWarning: Creating a tensor from a list of numpy.ndarrays is extremely slow. Please consider converting the list to a single numpy.ndarray with numpy.array() before converting to a tensor. (Triggered internally at ../torch/csrc/utils/tensor_new.cpp:230.)\n",
      "  (torch.FloatTensor(seq_vectors), torch.LongTensor(labels), len(seq_vectors))\n"
     ]
    },
    {
     "name": "stdout",
     "output_type": "stream",
     "text": [
      "\u001b[35mEpoch: \u001b[36m127/150 \u001b[35mTrain steps: \u001b[36m38 \u001b[35mVal steps: \u001b[36m10 \u001b[32m48.62s \u001b[35mloss:\u001b[94m 0.116185\u001b[35m acc:\u001b[94m 96.746868\u001b[35m val_loss:\u001b[94m 0.092892\u001b[35m val_acc:\u001b[94m 97.432559\u001b[0m\n"
     ]
    },
    {
     "name": "stderr",
     "output_type": "stream",
     "text": [
      "<ipython-input-16-cd9c7a62e961>:25: UserWarning: Creating a tensor from a list of numpy.ndarrays is extremely slow. Please consider converting the list to a single numpy.ndarray with numpy.array() before converting to a tensor. (Triggered internally at ../torch/csrc/utils/tensor_new.cpp:230.)\n",
      "  (torch.FloatTensor(seq_vectors), torch.LongTensor(labels), len(seq_vectors))\n",
      "<ipython-input-16-cd9c7a62e961>:25: UserWarning: Creating a tensor from a list of numpy.ndarrays is extremely slow. Please consider converting the list to a single numpy.ndarray with numpy.array() before converting to a tensor. (Triggered internally at ../torch/csrc/utils/tensor_new.cpp:230.)\n",
      "  (torch.FloatTensor(seq_vectors), torch.LongTensor(labels), len(seq_vectors))\n",
      "<ipython-input-16-cd9c7a62e961>:25: UserWarning: Creating a tensor from a list of numpy.ndarrays is extremely slow. Please consider converting the list to a single numpy.ndarray with numpy.array() before converting to a tensor. (Triggered internally at ../torch/csrc/utils/tensor_new.cpp:230.)\n",
      "  (torch.FloatTensor(seq_vectors), torch.LongTensor(labels), len(seq_vectors))\n",
      "<ipython-input-16-cd9c7a62e961>:25: UserWarning: Creating a tensor from a list of numpy.ndarrays is extremely slow. Please consider converting the list to a single numpy.ndarray with numpy.array() before converting to a tensor. (Triggered internally at ../torch/csrc/utils/tensor_new.cpp:230.)\n",
      "  (torch.FloatTensor(seq_vectors), torch.LongTensor(labels), len(seq_vectors))\n"
     ]
    },
    {
     "name": "stdout",
     "output_type": "stream",
     "text": [
      "\u001b[35mEpoch: \u001b[36m128/150 \u001b[35mStep: \u001b[36m38/38 \u001b[35m100.00% |\u001b[35m████████████████████\u001b[35m|\u001b[35mETA: \u001b[32m0.00s \u001b[35mloss:\u001b[94m 0.080412\u001b[35m acc:\u001b[94m 97.792496"
     ]
    },
    {
     "name": "stderr",
     "output_type": "stream",
     "text": [
      "<ipython-input-16-cd9c7a62e961>:25: UserWarning: Creating a tensor from a list of numpy.ndarrays is extremely slow. Please consider converting the list to a single numpy.ndarray with numpy.array() before converting to a tensor. (Triggered internally at ../torch/csrc/utils/tensor_new.cpp:230.)\n",
      "  (torch.FloatTensor(seq_vectors), torch.LongTensor(labels), len(seq_vectors))\n",
      "<ipython-input-16-cd9c7a62e961>:25: UserWarning: Creating a tensor from a list of numpy.ndarrays is extremely slow. Please consider converting the list to a single numpy.ndarray with numpy.array() before converting to a tensor. (Triggered internally at ../torch/csrc/utils/tensor_new.cpp:230.)\n",
      "  (torch.FloatTensor(seq_vectors), torch.LongTensor(labels), len(seq_vectors))\n",
      "<ipython-input-16-cd9c7a62e961>:25: UserWarning: Creating a tensor from a list of numpy.ndarrays is extremely slow. Please consider converting the list to a single numpy.ndarray with numpy.array() before converting to a tensor. (Triggered internally at ../torch/csrc/utils/tensor_new.cpp:230.)\n",
      "  (torch.FloatTensor(seq_vectors), torch.LongTensor(labels), len(seq_vectors))\n"
     ]
    },
    {
     "name": "stdout",
     "output_type": "stream",
     "text": [
      "\u001b[35mEpoch: \u001b[36m128/150 \u001b[35mStep: \u001b[36m 2/10 \u001b[35m 20.00% |\u001b[35m████                \u001b[35m|\u001b[35mETA: \u001b[32m12.84s \u001b[35mval_loss:\u001b[94m 0.088822\u001b[35m val_acc:\u001b[94m 97.402596"
     ]
    },
    {
     "name": "stderr",
     "output_type": "stream",
     "text": [
      "<ipython-input-16-cd9c7a62e961>:25: UserWarning: Creating a tensor from a list of numpy.ndarrays is extremely slow. Please consider converting the list to a single numpy.ndarray with numpy.array() before converting to a tensor. (Triggered internally at ../torch/csrc/utils/tensor_new.cpp:230.)\n",
      "  (torch.FloatTensor(seq_vectors), torch.LongTensor(labels), len(seq_vectors))\n"
     ]
    },
    {
     "name": "stdout",
     "output_type": "stream",
     "text": [
      "\u001b[35mEpoch: \u001b[36m128/150 \u001b[35mTrain steps: \u001b[36m38 \u001b[35mVal steps: \u001b[36m10 \u001b[32m45.24s \u001b[35mloss:\u001b[94m 0.110856\u001b[35m acc:\u001b[94m 97.073584\u001b[35m val_loss:\u001b[94m 0.088632\u001b[35m val_acc:\u001b[94m 97.221680\u001b[0m\n",
      "Epoch 128: val_loss improved from 0.09035 to 0.08863, saving file to ./checkpoint_epoch_128.ckpt\n"
     ]
    },
    {
     "name": "stderr",
     "output_type": "stream",
     "text": [
      "<ipython-input-16-cd9c7a62e961>:25: UserWarning: Creating a tensor from a list of numpy.ndarrays is extremely slow. Please consider converting the list to a single numpy.ndarray with numpy.array() before converting to a tensor. (Triggered internally at ../torch/csrc/utils/tensor_new.cpp:230.)\n",
      "  (torch.FloatTensor(seq_vectors), torch.LongTensor(labels), len(seq_vectors))\n",
      "<ipython-input-16-cd9c7a62e961>:25: UserWarning: Creating a tensor from a list of numpy.ndarrays is extremely slow. Please consider converting the list to a single numpy.ndarray with numpy.array() before converting to a tensor. (Triggered internally at ../torch/csrc/utils/tensor_new.cpp:230.)\n",
      "  (torch.FloatTensor(seq_vectors), torch.LongTensor(labels), len(seq_vectors))\n",
      "<ipython-input-16-cd9c7a62e961>:25: UserWarning: Creating a tensor from a list of numpy.ndarrays is extremely slow. Please consider converting the list to a single numpy.ndarray with numpy.array() before converting to a tensor. (Triggered internally at ../torch/csrc/utils/tensor_new.cpp:230.)\n",
      "  (torch.FloatTensor(seq_vectors), torch.LongTensor(labels), len(seq_vectors))\n",
      "<ipython-input-16-cd9c7a62e961>:25: UserWarning: Creating a tensor from a list of numpy.ndarrays is extremely slow. Please consider converting the list to a single numpy.ndarray with numpy.array() before converting to a tensor. (Triggered internally at ../torch/csrc/utils/tensor_new.cpp:230.)\n",
      "  (torch.FloatTensor(seq_vectors), torch.LongTensor(labels), len(seq_vectors))\n"
     ]
    },
    {
     "name": "stdout",
     "output_type": "stream",
     "text": [
      "\u001b[35mEpoch: \u001b[36m129/150 \u001b[35mStep: \u001b[36m38/38 \u001b[35m100.00% |\u001b[35m████████████████████\u001b[35m|\u001b[35mETA: \u001b[32m0.00s \u001b[35mloss:\u001b[94m 0.121558\u001b[35m acc:\u001b[94m 97.161575"
     ]
    },
    {
     "name": "stderr",
     "output_type": "stream",
     "text": [
      "<ipython-input-16-cd9c7a62e961>:25: UserWarning: Creating a tensor from a list of numpy.ndarrays is extremely slow. Please consider converting the list to a single numpy.ndarray with numpy.array() before converting to a tensor. (Triggered internally at ../torch/csrc/utils/tensor_new.cpp:230.)\n",
      "  (torch.FloatTensor(seq_vectors), torch.LongTensor(labels), len(seq_vectors))\n",
      "<ipython-input-16-cd9c7a62e961>:25: UserWarning: Creating a tensor from a list of numpy.ndarrays is extremely slow. Please consider converting the list to a single numpy.ndarray with numpy.array() before converting to a tensor. (Triggered internally at ../torch/csrc/utils/tensor_new.cpp:230.)\n",
      "  (torch.FloatTensor(seq_vectors), torch.LongTensor(labels), len(seq_vectors))\n",
      "<ipython-input-16-cd9c7a62e961>:25: UserWarning: Creating a tensor from a list of numpy.ndarrays is extremely slow. Please consider converting the list to a single numpy.ndarray with numpy.array() before converting to a tensor. (Triggered internally at ../torch/csrc/utils/tensor_new.cpp:230.)\n",
      "  (torch.FloatTensor(seq_vectors), torch.LongTensor(labels), len(seq_vectors))\n"
     ]
    },
    {
     "name": "stdout",
     "output_type": "stream",
     "text": [
      "\u001b[35mEpoch: \u001b[36m129/150 \u001b[35mStep: \u001b[36m 2/10 \u001b[35m 20.00% |\u001b[35m████                \u001b[35m|\u001b[35mETA: \u001b[32m13.21s \u001b[35mval_loss:\u001b[94m 0.100242\u001b[35m val_acc:\u001b[94m 96.536797"
     ]
    },
    {
     "name": "stderr",
     "output_type": "stream",
     "text": [
      "<ipython-input-16-cd9c7a62e961>:25: UserWarning: Creating a tensor from a list of numpy.ndarrays is extremely slow. Please consider converting the list to a single numpy.ndarray with numpy.array() before converting to a tensor. (Triggered internally at ../torch/csrc/utils/tensor_new.cpp:230.)\n",
      "  (torch.FloatTensor(seq_vectors), torch.LongTensor(labels), len(seq_vectors))\n"
     ]
    },
    {
     "name": "stdout",
     "output_type": "stream",
     "text": [
      "\u001b[35mEpoch: \u001b[36m129/150 \u001b[35mTrain steps: \u001b[36m38 \u001b[35mVal steps: \u001b[36m10 \u001b[32m45.44s \u001b[35mloss:\u001b[94m 0.114038\u001b[35m acc:\u001b[94m 96.829390\u001b[35m val_loss:\u001b[94m 0.103984\u001b[35m val_acc:\u001b[94m 96.158346\u001b[0m\n"
     ]
    },
    {
     "name": "stderr",
     "output_type": "stream",
     "text": [
      "<ipython-input-16-cd9c7a62e961>:25: UserWarning: Creating a tensor from a list of numpy.ndarrays is extremely slow. Please consider converting the list to a single numpy.ndarray with numpy.array() before converting to a tensor. (Triggered internally at ../torch/csrc/utils/tensor_new.cpp:230.)\n",
      "  (torch.FloatTensor(seq_vectors), torch.LongTensor(labels), len(seq_vectors))\n",
      "<ipython-input-16-cd9c7a62e961>:25: UserWarning: Creating a tensor from a list of numpy.ndarrays is extremely slow. Please consider converting the list to a single numpy.ndarray with numpy.array() before converting to a tensor. (Triggered internally at ../torch/csrc/utils/tensor_new.cpp:230.)\n",
      "  (torch.FloatTensor(seq_vectors), torch.LongTensor(labels), len(seq_vectors))\n",
      "<ipython-input-16-cd9c7a62e961>:25: UserWarning: Creating a tensor from a list of numpy.ndarrays is extremely slow. Please consider converting the list to a single numpy.ndarray with numpy.array() before converting to a tensor. (Triggered internally at ../torch/csrc/utils/tensor_new.cpp:230.)\n",
      "  (torch.FloatTensor(seq_vectors), torch.LongTensor(labels), len(seq_vectors))\n",
      "<ipython-input-16-cd9c7a62e961>:25: UserWarning: Creating a tensor from a list of numpy.ndarrays is extremely slow. Please consider converting the list to a single numpy.ndarray with numpy.array() before converting to a tensor. (Triggered internally at ../torch/csrc/utils/tensor_new.cpp:230.)\n",
      "  (torch.FloatTensor(seq_vectors), torch.LongTensor(labels), len(seq_vectors))\n"
     ]
    },
    {
     "name": "stdout",
     "output_type": "stream",
     "text": [
      "\u001b[35mEpoch: \u001b[36m130/150 \u001b[35mStep: \u001b[36m38/38 \u001b[35m100.00% |\u001b[35m████████████████████\u001b[35m|\u001b[35mETA: \u001b[32m0.00s \u001b[35mloss:\u001b[94m 0.110820\u001b[35m acc:\u001b[94m 96.888885"
     ]
    },
    {
     "name": "stderr",
     "output_type": "stream",
     "text": [
      "<ipython-input-16-cd9c7a62e961>:25: UserWarning: Creating a tensor from a list of numpy.ndarrays is extremely slow. Please consider converting the list to a single numpy.ndarray with numpy.array() before converting to a tensor. (Triggered internally at ../torch/csrc/utils/tensor_new.cpp:230.)\n",
      "  (torch.FloatTensor(seq_vectors), torch.LongTensor(labels), len(seq_vectors))\n",
      "<ipython-input-16-cd9c7a62e961>:25: UserWarning: Creating a tensor from a list of numpy.ndarrays is extremely slow. Please consider converting the list to a single numpy.ndarray with numpy.array() before converting to a tensor. (Triggered internally at ../torch/csrc/utils/tensor_new.cpp:230.)\n",
      "  (torch.FloatTensor(seq_vectors), torch.LongTensor(labels), len(seq_vectors))\n",
      "<ipython-input-16-cd9c7a62e961>:25: UserWarning: Creating a tensor from a list of numpy.ndarrays is extremely slow. Please consider converting the list to a single numpy.ndarray with numpy.array() before converting to a tensor. (Triggered internally at ../torch/csrc/utils/tensor_new.cpp:230.)\n",
      "  (torch.FloatTensor(seq_vectors), torch.LongTensor(labels), len(seq_vectors))\n"
     ]
    },
    {
     "name": "stdout",
     "output_type": "stream",
     "text": [
      "\u001b[35mEpoch: \u001b[36m130/150 \u001b[35mStep: \u001b[36m 2/10 \u001b[35m 20.00% |\u001b[35m████                \u001b[35m|\u001b[35mETA: \u001b[32m12.96s \u001b[35mval_loss:\u001b[94m 0.096313\u001b[35m val_acc:\u001b[94m 96.536797"
     ]
    },
    {
     "name": "stderr",
     "output_type": "stream",
     "text": [
      "<ipython-input-16-cd9c7a62e961>:25: UserWarning: Creating a tensor from a list of numpy.ndarrays is extremely slow. Please consider converting the list to a single numpy.ndarray with numpy.array() before converting to a tensor. (Triggered internally at ../torch/csrc/utils/tensor_new.cpp:230.)\n",
      "  (torch.FloatTensor(seq_vectors), torch.LongTensor(labels), len(seq_vectors))\n"
     ]
    },
    {
     "name": "stdout",
     "output_type": "stream",
     "text": [
      "\u001b[35mEpoch: \u001b[36m130/150 \u001b[35mTrain steps: \u001b[36m38 \u001b[35mVal steps: \u001b[36m10 \u001b[32m47.67s \u001b[35mloss:\u001b[94m 0.116836\u001b[35m acc:\u001b[94m 96.792845\u001b[35m val_loss:\u001b[94m 0.094633\u001b[35m val_acc:\u001b[94m 96.549773\u001b[0m\n"
     ]
    },
    {
     "name": "stderr",
     "output_type": "stream",
     "text": [
      "<ipython-input-16-cd9c7a62e961>:25: UserWarning: Creating a tensor from a list of numpy.ndarrays is extremely slow. Please consider converting the list to a single numpy.ndarray with numpy.array() before converting to a tensor. (Triggered internally at ../torch/csrc/utils/tensor_new.cpp:230.)\n",
      "  (torch.FloatTensor(seq_vectors), torch.LongTensor(labels), len(seq_vectors))\n",
      "<ipython-input-16-cd9c7a62e961>:25: UserWarning: Creating a tensor from a list of numpy.ndarrays is extremely slow. Please consider converting the list to a single numpy.ndarray with numpy.array() before converting to a tensor. (Triggered internally at ../torch/csrc/utils/tensor_new.cpp:230.)\n",
      "  (torch.FloatTensor(seq_vectors), torch.LongTensor(labels), len(seq_vectors))\n",
      "<ipython-input-16-cd9c7a62e961>:25: UserWarning: Creating a tensor from a list of numpy.ndarrays is extremely slow. Please consider converting the list to a single numpy.ndarray with numpy.array() before converting to a tensor. (Triggered internally at ../torch/csrc/utils/tensor_new.cpp:230.)\n",
      "  (torch.FloatTensor(seq_vectors), torch.LongTensor(labels), len(seq_vectors))\n",
      "<ipython-input-16-cd9c7a62e961>:25: UserWarning: Creating a tensor from a list of numpy.ndarrays is extremely slow. Please consider converting the list to a single numpy.ndarray with numpy.array() before converting to a tensor. (Triggered internally at ../torch/csrc/utils/tensor_new.cpp:230.)\n",
      "  (torch.FloatTensor(seq_vectors), torch.LongTensor(labels), len(seq_vectors))\n"
     ]
    },
    {
     "name": "stdout",
     "output_type": "stream",
     "text": [
      "\u001b[35mEpoch: \u001b[36m131/150 \u001b[35mStep: \u001b[36m38/38 \u001b[35m100.00% |\u001b[35m████████████████████\u001b[35m|\u001b[35mETA: \u001b[32m0.00s \u001b[35mloss:\u001b[94m 0.130748\u001b[35m acc:\u001b[94m 96.247238"
     ]
    },
    {
     "name": "stderr",
     "output_type": "stream",
     "text": [
      "<ipython-input-16-cd9c7a62e961>:25: UserWarning: Creating a tensor from a list of numpy.ndarrays is extremely slow. Please consider converting the list to a single numpy.ndarray with numpy.array() before converting to a tensor. (Triggered internally at ../torch/csrc/utils/tensor_new.cpp:230.)\n",
      "  (torch.FloatTensor(seq_vectors), torch.LongTensor(labels), len(seq_vectors))\n",
      "<ipython-input-16-cd9c7a62e961>:25: UserWarning: Creating a tensor from a list of numpy.ndarrays is extremely slow. Please consider converting the list to a single numpy.ndarray with numpy.array() before converting to a tensor. (Triggered internally at ../torch/csrc/utils/tensor_new.cpp:230.)\n",
      "  (torch.FloatTensor(seq_vectors), torch.LongTensor(labels), len(seq_vectors))\n",
      "<ipython-input-16-cd9c7a62e961>:25: UserWarning: Creating a tensor from a list of numpy.ndarrays is extremely slow. Please consider converting the list to a single numpy.ndarray with numpy.array() before converting to a tensor. (Triggered internally at ../torch/csrc/utils/tensor_new.cpp:230.)\n",
      "  (torch.FloatTensor(seq_vectors), torch.LongTensor(labels), len(seq_vectors))\n"
     ]
    },
    {
     "name": "stdout",
     "output_type": "stream",
     "text": [
      "\u001b[35mEpoch: \u001b[36m131/150 \u001b[35mStep: \u001b[36m 2/10 \u001b[35m 20.00% |\u001b[35m████                \u001b[35m|\u001b[35mETA: \u001b[32m13.53s \u001b[35mval_loss:\u001b[94m 0.092362\u001b[35m val_acc:\u001b[94m 96.536797"
     ]
    },
    {
     "name": "stderr",
     "output_type": "stream",
     "text": [
      "<ipython-input-16-cd9c7a62e961>:25: UserWarning: Creating a tensor from a list of numpy.ndarrays is extremely slow. Please consider converting the list to a single numpy.ndarray with numpy.array() before converting to a tensor. (Triggered internally at ../torch/csrc/utils/tensor_new.cpp:230.)\n",
      "  (torch.FloatTensor(seq_vectors), torch.LongTensor(labels), len(seq_vectors))\n"
     ]
    },
    {
     "name": "stdout",
     "output_type": "stream",
     "text": [
      "\u001b[35mEpoch: \u001b[36m131/150 \u001b[35mTrain steps: \u001b[36m38 \u001b[35mVal steps: \u001b[36m10 \u001b[32m45.75s \u001b[35mloss:\u001b[94m 0.109598\u001b[35m acc:\u001b[94m 96.919049\u001b[35m val_loss:\u001b[94m 0.090630\u001b[35m val_acc:\u001b[94m 96.953868\u001b[0m\n"
     ]
    },
    {
     "name": "stderr",
     "output_type": "stream",
     "text": [
      "<ipython-input-16-cd9c7a62e961>:25: UserWarning: Creating a tensor from a list of numpy.ndarrays is extremely slow. Please consider converting the list to a single numpy.ndarray with numpy.array() before converting to a tensor. (Triggered internally at ../torch/csrc/utils/tensor_new.cpp:230.)\n",
      "  (torch.FloatTensor(seq_vectors), torch.LongTensor(labels), len(seq_vectors))\n",
      "<ipython-input-16-cd9c7a62e961>:25: UserWarning: Creating a tensor from a list of numpy.ndarrays is extremely slow. Please consider converting the list to a single numpy.ndarray with numpy.array() before converting to a tensor. (Triggered internally at ../torch/csrc/utils/tensor_new.cpp:230.)\n",
      "  (torch.FloatTensor(seq_vectors), torch.LongTensor(labels), len(seq_vectors))\n",
      "<ipython-input-16-cd9c7a62e961>:25: UserWarning: Creating a tensor from a list of numpy.ndarrays is extremely slow. Please consider converting the list to a single numpy.ndarray with numpy.array() before converting to a tensor. (Triggered internally at ../torch/csrc/utils/tensor_new.cpp:230.)\n",
      "  (torch.FloatTensor(seq_vectors), torch.LongTensor(labels), len(seq_vectors))\n",
      "<ipython-input-16-cd9c7a62e961>:25: UserWarning: Creating a tensor from a list of numpy.ndarrays is extremely slow. Please consider converting the list to a single numpy.ndarray with numpy.array() before converting to a tensor. (Triggered internally at ../torch/csrc/utils/tensor_new.cpp:230.)\n",
      "  (torch.FloatTensor(seq_vectors), torch.LongTensor(labels), len(seq_vectors))\n"
     ]
    },
    {
     "name": "stdout",
     "output_type": "stream",
     "text": [
      "\u001b[35mEpoch: \u001b[36m132/150 \u001b[35mStep: \u001b[36m38/38 \u001b[35m100.00% |\u001b[35m████████████████████\u001b[35m|\u001b[35mETA: \u001b[32m0.00s \u001b[35mloss:\u001b[94m 0.069583\u001b[35m acc:\u001b[94m 98.430489"
     ]
    },
    {
     "name": "stderr",
     "output_type": "stream",
     "text": [
      "<ipython-input-16-cd9c7a62e961>:25: UserWarning: Creating a tensor from a list of numpy.ndarrays is extremely slow. Please consider converting the list to a single numpy.ndarray with numpy.array() before converting to a tensor. (Triggered internally at ../torch/csrc/utils/tensor_new.cpp:230.)\n",
      "  (torch.FloatTensor(seq_vectors), torch.LongTensor(labels), len(seq_vectors))\n",
      "<ipython-input-16-cd9c7a62e961>:25: UserWarning: Creating a tensor from a list of numpy.ndarrays is extremely slow. Please consider converting the list to a single numpy.ndarray with numpy.array() before converting to a tensor. (Triggered internally at ../torch/csrc/utils/tensor_new.cpp:230.)\n",
      "  (torch.FloatTensor(seq_vectors), torch.LongTensor(labels), len(seq_vectors))\n",
      "<ipython-input-16-cd9c7a62e961>:25: UserWarning: Creating a tensor from a list of numpy.ndarrays is extremely slow. Please consider converting the list to a single numpy.ndarray with numpy.array() before converting to a tensor. (Triggered internally at ../torch/csrc/utils/tensor_new.cpp:230.)\n",
      "  (torch.FloatTensor(seq_vectors), torch.LongTensor(labels), len(seq_vectors))\n"
     ]
    },
    {
     "name": "stdout",
     "output_type": "stream",
     "text": [
      "\u001b[35mEpoch: \u001b[36m132/150 \u001b[35mStep: \u001b[36m 2/10 \u001b[35m 20.00% |\u001b[35m████                \u001b[35m|\u001b[35mETA: \u001b[32m13.02s \u001b[35mval_loss:\u001b[94m 0.090792\u001b[35m val_acc:\u001b[94m 96.969696"
     ]
    },
    {
     "name": "stderr",
     "output_type": "stream",
     "text": [
      "<ipython-input-16-cd9c7a62e961>:25: UserWarning: Creating a tensor from a list of numpy.ndarrays is extremely slow. Please consider converting the list to a single numpy.ndarray with numpy.array() before converting to a tensor. (Triggered internally at ../torch/csrc/utils/tensor_new.cpp:230.)\n",
      "  (torch.FloatTensor(seq_vectors), torch.LongTensor(labels), len(seq_vectors))\n"
     ]
    },
    {
     "name": "stdout",
     "output_type": "stream",
     "text": [
      "\u001b[35mEpoch: \u001b[36m132/150 \u001b[35mTrain steps: \u001b[36m38 \u001b[35mVal steps: \u001b[36m10 \u001b[32m45.67s \u001b[35mloss:\u001b[94m 0.108445\u001b[35m acc:\u001b[94m 97.034587\u001b[35m val_loss:\u001b[94m 0.086869\u001b[35m val_acc:\u001b[94m 97.155020\u001b[0m\n",
      "Epoch 132: val_loss improved from 0.08863 to 0.08687, saving file to ./checkpoint_epoch_132.ckpt\n"
     ]
    },
    {
     "name": "stderr",
     "output_type": "stream",
     "text": [
      "<ipython-input-16-cd9c7a62e961>:25: UserWarning: Creating a tensor from a list of numpy.ndarrays is extremely slow. Please consider converting the list to a single numpy.ndarray with numpy.array() before converting to a tensor. (Triggered internally at ../torch/csrc/utils/tensor_new.cpp:230.)\n",
      "  (torch.FloatTensor(seq_vectors), torch.LongTensor(labels), len(seq_vectors))\n",
      "<ipython-input-16-cd9c7a62e961>:25: UserWarning: Creating a tensor from a list of numpy.ndarrays is extremely slow. Please consider converting the list to a single numpy.ndarray with numpy.array() before converting to a tensor. (Triggered internally at ../torch/csrc/utils/tensor_new.cpp:230.)\n",
      "  (torch.FloatTensor(seq_vectors), torch.LongTensor(labels), len(seq_vectors))\n",
      "<ipython-input-16-cd9c7a62e961>:25: UserWarning: Creating a tensor from a list of numpy.ndarrays is extremely slow. Please consider converting the list to a single numpy.ndarray with numpy.array() before converting to a tensor. (Triggered internally at ../torch/csrc/utils/tensor_new.cpp:230.)\n",
      "  (torch.FloatTensor(seq_vectors), torch.LongTensor(labels), len(seq_vectors))\n",
      "<ipython-input-16-cd9c7a62e961>:25: UserWarning: Creating a tensor from a list of numpy.ndarrays is extremely slow. Please consider converting the list to a single numpy.ndarray with numpy.array() before converting to a tensor. (Triggered internally at ../torch/csrc/utils/tensor_new.cpp:230.)\n",
      "  (torch.FloatTensor(seq_vectors), torch.LongTensor(labels), len(seq_vectors))\n"
     ]
    },
    {
     "name": "stdout",
     "output_type": "stream",
     "text": [
      "\u001b[35mEpoch: \u001b[36m133/150 \u001b[35mStep: \u001b[36m38/38 \u001b[35m100.00% |\u001b[35m████████████████████\u001b[35m|\u001b[35mETA: \u001b[32m0.00s \u001b[35mloss:\u001b[94m 0.074882\u001b[35m acc:\u001b[94m 97.528091"
     ]
    },
    {
     "name": "stderr",
     "output_type": "stream",
     "text": [
      "<ipython-input-16-cd9c7a62e961>:25: UserWarning: Creating a tensor from a list of numpy.ndarrays is extremely slow. Please consider converting the list to a single numpy.ndarray with numpy.array() before converting to a tensor. (Triggered internally at ../torch/csrc/utils/tensor_new.cpp:230.)\n",
      "  (torch.FloatTensor(seq_vectors), torch.LongTensor(labels), len(seq_vectors))\n",
      "<ipython-input-16-cd9c7a62e961>:25: UserWarning: Creating a tensor from a list of numpy.ndarrays is extremely slow. Please consider converting the list to a single numpy.ndarray with numpy.array() before converting to a tensor. (Triggered internally at ../torch/csrc/utils/tensor_new.cpp:230.)\n",
      "  (torch.FloatTensor(seq_vectors), torch.LongTensor(labels), len(seq_vectors))\n",
      "<ipython-input-16-cd9c7a62e961>:25: UserWarning: Creating a tensor from a list of numpy.ndarrays is extremely slow. Please consider converting the list to a single numpy.ndarray with numpy.array() before converting to a tensor. (Triggered internally at ../torch/csrc/utils/tensor_new.cpp:230.)\n",
      "  (torch.FloatTensor(seq_vectors), torch.LongTensor(labels), len(seq_vectors))\n"
     ]
    },
    {
     "name": "stdout",
     "output_type": "stream",
     "text": [
      "\u001b[35mEpoch: \u001b[36m133/150 \u001b[35mStep: \u001b[36m 2/10 \u001b[35m 20.00% |\u001b[35m████                \u001b[35m|\u001b[35mETA: \u001b[32m12.81s \u001b[35mval_loss:\u001b[94m 0.073274\u001b[35m val_acc:\u001b[94m 97.835503"
     ]
    },
    {
     "name": "stderr",
     "output_type": "stream",
     "text": [
      "<ipython-input-16-cd9c7a62e961>:25: UserWarning: Creating a tensor from a list of numpy.ndarrays is extremely slow. Please consider converting the list to a single numpy.ndarray with numpy.array() before converting to a tensor. (Triggered internally at ../torch/csrc/utils/tensor_new.cpp:230.)\n",
      "  (torch.FloatTensor(seq_vectors), torch.LongTensor(labels), len(seq_vectors))\n"
     ]
    },
    {
     "name": "stdout",
     "output_type": "stream",
     "text": [
      "\u001b[35mEpoch: \u001b[36m133/150 \u001b[35mTrain steps: \u001b[36m38 \u001b[35mVal steps: \u001b[36m10 \u001b[32m47.50s \u001b[35mloss:\u001b[94m 0.108403\u001b[35m acc:\u001b[94m 97.181216\u001b[35m val_loss:\u001b[94m 0.090573\u001b[35m val_acc:\u001b[94m 96.843546\u001b[0m\n"
     ]
    },
    {
     "name": "stderr",
     "output_type": "stream",
     "text": [
      "<ipython-input-16-cd9c7a62e961>:25: UserWarning: Creating a tensor from a list of numpy.ndarrays is extremely slow. Please consider converting the list to a single numpy.ndarray with numpy.array() before converting to a tensor. (Triggered internally at ../torch/csrc/utils/tensor_new.cpp:230.)\n",
      "  (torch.FloatTensor(seq_vectors), torch.LongTensor(labels), len(seq_vectors))\n",
      "<ipython-input-16-cd9c7a62e961>:25: UserWarning: Creating a tensor from a list of numpy.ndarrays is extremely slow. Please consider converting the list to a single numpy.ndarray with numpy.array() before converting to a tensor. (Triggered internally at ../torch/csrc/utils/tensor_new.cpp:230.)\n",
      "  (torch.FloatTensor(seq_vectors), torch.LongTensor(labels), len(seq_vectors))\n",
      "<ipython-input-16-cd9c7a62e961>:25: UserWarning: Creating a tensor from a list of numpy.ndarrays is extremely slow. Please consider converting the list to a single numpy.ndarray with numpy.array() before converting to a tensor. (Triggered internally at ../torch/csrc/utils/tensor_new.cpp:230.)\n",
      "  (torch.FloatTensor(seq_vectors), torch.LongTensor(labels), len(seq_vectors))\n",
      "<ipython-input-16-cd9c7a62e961>:25: UserWarning: Creating a tensor from a list of numpy.ndarrays is extremely slow. Please consider converting the list to a single numpy.ndarray with numpy.array() before converting to a tensor. (Triggered internally at ../torch/csrc/utils/tensor_new.cpp:230.)\n",
      "  (torch.FloatTensor(seq_vectors), torch.LongTensor(labels), len(seq_vectors))\n"
     ]
    },
    {
     "name": "stdout",
     "output_type": "stream",
     "text": [
      "\u001b[35mEpoch: \u001b[36m134/150 \u001b[35mStep: \u001b[36m38/38 \u001b[35m100.00% |\u001b[35m████████████████████\u001b[35m|\u001b[35mETA: \u001b[32m0.00s \u001b[35mloss:\u001b[94m 0.109018\u001b[35m acc:\u001b[94m 96.179779"
     ]
    },
    {
     "name": "stderr",
     "output_type": "stream",
     "text": [
      "<ipython-input-16-cd9c7a62e961>:25: UserWarning: Creating a tensor from a list of numpy.ndarrays is extremely slow. Please consider converting the list to a single numpy.ndarray with numpy.array() before converting to a tensor. (Triggered internally at ../torch/csrc/utils/tensor_new.cpp:230.)\n",
      "  (torch.FloatTensor(seq_vectors), torch.LongTensor(labels), len(seq_vectors))\n",
      "<ipython-input-16-cd9c7a62e961>:25: UserWarning: Creating a tensor from a list of numpy.ndarrays is extremely slow. Please consider converting the list to a single numpy.ndarray with numpy.array() before converting to a tensor. (Triggered internally at ../torch/csrc/utils/tensor_new.cpp:230.)\n",
      "  (torch.FloatTensor(seq_vectors), torch.LongTensor(labels), len(seq_vectors))\n",
      "<ipython-input-16-cd9c7a62e961>:25: UserWarning: Creating a tensor from a list of numpy.ndarrays is extremely slow. Please consider converting the list to a single numpy.ndarray with numpy.array() before converting to a tensor. (Triggered internally at ../torch/csrc/utils/tensor_new.cpp:230.)\n",
      "  (torch.FloatTensor(seq_vectors), torch.LongTensor(labels), len(seq_vectors))\n"
     ]
    },
    {
     "name": "stdout",
     "output_type": "stream",
     "text": [
      "\u001b[35mEpoch: \u001b[36m134/150 \u001b[35mStep: \u001b[36m 2/10 \u001b[35m 20.00% |\u001b[35m████                \u001b[35m|\u001b[35mETA: \u001b[32m12.55s \u001b[35mval_loss:\u001b[94m 0.071907\u001b[35m val_acc:\u001b[94m 97.619041"
     ]
    },
    {
     "name": "stderr",
     "output_type": "stream",
     "text": [
      "<ipython-input-16-cd9c7a62e961>:25: UserWarning: Creating a tensor from a list of numpy.ndarrays is extremely slow. Please consider converting the list to a single numpy.ndarray with numpy.array() before converting to a tensor. (Triggered internally at ../torch/csrc/utils/tensor_new.cpp:230.)\n",
      "  (torch.FloatTensor(seq_vectors), torch.LongTensor(labels), len(seq_vectors))\n"
     ]
    },
    {
     "name": "stdout",
     "output_type": "stream",
     "text": [
      "\u001b[35mEpoch: \u001b[36m134/150 \u001b[35mTrain steps: \u001b[36m38 \u001b[35mVal steps: \u001b[36m10 \u001b[32m45.48s \u001b[35mloss:\u001b[94m 0.106313\u001b[35m acc:\u001b[94m 97.089292\u001b[35m val_loss:\u001b[94m 0.087238\u001b[35m val_acc:\u001b[94m 97.464004\u001b[0m\n"
     ]
    },
    {
     "name": "stderr",
     "output_type": "stream",
     "text": [
      "<ipython-input-16-cd9c7a62e961>:25: UserWarning: Creating a tensor from a list of numpy.ndarrays is extremely slow. Please consider converting the list to a single numpy.ndarray with numpy.array() before converting to a tensor. (Triggered internally at ../torch/csrc/utils/tensor_new.cpp:230.)\n",
      "  (torch.FloatTensor(seq_vectors), torch.LongTensor(labels), len(seq_vectors))\n",
      "<ipython-input-16-cd9c7a62e961>:25: UserWarning: Creating a tensor from a list of numpy.ndarrays is extremely slow. Please consider converting the list to a single numpy.ndarray with numpy.array() before converting to a tensor. (Triggered internally at ../torch/csrc/utils/tensor_new.cpp:230.)\n",
      "  (torch.FloatTensor(seq_vectors), torch.LongTensor(labels), len(seq_vectors))\n",
      "<ipython-input-16-cd9c7a62e961>:25: UserWarning: Creating a tensor from a list of numpy.ndarrays is extremely slow. Please consider converting the list to a single numpy.ndarray with numpy.array() before converting to a tensor. (Triggered internally at ../torch/csrc/utils/tensor_new.cpp:230.)\n",
      "  (torch.FloatTensor(seq_vectors), torch.LongTensor(labels), len(seq_vectors))\n",
      "<ipython-input-16-cd9c7a62e961>:25: UserWarning: Creating a tensor from a list of numpy.ndarrays is extremely slow. Please consider converting the list to a single numpy.ndarray with numpy.array() before converting to a tensor. (Triggered internally at ../torch/csrc/utils/tensor_new.cpp:230.)\n",
      "  (torch.FloatTensor(seq_vectors), torch.LongTensor(labels), len(seq_vectors))\n"
     ]
    },
    {
     "name": "stdout",
     "output_type": "stream",
     "text": [
      "\u001b[35mEpoch: \u001b[36m135/150 \u001b[35mStep: \u001b[36m38/38 \u001b[35m100.00% |\u001b[35m████████████████████\u001b[35m|\u001b[35mETA: \u001b[32m0.00s \u001b[35mloss:\u001b[94m 0.101391\u001b[35m acc:\u001b[94m 96.188339"
     ]
    },
    {
     "name": "stderr",
     "output_type": "stream",
     "text": [
      "<ipython-input-16-cd9c7a62e961>:25: UserWarning: Creating a tensor from a list of numpy.ndarrays is extremely slow. Please consider converting the list to a single numpy.ndarray with numpy.array() before converting to a tensor. (Triggered internally at ../torch/csrc/utils/tensor_new.cpp:230.)\n",
      "  (torch.FloatTensor(seq_vectors), torch.LongTensor(labels), len(seq_vectors))\n",
      "<ipython-input-16-cd9c7a62e961>:25: UserWarning: Creating a tensor from a list of numpy.ndarrays is extremely slow. Please consider converting the list to a single numpy.ndarray with numpy.array() before converting to a tensor. (Triggered internally at ../torch/csrc/utils/tensor_new.cpp:230.)\n",
      "  (torch.FloatTensor(seq_vectors), torch.LongTensor(labels), len(seq_vectors))\n"
     ]
    },
    {
     "name": "stdout",
     "output_type": "stream",
     "text": [
      "\r",
      "\u001b[35mEpoch: \u001b[36m135/150 \u001b[35mStep: \u001b[36m 1/10 \u001b[35m 10.00% |\u001b[35m██                  \u001b[35m|\u001b[35mETA: \u001b[32m34.65s \u001b[35mval_loss:\u001b[94m 0.075236\u001b[35m val_acc:\u001b[94m 97.693924"
     ]
    },
    {
     "name": "stderr",
     "output_type": "stream",
     "text": [
      "<ipython-input-16-cd9c7a62e961>:25: UserWarning: Creating a tensor from a list of numpy.ndarrays is extremely slow. Please consider converting the list to a single numpy.ndarray with numpy.array() before converting to a tensor. (Triggered internally at ../torch/csrc/utils/tensor_new.cpp:230.)\n",
      "  (torch.FloatTensor(seq_vectors), torch.LongTensor(labels), len(seq_vectors))\n"
     ]
    },
    {
     "name": "stdout",
     "output_type": "stream",
     "text": [
      "\r",
      "\u001b[35mEpoch: \u001b[36m135/150 \u001b[35mStep: \u001b[36m 2/10 \u001b[35m 20.00% |\u001b[35m████                \u001b[35m|\u001b[35mETA: \u001b[32m13.21s \u001b[35mval_loss:\u001b[94m 0.062155\u001b[35m val_acc:\u001b[94m 98.917747"
     ]
    },
    {
     "name": "stderr",
     "output_type": "stream",
     "text": [
      "<ipython-input-16-cd9c7a62e961>:25: UserWarning: Creating a tensor from a list of numpy.ndarrays is extremely slow. Please consider converting the list to a single numpy.ndarray with numpy.array() before converting to a tensor. (Triggered internally at ../torch/csrc/utils/tensor_new.cpp:230.)\n",
      "  (torch.FloatTensor(seq_vectors), torch.LongTensor(labels), len(seq_vectors))\n"
     ]
    },
    {
     "name": "stdout",
     "output_type": "stream",
     "text": [
      "\u001b[35mEpoch: \u001b[36m135/150 \u001b[35mTrain steps: \u001b[36m38 \u001b[35mVal steps: \u001b[36m10 \u001b[32m45.25s \u001b[35mloss:\u001b[94m 0.104785\u001b[35m acc:\u001b[94m 97.153153\u001b[35m val_loss:\u001b[94m 0.084797\u001b[35m val_acc:\u001b[94m 97.581827\u001b[0m\n",
      "Epoch 135: val_loss improved from 0.08687 to 0.08480, saving file to ./checkpoint_epoch_135.ckpt\n"
     ]
    },
    {
     "name": "stderr",
     "output_type": "stream",
     "text": [
      "<ipython-input-16-cd9c7a62e961>:25: UserWarning: Creating a tensor from a list of numpy.ndarrays is extremely slow. Please consider converting the list to a single numpy.ndarray with numpy.array() before converting to a tensor. (Triggered internally at ../torch/csrc/utils/tensor_new.cpp:230.)\n",
      "  (torch.FloatTensor(seq_vectors), torch.LongTensor(labels), len(seq_vectors))\n",
      "<ipython-input-16-cd9c7a62e961>:25: UserWarning: Creating a tensor from a list of numpy.ndarrays is extremely slow. Please consider converting the list to a single numpy.ndarray with numpy.array() before converting to a tensor. (Triggered internally at ../torch/csrc/utils/tensor_new.cpp:230.)\n",
      "  (torch.FloatTensor(seq_vectors), torch.LongTensor(labels), len(seq_vectors))\n",
      "<ipython-input-16-cd9c7a62e961>:25: UserWarning: Creating a tensor from a list of numpy.ndarrays is extremely slow. Please consider converting the list to a single numpy.ndarray with numpy.array() before converting to a tensor. (Triggered internally at ../torch/csrc/utils/tensor_new.cpp:230.)\n",
      "  (torch.FloatTensor(seq_vectors), torch.LongTensor(labels), len(seq_vectors))\n",
      "<ipython-input-16-cd9c7a62e961>:25: UserWarning: Creating a tensor from a list of numpy.ndarrays is extremely slow. Please consider converting the list to a single numpy.ndarray with numpy.array() before converting to a tensor. (Triggered internally at ../torch/csrc/utils/tensor_new.cpp:230.)\n",
      "  (torch.FloatTensor(seq_vectors), torch.LongTensor(labels), len(seq_vectors))\n"
     ]
    },
    {
     "name": "stdout",
     "output_type": "stream",
     "text": [
      "\u001b[35mEpoch: \u001b[36m136/150 \u001b[35mStep: \u001b[36m38/38 \u001b[35m100.00% |\u001b[35m████████████████████\u001b[35m|\u001b[35mETA: \u001b[32m0.00s \u001b[35mloss:\u001b[94m 0.130640\u001b[35m acc:\u001b[94m 97.058823"
     ]
    },
    {
     "name": "stderr",
     "output_type": "stream",
     "text": [
      "<ipython-input-16-cd9c7a62e961>:25: UserWarning: Creating a tensor from a list of numpy.ndarrays is extremely slow. Please consider converting the list to a single numpy.ndarray with numpy.array() before converting to a tensor. (Triggered internally at ../torch/csrc/utils/tensor_new.cpp:230.)\n",
      "  (torch.FloatTensor(seq_vectors), torch.LongTensor(labels), len(seq_vectors))\n",
      "<ipython-input-16-cd9c7a62e961>:25: UserWarning: Creating a tensor from a list of numpy.ndarrays is extremely slow. Please consider converting the list to a single numpy.ndarray with numpy.array() before converting to a tensor. (Triggered internally at ../torch/csrc/utils/tensor_new.cpp:230.)\n",
      "  (torch.FloatTensor(seq_vectors), torch.LongTensor(labels), len(seq_vectors))\n",
      "<ipython-input-16-cd9c7a62e961>:25: UserWarning: Creating a tensor from a list of numpy.ndarrays is extremely slow. Please consider converting the list to a single numpy.ndarray with numpy.array() before converting to a tensor. (Triggered internally at ../torch/csrc/utils/tensor_new.cpp:230.)\n",
      "  (torch.FloatTensor(seq_vectors), torch.LongTensor(labels), len(seq_vectors))\n"
     ]
    },
    {
     "name": "stdout",
     "output_type": "stream",
     "text": [
      "\u001b[35mEpoch: \u001b[36m136/150 \u001b[35mStep: \u001b[36m 2/10 \u001b[35m 20.00% |\u001b[35m████                \u001b[35m|\u001b[35mETA: \u001b[32m12.42s \u001b[35mval_loss:\u001b[94m 0.062026\u001b[35m val_acc:\u001b[94m 98.917747"
     ]
    },
    {
     "name": "stderr",
     "output_type": "stream",
     "text": [
      "<ipython-input-16-cd9c7a62e961>:25: UserWarning: Creating a tensor from a list of numpy.ndarrays is extremely slow. Please consider converting the list to a single numpy.ndarray with numpy.array() before converting to a tensor. (Triggered internally at ../torch/csrc/utils/tensor_new.cpp:230.)\n",
      "  (torch.FloatTensor(seq_vectors), torch.LongTensor(labels), len(seq_vectors))\n"
     ]
    },
    {
     "name": "stdout",
     "output_type": "stream",
     "text": [
      "\u001b[35mEpoch: \u001b[36m136/150 \u001b[35mTrain steps: \u001b[36m38 \u001b[35mVal steps: \u001b[36m10 \u001b[32m45.78s \u001b[35mloss:\u001b[94m 0.101820\u001b[35m acc:\u001b[94m 97.272677\u001b[35m val_loss:\u001b[94m 0.078306\u001b[35m val_acc:\u001b[94m 97.887912\u001b[0m\n",
      "Epoch 136: val_loss improved from 0.08480 to 0.07831, saving file to ./checkpoint_epoch_136.ckpt\n"
     ]
    },
    {
     "name": "stderr",
     "output_type": "stream",
     "text": [
      "<ipython-input-16-cd9c7a62e961>:25: UserWarning: Creating a tensor from a list of numpy.ndarrays is extremely slow. Please consider converting the list to a single numpy.ndarray with numpy.array() before converting to a tensor. (Triggered internally at ../torch/csrc/utils/tensor_new.cpp:230.)\n",
      "  (torch.FloatTensor(seq_vectors), torch.LongTensor(labels), len(seq_vectors))\n",
      "<ipython-input-16-cd9c7a62e961>:25: UserWarning: Creating a tensor from a list of numpy.ndarrays is extremely slow. Please consider converting the list to a single numpy.ndarray with numpy.array() before converting to a tensor. (Triggered internally at ../torch/csrc/utils/tensor_new.cpp:230.)\n",
      "  (torch.FloatTensor(seq_vectors), torch.LongTensor(labels), len(seq_vectors))\n",
      "<ipython-input-16-cd9c7a62e961>:25: UserWarning: Creating a tensor from a list of numpy.ndarrays is extremely slow. Please consider converting the list to a single numpy.ndarray with numpy.array() before converting to a tensor. (Triggered internally at ../torch/csrc/utils/tensor_new.cpp:230.)\n",
      "  (torch.FloatTensor(seq_vectors), torch.LongTensor(labels), len(seq_vectors))\n",
      "<ipython-input-16-cd9c7a62e961>:25: UserWarning: Creating a tensor from a list of numpy.ndarrays is extremely slow. Please consider converting the list to a single numpy.ndarray with numpy.array() before converting to a tensor. (Triggered internally at ../torch/csrc/utils/tensor_new.cpp:230.)\n",
      "  (torch.FloatTensor(seq_vectors), torch.LongTensor(labels), len(seq_vectors))\n"
     ]
    },
    {
     "name": "stdout",
     "output_type": "stream",
     "text": [
      "\u001b[35mEpoch: \u001b[36m137/150 \u001b[35mStep: \u001b[36m38/38 \u001b[35m100.00% |\u001b[35m████████████████████\u001b[35m|\u001b[35mETA: \u001b[32m0.00s \u001b[35mloss:\u001b[94m 0.103330\u001b[35m acc:\u001b[94m 96.839729"
     ]
    },
    {
     "name": "stderr",
     "output_type": "stream",
     "text": [
      "<ipython-input-16-cd9c7a62e961>:25: UserWarning: Creating a tensor from a list of numpy.ndarrays is extremely slow. Please consider converting the list to a single numpy.ndarray with numpy.array() before converting to a tensor. (Triggered internally at ../torch/csrc/utils/tensor_new.cpp:230.)\n",
      "  (torch.FloatTensor(seq_vectors), torch.LongTensor(labels), len(seq_vectors))\n",
      "<ipython-input-16-cd9c7a62e961>:25: UserWarning: Creating a tensor from a list of numpy.ndarrays is extremely slow. Please consider converting the list to a single numpy.ndarray with numpy.array() before converting to a tensor. (Triggered internally at ../torch/csrc/utils/tensor_new.cpp:230.)\n",
      "  (torch.FloatTensor(seq_vectors), torch.LongTensor(labels), len(seq_vectors))\n",
      "<ipython-input-16-cd9c7a62e961>:25: UserWarning: Creating a tensor from a list of numpy.ndarrays is extremely slow. Please consider converting the list to a single numpy.ndarray with numpy.array() before converting to a tensor. (Triggered internally at ../torch/csrc/utils/tensor_new.cpp:230.)\n",
      "  (torch.FloatTensor(seq_vectors), torch.LongTensor(labels), len(seq_vectors))\n"
     ]
    },
    {
     "name": "stdout",
     "output_type": "stream",
     "text": [
      "\u001b[35mEpoch: \u001b[36m137/150 \u001b[35mStep: \u001b[36m 2/10 \u001b[35m 20.00% |\u001b[35m████                \u001b[35m|\u001b[35mETA: \u001b[32m13.71s \u001b[35mval_loss:\u001b[94m 0.060053\u001b[35m val_acc:\u001b[94m 98.917747"
     ]
    },
    {
     "name": "stderr",
     "output_type": "stream",
     "text": [
      "<ipython-input-16-cd9c7a62e961>:25: UserWarning: Creating a tensor from a list of numpy.ndarrays is extremely slow. Please consider converting the list to a single numpy.ndarray with numpy.array() before converting to a tensor. (Triggered internally at ../torch/csrc/utils/tensor_new.cpp:230.)\n",
      "  (torch.FloatTensor(seq_vectors), torch.LongTensor(labels), len(seq_vectors))\n"
     ]
    },
    {
     "name": "stdout",
     "output_type": "stream",
     "text": [
      "\u001b[35mEpoch: \u001b[36m137/150 \u001b[35mTrain steps: \u001b[36m38 \u001b[35mVal steps: \u001b[36m10 \u001b[32m49.73s \u001b[35mloss:\u001b[94m 0.101673\u001b[35m acc:\u001b[94m 97.243516\u001b[35m val_loss:\u001b[94m 0.081766\u001b[35m val_acc:\u001b[94m 97.715670\u001b[0m\n"
     ]
    },
    {
     "name": "stderr",
     "output_type": "stream",
     "text": [
      "<ipython-input-16-cd9c7a62e961>:25: UserWarning: Creating a tensor from a list of numpy.ndarrays is extremely slow. Please consider converting the list to a single numpy.ndarray with numpy.array() before converting to a tensor. (Triggered internally at ../torch/csrc/utils/tensor_new.cpp:230.)\n",
      "  (torch.FloatTensor(seq_vectors), torch.LongTensor(labels), len(seq_vectors))\n",
      "<ipython-input-16-cd9c7a62e961>:25: UserWarning: Creating a tensor from a list of numpy.ndarrays is extremely slow. Please consider converting the list to a single numpy.ndarray with numpy.array() before converting to a tensor. (Triggered internally at ../torch/csrc/utils/tensor_new.cpp:230.)\n",
      "  (torch.FloatTensor(seq_vectors), torch.LongTensor(labels), len(seq_vectors))\n",
      "<ipython-input-16-cd9c7a62e961>:25: UserWarning: Creating a tensor from a list of numpy.ndarrays is extremely slow. Please consider converting the list to a single numpy.ndarray with numpy.array() before converting to a tensor. (Triggered internally at ../torch/csrc/utils/tensor_new.cpp:230.)\n",
      "  (torch.FloatTensor(seq_vectors), torch.LongTensor(labels), len(seq_vectors))\n",
      "<ipython-input-16-cd9c7a62e961>:25: UserWarning: Creating a tensor from a list of numpy.ndarrays is extremely slow. Please consider converting the list to a single numpy.ndarray with numpy.array() before converting to a tensor. (Triggered internally at ../torch/csrc/utils/tensor_new.cpp:230.)\n",
      "  (torch.FloatTensor(seq_vectors), torch.LongTensor(labels), len(seq_vectors))\n"
     ]
    },
    {
     "name": "stdout",
     "output_type": "stream",
     "text": [
      "\u001b[35mEpoch: \u001b[36m138/150 \u001b[35mStep: \u001b[36m38/38 \u001b[35m100.00% |\u001b[35m████████████████████\u001b[35m|\u001b[35mETA: \u001b[32m0.00s \u001b[35mloss:\u001b[94m 0.101361\u001b[35m acc:\u001b[94m 96.895790"
     ]
    },
    {
     "name": "stderr",
     "output_type": "stream",
     "text": [
      "<ipython-input-16-cd9c7a62e961>:25: UserWarning: Creating a tensor from a list of numpy.ndarrays is extremely slow. Please consider converting the list to a single numpy.ndarray with numpy.array() before converting to a tensor. (Triggered internally at ../torch/csrc/utils/tensor_new.cpp:230.)\n",
      "  (torch.FloatTensor(seq_vectors), torch.LongTensor(labels), len(seq_vectors))\n",
      "<ipython-input-16-cd9c7a62e961>:25: UserWarning: Creating a tensor from a list of numpy.ndarrays is extremely slow. Please consider converting the list to a single numpy.ndarray with numpy.array() before converting to a tensor. (Triggered internally at ../torch/csrc/utils/tensor_new.cpp:230.)\n",
      "  (torch.FloatTensor(seq_vectors), torch.LongTensor(labels), len(seq_vectors))\n"
     ]
    },
    {
     "name": "stdout",
     "output_type": "stream",
     "text": [
      "\r",
      "\u001b[35mEpoch: \u001b[36m138/150 \u001b[35mStep: \u001b[36m 1/10 \u001b[35m 10.00% |\u001b[35m██                  \u001b[35m|\u001b[35mETA: \u001b[32m34.54s \u001b[35mval_loss:\u001b[94m 0.067750\u001b[35m val_acc:\u001b[94m 97.484276"
     ]
    },
    {
     "name": "stderr",
     "output_type": "stream",
     "text": [
      "<ipython-input-16-cd9c7a62e961>:25: UserWarning: Creating a tensor from a list of numpy.ndarrays is extremely slow. Please consider converting the list to a single numpy.ndarray with numpy.array() before converting to a tensor. (Triggered internally at ../torch/csrc/utils/tensor_new.cpp:230.)\n",
      "  (torch.FloatTensor(seq_vectors), torch.LongTensor(labels), len(seq_vectors))\n"
     ]
    },
    {
     "name": "stdout",
     "output_type": "stream",
     "text": [
      "\r",
      "\u001b[35mEpoch: \u001b[36m138/150 \u001b[35mStep: \u001b[36m 2/10 \u001b[35m 20.00% |\u001b[35m████                \u001b[35m|\u001b[35mETA: \u001b[32m13.30s \u001b[35mval_loss:\u001b[94m 0.060818\u001b[35m val_acc:\u001b[94m 98.701302"
     ]
    },
    {
     "name": "stderr",
     "output_type": "stream",
     "text": [
      "<ipython-input-16-cd9c7a62e961>:25: UserWarning: Creating a tensor from a list of numpy.ndarrays is extremely slow. Please consider converting the list to a single numpy.ndarray with numpy.array() before converting to a tensor. (Triggered internally at ../torch/csrc/utils/tensor_new.cpp:230.)\n",
      "  (torch.FloatTensor(seq_vectors), torch.LongTensor(labels), len(seq_vectors))\n"
     ]
    },
    {
     "name": "stdout",
     "output_type": "stream",
     "text": [
      "\u001b[35mEpoch: \u001b[36m138/150 \u001b[35mTrain steps: \u001b[36m38 \u001b[35mVal steps: \u001b[36m10 \u001b[32m46.03s \u001b[35mloss:\u001b[94m 0.101880\u001b[35m acc:\u001b[94m 97.274485\u001b[35m val_loss:\u001b[94m 0.081276\u001b[35m val_acc:\u001b[94m 97.669700\u001b[0m\n"
     ]
    },
    {
     "name": "stderr",
     "output_type": "stream",
     "text": [
      "<ipython-input-16-cd9c7a62e961>:25: UserWarning: Creating a tensor from a list of numpy.ndarrays is extremely slow. Please consider converting the list to a single numpy.ndarray with numpy.array() before converting to a tensor. (Triggered internally at ../torch/csrc/utils/tensor_new.cpp:230.)\n",
      "  (torch.FloatTensor(seq_vectors), torch.LongTensor(labels), len(seq_vectors))\n",
      "<ipython-input-16-cd9c7a62e961>:25: UserWarning: Creating a tensor from a list of numpy.ndarrays is extremely slow. Please consider converting the list to a single numpy.ndarray with numpy.array() before converting to a tensor. (Triggered internally at ../torch/csrc/utils/tensor_new.cpp:230.)\n",
      "  (torch.FloatTensor(seq_vectors), torch.LongTensor(labels), len(seq_vectors))\n",
      "<ipython-input-16-cd9c7a62e961>:25: UserWarning: Creating a tensor from a list of numpy.ndarrays is extremely slow. Please consider converting the list to a single numpy.ndarray with numpy.array() before converting to a tensor. (Triggered internally at ../torch/csrc/utils/tensor_new.cpp:230.)\n",
      "  (torch.FloatTensor(seq_vectors), torch.LongTensor(labels), len(seq_vectors))\n",
      "<ipython-input-16-cd9c7a62e961>:25: UserWarning: Creating a tensor from a list of numpy.ndarrays is extremely slow. Please consider converting the list to a single numpy.ndarray with numpy.array() before converting to a tensor. (Triggered internally at ../torch/csrc/utils/tensor_new.cpp:230.)\n",
      "  (torch.FloatTensor(seq_vectors), torch.LongTensor(labels), len(seq_vectors))\n"
     ]
    },
    {
     "name": "stdout",
     "output_type": "stream",
     "text": [
      "\u001b[35mEpoch: \u001b[36m139/150 \u001b[35mStep: \u001b[36m38/38 \u001b[35m100.00% |\u001b[35m████████████████████\u001b[35m|\u001b[35mETA: \u001b[32m0.00s \u001b[35mloss:\u001b[94m 0.198450\u001b[35m acc:\u001b[94m 96.375267"
     ]
    },
    {
     "name": "stderr",
     "output_type": "stream",
     "text": [
      "<ipython-input-16-cd9c7a62e961>:25: UserWarning: Creating a tensor from a list of numpy.ndarrays is extremely slow. Please consider converting the list to a single numpy.ndarray with numpy.array() before converting to a tensor. (Triggered internally at ../torch/csrc/utils/tensor_new.cpp:230.)\n",
      "  (torch.FloatTensor(seq_vectors), torch.LongTensor(labels), len(seq_vectors))\n",
      "<ipython-input-16-cd9c7a62e961>:25: UserWarning: Creating a tensor from a list of numpy.ndarrays is extremely slow. Please consider converting the list to a single numpy.ndarray with numpy.array() before converting to a tensor. (Triggered internally at ../torch/csrc/utils/tensor_new.cpp:230.)\n",
      "  (torch.FloatTensor(seq_vectors), torch.LongTensor(labels), len(seq_vectors))\n"
     ]
    },
    {
     "name": "stdout",
     "output_type": "stream",
     "text": [
      "\r",
      "\u001b[35mEpoch: \u001b[36m139/150 \u001b[35mStep: \u001b[36m 1/10 \u001b[35m 10.00% |\u001b[35m██                  \u001b[35m|\u001b[35mETA: \u001b[32m38.61s \u001b[35mval_loss:\u001b[94m 0.063871\u001b[35m val_acc:\u001b[94m 97.484276"
     ]
    },
    {
     "name": "stderr",
     "output_type": "stream",
     "text": [
      "<ipython-input-16-cd9c7a62e961>:25: UserWarning: Creating a tensor from a list of numpy.ndarrays is extremely slow. Please consider converting the list to a single numpy.ndarray with numpy.array() before converting to a tensor. (Triggered internally at ../torch/csrc/utils/tensor_new.cpp:230.)\n",
      "  (torch.FloatTensor(seq_vectors), torch.LongTensor(labels), len(seq_vectors))\n"
     ]
    },
    {
     "name": "stdout",
     "output_type": "stream",
     "text": [
      "\r",
      "\u001b[35mEpoch: \u001b[36m139/150 \u001b[35mStep: \u001b[36m 2/10 \u001b[35m 20.00% |\u001b[35m████                \u001b[35m|\u001b[35mETA: \u001b[32m13.56s \u001b[35mval_loss:\u001b[94m 0.078429\u001b[35m val_acc:\u001b[94m 97.186150"
     ]
    },
    {
     "name": "stderr",
     "output_type": "stream",
     "text": [
      "<ipython-input-16-cd9c7a62e961>:25: UserWarning: Creating a tensor from a list of numpy.ndarrays is extremely slow. Please consider converting the list to a single numpy.ndarray with numpy.array() before converting to a tensor. (Triggered internally at ../torch/csrc/utils/tensor_new.cpp:230.)\n",
      "  (torch.FloatTensor(seq_vectors), torch.LongTensor(labels), len(seq_vectors))\n"
     ]
    },
    {
     "name": "stdout",
     "output_type": "stream",
     "text": [
      "\u001b[35mEpoch: \u001b[36m139/150 \u001b[35mTrain steps: \u001b[36m38 \u001b[35mVal steps: \u001b[36m10 \u001b[32m45.73s \u001b[35mloss:\u001b[94m 0.100275\u001b[35m acc:\u001b[94m 97.345332\u001b[35m val_loss:\u001b[94m 0.080150\u001b[35m val_acc:\u001b[94m 97.502637\u001b[0m\n"
     ]
    },
    {
     "name": "stderr",
     "output_type": "stream",
     "text": [
      "<ipython-input-16-cd9c7a62e961>:25: UserWarning: Creating a tensor from a list of numpy.ndarrays is extremely slow. Please consider converting the list to a single numpy.ndarray with numpy.array() before converting to a tensor. (Triggered internally at ../torch/csrc/utils/tensor_new.cpp:230.)\n",
      "  (torch.FloatTensor(seq_vectors), torch.LongTensor(labels), len(seq_vectors))\n",
      "<ipython-input-16-cd9c7a62e961>:25: UserWarning: Creating a tensor from a list of numpy.ndarrays is extremely slow. Please consider converting the list to a single numpy.ndarray with numpy.array() before converting to a tensor. (Triggered internally at ../torch/csrc/utils/tensor_new.cpp:230.)\n",
      "  (torch.FloatTensor(seq_vectors), torch.LongTensor(labels), len(seq_vectors))\n",
      "<ipython-input-16-cd9c7a62e961>:25: UserWarning: Creating a tensor from a list of numpy.ndarrays is extremely slow. Please consider converting the list to a single numpy.ndarray with numpy.array() before converting to a tensor. (Triggered internally at ../torch/csrc/utils/tensor_new.cpp:230.)\n",
      "  (torch.FloatTensor(seq_vectors), torch.LongTensor(labels), len(seq_vectors))\n",
      "<ipython-input-16-cd9c7a62e961>:25: UserWarning: Creating a tensor from a list of numpy.ndarrays is extremely slow. Please consider converting the list to a single numpy.ndarray with numpy.array() before converting to a tensor. (Triggered internally at ../torch/csrc/utils/tensor_new.cpp:230.)\n",
      "  (torch.FloatTensor(seq_vectors), torch.LongTensor(labels), len(seq_vectors))\n"
     ]
    },
    {
     "name": "stdout",
     "output_type": "stream",
     "text": [
      "\u001b[35mEpoch: \u001b[36m140/150 \u001b[35mStep: \u001b[36m38/38 \u001b[35m100.00% |\u001b[35m████████████████████\u001b[35m|\u001b[35mETA: \u001b[32m0.00s \u001b[35mloss:\u001b[94m 0.083408\u001b[35m acc:\u001b[94m 97.566376"
     ]
    },
    {
     "name": "stderr",
     "output_type": "stream",
     "text": [
      "<ipython-input-16-cd9c7a62e961>:25: UserWarning: Creating a tensor from a list of numpy.ndarrays is extremely slow. Please consider converting the list to a single numpy.ndarray with numpy.array() before converting to a tensor. (Triggered internally at ../torch/csrc/utils/tensor_new.cpp:230.)\n",
      "  (torch.FloatTensor(seq_vectors), torch.LongTensor(labels), len(seq_vectors))\n",
      "<ipython-input-16-cd9c7a62e961>:25: UserWarning: Creating a tensor from a list of numpy.ndarrays is extremely slow. Please consider converting the list to a single numpy.ndarray with numpy.array() before converting to a tensor. (Triggered internally at ../torch/csrc/utils/tensor_new.cpp:230.)\n",
      "  (torch.FloatTensor(seq_vectors), torch.LongTensor(labels), len(seq_vectors))\n",
      "<ipython-input-16-cd9c7a62e961>:25: UserWarning: Creating a tensor from a list of numpy.ndarrays is extremely slow. Please consider converting the list to a single numpy.ndarray with numpy.array() before converting to a tensor. (Triggered internally at ../torch/csrc/utils/tensor_new.cpp:230.)\n",
      "  (torch.FloatTensor(seq_vectors), torch.LongTensor(labels), len(seq_vectors))\n"
     ]
    },
    {
     "name": "stdout",
     "output_type": "stream",
     "text": [
      "\u001b[35mEpoch: \u001b[36m140/150 \u001b[35mStep: \u001b[36m 2/10 \u001b[35m 20.00% |\u001b[35m████                \u001b[35m|\u001b[35mETA: \u001b[32m13.10s \u001b[35mval_loss:\u001b[94m 0.063536\u001b[35m val_acc:\u001b[94m 98.484848"
     ]
    },
    {
     "name": "stderr",
     "output_type": "stream",
     "text": [
      "<ipython-input-16-cd9c7a62e961>:25: UserWarning: Creating a tensor from a list of numpy.ndarrays is extremely slow. Please consider converting the list to a single numpy.ndarray with numpy.array() before converting to a tensor. (Triggered internally at ../torch/csrc/utils/tensor_new.cpp:230.)\n",
      "  (torch.FloatTensor(seq_vectors), torch.LongTensor(labels), len(seq_vectors))\n"
     ]
    },
    {
     "name": "stdout",
     "output_type": "stream",
     "text": [
      "\u001b[35mEpoch: \u001b[36m140/150 \u001b[35mTrain steps: \u001b[36m38 \u001b[35mVal steps: \u001b[36m10 \u001b[32m48.60s \u001b[35mloss:\u001b[94m 0.097657\u001b[35m acc:\u001b[94m 97.335106\u001b[35m val_loss:\u001b[94m 0.075266\u001b[35m val_acc:\u001b[94m 97.820347\u001b[0m\n",
      "Epoch 140: val_loss improved from 0.07831 to 0.07527, saving file to ./checkpoint_epoch_140.ckpt\n"
     ]
    },
    {
     "name": "stderr",
     "output_type": "stream",
     "text": [
      "<ipython-input-16-cd9c7a62e961>:25: UserWarning: Creating a tensor from a list of numpy.ndarrays is extremely slow. Please consider converting the list to a single numpy.ndarray with numpy.array() before converting to a tensor. (Triggered internally at ../torch/csrc/utils/tensor_new.cpp:230.)\n",
      "  (torch.FloatTensor(seq_vectors), torch.LongTensor(labels), len(seq_vectors))\n",
      "<ipython-input-16-cd9c7a62e961>:25: UserWarning: Creating a tensor from a list of numpy.ndarrays is extremely slow. Please consider converting the list to a single numpy.ndarray with numpy.array() before converting to a tensor. (Triggered internally at ../torch/csrc/utils/tensor_new.cpp:230.)\n",
      "  (torch.FloatTensor(seq_vectors), torch.LongTensor(labels), len(seq_vectors))\n",
      "<ipython-input-16-cd9c7a62e961>:25: UserWarning: Creating a tensor from a list of numpy.ndarrays is extremely slow. Please consider converting the list to a single numpy.ndarray with numpy.array() before converting to a tensor. (Triggered internally at ../torch/csrc/utils/tensor_new.cpp:230.)\n",
      "  (torch.FloatTensor(seq_vectors), torch.LongTensor(labels), len(seq_vectors))\n",
      "<ipython-input-16-cd9c7a62e961>:25: UserWarning: Creating a tensor from a list of numpy.ndarrays is extremely slow. Please consider converting the list to a single numpy.ndarray with numpy.array() before converting to a tensor. (Triggered internally at ../torch/csrc/utils/tensor_new.cpp:230.)\n",
      "  (torch.FloatTensor(seq_vectors), torch.LongTensor(labels), len(seq_vectors))\n"
     ]
    },
    {
     "name": "stdout",
     "output_type": "stream",
     "text": [
      "\u001b[35mEpoch: \u001b[36m141/150 \u001b[35mStep: \u001b[36m38/38 \u001b[35m100.00% |\u001b[35m████████████████████\u001b[35m|\u001b[35mETA: \u001b[32m0.00s \u001b[35mloss:\u001b[94m 0.097440\u001b[35m acc:\u001b[94m 97.321426"
     ]
    },
    {
     "name": "stderr",
     "output_type": "stream",
     "text": [
      "<ipython-input-16-cd9c7a62e961>:25: UserWarning: Creating a tensor from a list of numpy.ndarrays is extremely slow. Please consider converting the list to a single numpy.ndarray with numpy.array() before converting to a tensor. (Triggered internally at ../torch/csrc/utils/tensor_new.cpp:230.)\n",
      "  (torch.FloatTensor(seq_vectors), torch.LongTensor(labels), len(seq_vectors))\n",
      "<ipython-input-16-cd9c7a62e961>:25: UserWarning: Creating a tensor from a list of numpy.ndarrays is extremely slow. Please consider converting the list to a single numpy.ndarray with numpy.array() before converting to a tensor. (Triggered internally at ../torch/csrc/utils/tensor_new.cpp:230.)\n",
      "  (torch.FloatTensor(seq_vectors), torch.LongTensor(labels), len(seq_vectors))\n"
     ]
    },
    {
     "name": "stdout",
     "output_type": "stream",
     "text": [
      "\r",
      "\u001b[35mEpoch: \u001b[36m141/150 \u001b[35mStep: \u001b[36m 1/10 \u001b[35m 10.00% |\u001b[35m██                  \u001b[35m|\u001b[35mETA: \u001b[32m35.07s \u001b[35mval_loss:\u001b[94m 0.065461\u001b[35m val_acc:\u001b[94m 97.903564"
     ]
    },
    {
     "name": "stderr",
     "output_type": "stream",
     "text": [
      "<ipython-input-16-cd9c7a62e961>:25: UserWarning: Creating a tensor from a list of numpy.ndarrays is extremely slow. Please consider converting the list to a single numpy.ndarray with numpy.array() before converting to a tensor. (Triggered internally at ../torch/csrc/utils/tensor_new.cpp:230.)\n",
      "  (torch.FloatTensor(seq_vectors), torch.LongTensor(labels), len(seq_vectors))\n"
     ]
    },
    {
     "name": "stdout",
     "output_type": "stream",
     "text": [
      "\r",
      "\u001b[35mEpoch: \u001b[36m141/150 \u001b[35mStep: \u001b[36m 2/10 \u001b[35m 20.00% |\u001b[35m████                \u001b[35m|\u001b[35mETA: \u001b[32m13.03s \u001b[35mval_loss:\u001b[94m 0.080387\u001b[35m val_acc:\u001b[94m 96.536797"
     ]
    },
    {
     "name": "stderr",
     "output_type": "stream",
     "text": [
      "<ipython-input-16-cd9c7a62e961>:25: UserWarning: Creating a tensor from a list of numpy.ndarrays is extremely slow. Please consider converting the list to a single numpy.ndarray with numpy.array() before converting to a tensor. (Triggered internally at ../torch/csrc/utils/tensor_new.cpp:230.)\n",
      "  (torch.FloatTensor(seq_vectors), torch.LongTensor(labels), len(seq_vectors))\n"
     ]
    },
    {
     "name": "stdout",
     "output_type": "stream",
     "text": [
      "\u001b[35mEpoch: \u001b[36m141/150 \u001b[35mTrain steps: \u001b[36m38 \u001b[35mVal steps: \u001b[36m10 \u001b[32m45.35s \u001b[35mloss:\u001b[94m 0.095967\u001b[35m acc:\u001b[94m 97.460142\u001b[35m val_loss:\u001b[94m 0.078344\u001b[35m val_acc:\u001b[94m 97.457468\u001b[0m\n"
     ]
    },
    {
     "name": "stderr",
     "output_type": "stream",
     "text": [
      "<ipython-input-16-cd9c7a62e961>:25: UserWarning: Creating a tensor from a list of numpy.ndarrays is extremely slow. Please consider converting the list to a single numpy.ndarray with numpy.array() before converting to a tensor. (Triggered internally at ../torch/csrc/utils/tensor_new.cpp:230.)\n",
      "  (torch.FloatTensor(seq_vectors), torch.LongTensor(labels), len(seq_vectors))\n",
      "<ipython-input-16-cd9c7a62e961>:25: UserWarning: Creating a tensor from a list of numpy.ndarrays is extremely slow. Please consider converting the list to a single numpy.ndarray with numpy.array() before converting to a tensor. (Triggered internally at ../torch/csrc/utils/tensor_new.cpp:230.)\n",
      "  (torch.FloatTensor(seq_vectors), torch.LongTensor(labels), len(seq_vectors))\n",
      "<ipython-input-16-cd9c7a62e961>:25: UserWarning: Creating a tensor from a list of numpy.ndarrays is extremely slow. Please consider converting the list to a single numpy.ndarray with numpy.array() before converting to a tensor. (Triggered internally at ../torch/csrc/utils/tensor_new.cpp:230.)\n",
      "  (torch.FloatTensor(seq_vectors), torch.LongTensor(labels), len(seq_vectors))\n",
      "<ipython-input-16-cd9c7a62e961>:25: UserWarning: Creating a tensor from a list of numpy.ndarrays is extremely slow. Please consider converting the list to a single numpy.ndarray with numpy.array() before converting to a tensor. (Triggered internally at ../torch/csrc/utils/tensor_new.cpp:230.)\n",
      "  (torch.FloatTensor(seq_vectors), torch.LongTensor(labels), len(seq_vectors))\n"
     ]
    },
    {
     "name": "stdout",
     "output_type": "stream",
     "text": [
      "\u001b[35mEpoch: \u001b[36m142/150 \u001b[35mStep: \u001b[36m38/38 \u001b[35m100.00% |\u001b[35m████████████████████\u001b[35m|\u001b[35mETA: \u001b[32m0.00s \u001b[35mloss:\u001b[94m 0.106422\u001b[35m acc:\u001b[94m 96.916298"
     ]
    },
    {
     "name": "stderr",
     "output_type": "stream",
     "text": [
      "<ipython-input-16-cd9c7a62e961>:25: UserWarning: Creating a tensor from a list of numpy.ndarrays is extremely slow. Please consider converting the list to a single numpy.ndarray with numpy.array() before converting to a tensor. (Triggered internally at ../torch/csrc/utils/tensor_new.cpp:230.)\n",
      "  (torch.FloatTensor(seq_vectors), torch.LongTensor(labels), len(seq_vectors))\n",
      "<ipython-input-16-cd9c7a62e961>:25: UserWarning: Creating a tensor from a list of numpy.ndarrays is extremely slow. Please consider converting the list to a single numpy.ndarray with numpy.array() before converting to a tensor. (Triggered internally at ../torch/csrc/utils/tensor_new.cpp:230.)\n",
      "  (torch.FloatTensor(seq_vectors), torch.LongTensor(labels), len(seq_vectors))\n",
      "<ipython-input-16-cd9c7a62e961>:25: UserWarning: Creating a tensor from a list of numpy.ndarrays is extremely slow. Please consider converting the list to a single numpy.ndarray with numpy.array() before converting to a tensor. (Triggered internally at ../torch/csrc/utils/tensor_new.cpp:230.)\n",
      "  (torch.FloatTensor(seq_vectors), torch.LongTensor(labels), len(seq_vectors))\n"
     ]
    },
    {
     "name": "stdout",
     "output_type": "stream",
     "text": [
      "\u001b[35mEpoch: \u001b[36m142/150 \u001b[35mStep: \u001b[36m 2/10 \u001b[35m 20.00% |\u001b[35m████                \u001b[35m|\u001b[35mETA: \u001b[32m12.79s \u001b[35mval_loss:\u001b[94m 0.072229\u001b[35m val_acc:\u001b[94m 98.051949"
     ]
    },
    {
     "name": "stderr",
     "output_type": "stream",
     "text": [
      "<ipython-input-16-cd9c7a62e961>:25: UserWarning: Creating a tensor from a list of numpy.ndarrays is extremely slow. Please consider converting the list to a single numpy.ndarray with numpy.array() before converting to a tensor. (Triggered internally at ../torch/csrc/utils/tensor_new.cpp:230.)\n",
      "  (torch.FloatTensor(seq_vectors), torch.LongTensor(labels), len(seq_vectors))\n"
     ]
    },
    {
     "name": "stdout",
     "output_type": "stream",
     "text": [
      "\u001b[35mEpoch: \u001b[36m142/150 \u001b[35mTrain steps: \u001b[36m38 \u001b[35mVal steps: \u001b[36m10 \u001b[32m46.86s \u001b[35mloss:\u001b[94m 0.094512\u001b[35m acc:\u001b[94m 97.491203\u001b[35m val_loss:\u001b[94m 0.105236\u001b[35m val_acc:\u001b[94m 96.522557\u001b[0m\n"
     ]
    },
    {
     "name": "stderr",
     "output_type": "stream",
     "text": [
      "<ipython-input-16-cd9c7a62e961>:25: UserWarning: Creating a tensor from a list of numpy.ndarrays is extremely slow. Please consider converting the list to a single numpy.ndarray with numpy.array() before converting to a tensor. (Triggered internally at ../torch/csrc/utils/tensor_new.cpp:230.)\n",
      "  (torch.FloatTensor(seq_vectors), torch.LongTensor(labels), len(seq_vectors))\n",
      "<ipython-input-16-cd9c7a62e961>:25: UserWarning: Creating a tensor from a list of numpy.ndarrays is extremely slow. Please consider converting the list to a single numpy.ndarray with numpy.array() before converting to a tensor. (Triggered internally at ../torch/csrc/utils/tensor_new.cpp:230.)\n",
      "  (torch.FloatTensor(seq_vectors), torch.LongTensor(labels), len(seq_vectors))\n",
      "<ipython-input-16-cd9c7a62e961>:25: UserWarning: Creating a tensor from a list of numpy.ndarrays is extremely slow. Please consider converting the list to a single numpy.ndarray with numpy.array() before converting to a tensor. (Triggered internally at ../torch/csrc/utils/tensor_new.cpp:230.)\n",
      "  (torch.FloatTensor(seq_vectors), torch.LongTensor(labels), len(seq_vectors))\n",
      "<ipython-input-16-cd9c7a62e961>:25: UserWarning: Creating a tensor from a list of numpy.ndarrays is extremely slow. Please consider converting the list to a single numpy.ndarray with numpy.array() before converting to a tensor. (Triggered internally at ../torch/csrc/utils/tensor_new.cpp:230.)\n",
      "  (torch.FloatTensor(seq_vectors), torch.LongTensor(labels), len(seq_vectors))\n"
     ]
    },
    {
     "name": "stdout",
     "output_type": "stream",
     "text": [
      "\u001b[35mEpoch: \u001b[36m143/150 \u001b[35mStep: \u001b[36m38/38 \u001b[35m100.00% |\u001b[35m████████████████████\u001b[35m|\u001b[35mETA: \u001b[32m0.00s \u001b[35mloss:\u001b[94m 0.235935\u001b[35m acc:\u001b[94m 95.164833"
     ]
    },
    {
     "name": "stderr",
     "output_type": "stream",
     "text": [
      "<ipython-input-16-cd9c7a62e961>:25: UserWarning: Creating a tensor from a list of numpy.ndarrays is extremely slow. Please consider converting the list to a single numpy.ndarray with numpy.array() before converting to a tensor. (Triggered internally at ../torch/csrc/utils/tensor_new.cpp:230.)\n",
      "  (torch.FloatTensor(seq_vectors), torch.LongTensor(labels), len(seq_vectors))\n",
      "<ipython-input-16-cd9c7a62e961>:25: UserWarning: Creating a tensor from a list of numpy.ndarrays is extremely slow. Please consider converting the list to a single numpy.ndarray with numpy.array() before converting to a tensor. (Triggered internally at ../torch/csrc/utils/tensor_new.cpp:230.)\n",
      "  (torch.FloatTensor(seq_vectors), torch.LongTensor(labels), len(seq_vectors))\n",
      "<ipython-input-16-cd9c7a62e961>:25: UserWarning: Creating a tensor from a list of numpy.ndarrays is extremely slow. Please consider converting the list to a single numpy.ndarray with numpy.array() before converting to a tensor. (Triggered internally at ../torch/csrc/utils/tensor_new.cpp:230.)\n",
      "  (torch.FloatTensor(seq_vectors), torch.LongTensor(labels), len(seq_vectors))\n"
     ]
    },
    {
     "name": "stdout",
     "output_type": "stream",
     "text": [
      "\u001b[35mEpoch: \u001b[36m143/150 \u001b[35mStep: \u001b[36m 2/10 \u001b[35m 20.00% |\u001b[35m████                \u001b[35m|\u001b[35mETA: \u001b[32m12.95s \u001b[35mval_loss:\u001b[94m 0.087213\u001b[35m val_acc:\u001b[94m 96.753242"
     ]
    },
    {
     "name": "stderr",
     "output_type": "stream",
     "text": [
      "<ipython-input-16-cd9c7a62e961>:25: UserWarning: Creating a tensor from a list of numpy.ndarrays is extremely slow. Please consider converting the list to a single numpy.ndarray with numpy.array() before converting to a tensor. (Triggered internally at ../torch/csrc/utils/tensor_new.cpp:230.)\n",
      "  (torch.FloatTensor(seq_vectors), torch.LongTensor(labels), len(seq_vectors))\n"
     ]
    },
    {
     "name": "stdout",
     "output_type": "stream",
     "text": [
      "\u001b[35mEpoch: \u001b[36m143/150 \u001b[35mTrain steps: \u001b[36m38 \u001b[35mVal steps: \u001b[36m10 \u001b[32m48.03s \u001b[35mloss:\u001b[94m 0.095612\u001b[35m acc:\u001b[94m 97.335108\u001b[35m val_loss:\u001b[94m 0.084221\u001b[35m val_acc:\u001b[94m 96.904857\u001b[0m\n"
     ]
    },
    {
     "name": "stderr",
     "output_type": "stream",
     "text": [
      "<ipython-input-16-cd9c7a62e961>:25: UserWarning: Creating a tensor from a list of numpy.ndarrays is extremely slow. Please consider converting the list to a single numpy.ndarray with numpy.array() before converting to a tensor. (Triggered internally at ../torch/csrc/utils/tensor_new.cpp:230.)\n",
      "  (torch.FloatTensor(seq_vectors), torch.LongTensor(labels), len(seq_vectors))\n",
      "<ipython-input-16-cd9c7a62e961>:25: UserWarning: Creating a tensor from a list of numpy.ndarrays is extremely slow. Please consider converting the list to a single numpy.ndarray with numpy.array() before converting to a tensor. (Triggered internally at ../torch/csrc/utils/tensor_new.cpp:230.)\n",
      "  (torch.FloatTensor(seq_vectors), torch.LongTensor(labels), len(seq_vectors))\n",
      "<ipython-input-16-cd9c7a62e961>:25: UserWarning: Creating a tensor from a list of numpy.ndarrays is extremely slow. Please consider converting the list to a single numpy.ndarray with numpy.array() before converting to a tensor. (Triggered internally at ../torch/csrc/utils/tensor_new.cpp:230.)\n",
      "  (torch.FloatTensor(seq_vectors), torch.LongTensor(labels), len(seq_vectors))\n",
      "<ipython-input-16-cd9c7a62e961>:25: UserWarning: Creating a tensor from a list of numpy.ndarrays is extremely slow. Please consider converting the list to a single numpy.ndarray with numpy.array() before converting to a tensor. (Triggered internally at ../torch/csrc/utils/tensor_new.cpp:230.)\n",
      "  (torch.FloatTensor(seq_vectors), torch.LongTensor(labels), len(seq_vectors))\n"
     ]
    },
    {
     "name": "stdout",
     "output_type": "stream",
     "text": [
      "\u001b[35mEpoch: \u001b[36m144/150 \u001b[35mStep: \u001b[36m38/38 \u001b[35m100.00% |\u001b[35m████████████████████\u001b[35m|\u001b[35mETA: \u001b[32m0.00s \u001b[35mloss:\u001b[94m 0.065351\u001b[35m acc:\u001b[94m 98.202248"
     ]
    },
    {
     "name": "stderr",
     "output_type": "stream",
     "text": [
      "<ipython-input-16-cd9c7a62e961>:25: UserWarning: Creating a tensor from a list of numpy.ndarrays is extremely slow. Please consider converting the list to a single numpy.ndarray with numpy.array() before converting to a tensor. (Triggered internally at ../torch/csrc/utils/tensor_new.cpp:230.)\n",
      "  (torch.FloatTensor(seq_vectors), torch.LongTensor(labels), len(seq_vectors))\n",
      "<ipython-input-16-cd9c7a62e961>:25: UserWarning: Creating a tensor from a list of numpy.ndarrays is extremely slow. Please consider converting the list to a single numpy.ndarray with numpy.array() before converting to a tensor. (Triggered internally at ../torch/csrc/utils/tensor_new.cpp:230.)\n",
      "  (torch.FloatTensor(seq_vectors), torch.LongTensor(labels), len(seq_vectors))\n",
      "<ipython-input-16-cd9c7a62e961>:25: UserWarning: Creating a tensor from a list of numpy.ndarrays is extremely slow. Please consider converting the list to a single numpy.ndarray with numpy.array() before converting to a tensor. (Triggered internally at ../torch/csrc/utils/tensor_new.cpp:230.)\n",
      "  (torch.FloatTensor(seq_vectors), torch.LongTensor(labels), len(seq_vectors))\n"
     ]
    },
    {
     "name": "stdout",
     "output_type": "stream",
     "text": [
      "\u001b[35mEpoch: \u001b[36m144/150 \u001b[35mStep: \u001b[36m 2/10 \u001b[35m 20.00% |\u001b[35m████                \u001b[35m|\u001b[35mETA: \u001b[32m12.97s \u001b[35mval_loss:\u001b[94m 0.059748\u001b[35m val_acc:\u001b[94m 98.917747"
     ]
    },
    {
     "name": "stderr",
     "output_type": "stream",
     "text": [
      "<ipython-input-16-cd9c7a62e961>:25: UserWarning: Creating a tensor from a list of numpy.ndarrays is extremely slow. Please consider converting the list to a single numpy.ndarray with numpy.array() before converting to a tensor. (Triggered internally at ../torch/csrc/utils/tensor_new.cpp:230.)\n",
      "  (torch.FloatTensor(seq_vectors), torch.LongTensor(labels), len(seq_vectors))\n"
     ]
    },
    {
     "name": "stdout",
     "output_type": "stream",
     "text": [
      "\u001b[35mEpoch: \u001b[36m144/150 \u001b[35mTrain steps: \u001b[36m38 \u001b[35mVal steps: \u001b[36m10 \u001b[32m46.90s \u001b[35mloss:\u001b[94m 0.093935\u001b[35m acc:\u001b[94m 97.467138\u001b[35m val_loss:\u001b[94m 0.069968\u001b[35m val_acc:\u001b[94m 98.129579\u001b[0m\n",
      "Epoch 144: val_loss improved from 0.07527 to 0.06997, saving file to ./checkpoint_epoch_144.ckpt\n"
     ]
    },
    {
     "name": "stderr",
     "output_type": "stream",
     "text": [
      "<ipython-input-16-cd9c7a62e961>:25: UserWarning: Creating a tensor from a list of numpy.ndarrays is extremely slow. Please consider converting the list to a single numpy.ndarray with numpy.array() before converting to a tensor. (Triggered internally at ../torch/csrc/utils/tensor_new.cpp:230.)\n",
      "  (torch.FloatTensor(seq_vectors), torch.LongTensor(labels), len(seq_vectors))\n",
      "<ipython-input-16-cd9c7a62e961>:25: UserWarning: Creating a tensor from a list of numpy.ndarrays is extremely slow. Please consider converting the list to a single numpy.ndarray with numpy.array() before converting to a tensor. (Triggered internally at ../torch/csrc/utils/tensor_new.cpp:230.)\n",
      "  (torch.FloatTensor(seq_vectors), torch.LongTensor(labels), len(seq_vectors))\n",
      "<ipython-input-16-cd9c7a62e961>:25: UserWarning: Creating a tensor from a list of numpy.ndarrays is extremely slow. Please consider converting the list to a single numpy.ndarray with numpy.array() before converting to a tensor. (Triggered internally at ../torch/csrc/utils/tensor_new.cpp:230.)\n",
      "  (torch.FloatTensor(seq_vectors), torch.LongTensor(labels), len(seq_vectors))\n",
      "<ipython-input-16-cd9c7a62e961>:25: UserWarning: Creating a tensor from a list of numpy.ndarrays is extremely slow. Please consider converting the list to a single numpy.ndarray with numpy.array() before converting to a tensor. (Triggered internally at ../torch/csrc/utils/tensor_new.cpp:230.)\n",
      "  (torch.FloatTensor(seq_vectors), torch.LongTensor(labels), len(seq_vectors))\n"
     ]
    },
    {
     "name": "stdout",
     "output_type": "stream",
     "text": [
      "\u001b[35mEpoch: \u001b[36m145/150 \u001b[35mStep: \u001b[36m38/38 \u001b[35m100.00% |\u001b[35m████████████████████\u001b[35m|\u001b[35mETA: \u001b[32m0.00s \u001b[35mloss:\u001b[94m 0.076991\u001b[35m acc:\u001b[94m 97.533630"
     ]
    },
    {
     "name": "stderr",
     "output_type": "stream",
     "text": [
      "<ipython-input-16-cd9c7a62e961>:25: UserWarning: Creating a tensor from a list of numpy.ndarrays is extremely slow. Please consider converting the list to a single numpy.ndarray with numpy.array() before converting to a tensor. (Triggered internally at ../torch/csrc/utils/tensor_new.cpp:230.)\n",
      "  (torch.FloatTensor(seq_vectors), torch.LongTensor(labels), len(seq_vectors))\n",
      "<ipython-input-16-cd9c7a62e961>:25: UserWarning: Creating a tensor from a list of numpy.ndarrays is extremely slow. Please consider converting the list to a single numpy.ndarray with numpy.array() before converting to a tensor. (Triggered internally at ../torch/csrc/utils/tensor_new.cpp:230.)\n",
      "  (torch.FloatTensor(seq_vectors), torch.LongTensor(labels), len(seq_vectors))\n",
      "<ipython-input-16-cd9c7a62e961>:25: UserWarning: Creating a tensor from a list of numpy.ndarrays is extremely slow. Please consider converting the list to a single numpy.ndarray with numpy.array() before converting to a tensor. (Triggered internally at ../torch/csrc/utils/tensor_new.cpp:230.)\n",
      "  (torch.FloatTensor(seq_vectors), torch.LongTensor(labels), len(seq_vectors))\n"
     ]
    },
    {
     "name": "stdout",
     "output_type": "stream",
     "text": [
      "\u001b[35mEpoch: \u001b[36m145/150 \u001b[35mStep: \u001b[36m 2/10 \u001b[35m 20.00% |\u001b[35m████                \u001b[35m|\u001b[35mETA: \u001b[32m13.14s \u001b[35mval_loss:\u001b[94m 0.053728\u001b[35m val_acc:\u001b[94m 98.917747"
     ]
    },
    {
     "name": "stderr",
     "output_type": "stream",
     "text": [
      "<ipython-input-16-cd9c7a62e961>:25: UserWarning: Creating a tensor from a list of numpy.ndarrays is extremely slow. Please consider converting the list to a single numpy.ndarray with numpy.array() before converting to a tensor. (Triggered internally at ../torch/csrc/utils/tensor_new.cpp:230.)\n",
      "  (torch.FloatTensor(seq_vectors), torch.LongTensor(labels), len(seq_vectors))\n"
     ]
    },
    {
     "name": "stdout",
     "output_type": "stream",
     "text": [
      "\u001b[35mEpoch: \u001b[36m145/150 \u001b[35mTrain steps: \u001b[36m38 \u001b[35mVal steps: \u001b[36m10 \u001b[32m45.61s \u001b[35mloss:\u001b[94m 0.090966\u001b[35m acc:\u001b[94m 97.552127\u001b[35m val_loss:\u001b[94m 0.073580\u001b[35m val_acc:\u001b[94m 97.889104\u001b[0m\n"
     ]
    },
    {
     "name": "stderr",
     "output_type": "stream",
     "text": [
      "<ipython-input-16-cd9c7a62e961>:25: UserWarning: Creating a tensor from a list of numpy.ndarrays is extremely slow. Please consider converting the list to a single numpy.ndarray with numpy.array() before converting to a tensor. (Triggered internally at ../torch/csrc/utils/tensor_new.cpp:230.)\n",
      "  (torch.FloatTensor(seq_vectors), torch.LongTensor(labels), len(seq_vectors))\n",
      "<ipython-input-16-cd9c7a62e961>:25: UserWarning: Creating a tensor from a list of numpy.ndarrays is extremely slow. Please consider converting the list to a single numpy.ndarray with numpy.array() before converting to a tensor. (Triggered internally at ../torch/csrc/utils/tensor_new.cpp:230.)\n",
      "  (torch.FloatTensor(seq_vectors), torch.LongTensor(labels), len(seq_vectors))\n",
      "<ipython-input-16-cd9c7a62e961>:25: UserWarning: Creating a tensor from a list of numpy.ndarrays is extremely slow. Please consider converting the list to a single numpy.ndarray with numpy.array() before converting to a tensor. (Triggered internally at ../torch/csrc/utils/tensor_new.cpp:230.)\n",
      "  (torch.FloatTensor(seq_vectors), torch.LongTensor(labels), len(seq_vectors))\n",
      "<ipython-input-16-cd9c7a62e961>:25: UserWarning: Creating a tensor from a list of numpy.ndarrays is extremely slow. Please consider converting the list to a single numpy.ndarray with numpy.array() before converting to a tensor. (Triggered internally at ../torch/csrc/utils/tensor_new.cpp:230.)\n",
      "  (torch.FloatTensor(seq_vectors), torch.LongTensor(labels), len(seq_vectors))\n"
     ]
    },
    {
     "name": "stdout",
     "output_type": "stream",
     "text": [
      "\u001b[35mEpoch: \u001b[36m146/150 \u001b[35mStep: \u001b[36m38/38 \u001b[35m100.00% |\u001b[35m████████████████████\u001b[35m|\u001b[35mETA: \u001b[32m0.00s \u001b[35mloss:\u001b[94m 0.086133\u001b[35m acc:\u001b[94m 97.453705"
     ]
    },
    {
     "name": "stderr",
     "output_type": "stream",
     "text": [
      "<ipython-input-16-cd9c7a62e961>:25: UserWarning: Creating a tensor from a list of numpy.ndarrays is extremely slow. Please consider converting the list to a single numpy.ndarray with numpy.array() before converting to a tensor. (Triggered internally at ../torch/csrc/utils/tensor_new.cpp:230.)\n",
      "  (torch.FloatTensor(seq_vectors), torch.LongTensor(labels), len(seq_vectors))\n",
      "<ipython-input-16-cd9c7a62e961>:25: UserWarning: Creating a tensor from a list of numpy.ndarrays is extremely slow. Please consider converting the list to a single numpy.ndarray with numpy.array() before converting to a tensor. (Triggered internally at ../torch/csrc/utils/tensor_new.cpp:230.)\n",
      "  (torch.FloatTensor(seq_vectors), torch.LongTensor(labels), len(seq_vectors))\n",
      "<ipython-input-16-cd9c7a62e961>:25: UserWarning: Creating a tensor from a list of numpy.ndarrays is extremely slow. Please consider converting the list to a single numpy.ndarray with numpy.array() before converting to a tensor. (Triggered internally at ../torch/csrc/utils/tensor_new.cpp:230.)\n",
      "  (torch.FloatTensor(seq_vectors), torch.LongTensor(labels), len(seq_vectors))\n"
     ]
    },
    {
     "name": "stdout",
     "output_type": "stream",
     "text": [
      "\u001b[35mEpoch: \u001b[36m146/150 \u001b[35mStep: \u001b[36m 2/10 \u001b[35m 20.00% |\u001b[35m████                \u001b[35m|\u001b[35mETA: \u001b[32m20.38s \u001b[35mval_loss:\u001b[94m 0.057645\u001b[35m val_acc:\u001b[94m 98.701302"
     ]
    },
    {
     "name": "stderr",
     "output_type": "stream",
     "text": [
      "<ipython-input-16-cd9c7a62e961>:25: UserWarning: Creating a tensor from a list of numpy.ndarrays is extremely slow. Please consider converting the list to a single numpy.ndarray with numpy.array() before converting to a tensor. (Triggered internally at ../torch/csrc/utils/tensor_new.cpp:230.)\n",
      "  (torch.FloatTensor(seq_vectors), torch.LongTensor(labels), len(seq_vectors))\n"
     ]
    },
    {
     "name": "stdout",
     "output_type": "stream",
     "text": [
      "\u001b[35mEpoch: \u001b[36m146/150 \u001b[35mTrain steps: \u001b[36m38 \u001b[35mVal steps: \u001b[36m10 \u001b[32m49.54s \u001b[35mloss:\u001b[94m 0.093658\u001b[35m acc:\u001b[94m 97.529301\u001b[35m val_loss:\u001b[94m 0.069109\u001b[35m val_acc:\u001b[94m 98.038926\u001b[0m\n",
      "Epoch 146: val_loss improved from 0.06997 to 0.06911, saving file to ./checkpoint_epoch_146.ckpt\n"
     ]
    },
    {
     "name": "stderr",
     "output_type": "stream",
     "text": [
      "<ipython-input-16-cd9c7a62e961>:25: UserWarning: Creating a tensor from a list of numpy.ndarrays is extremely slow. Please consider converting the list to a single numpy.ndarray with numpy.array() before converting to a tensor. (Triggered internally at ../torch/csrc/utils/tensor_new.cpp:230.)\n",
      "  (torch.FloatTensor(seq_vectors), torch.LongTensor(labels), len(seq_vectors))\n",
      "<ipython-input-16-cd9c7a62e961>:25: UserWarning: Creating a tensor from a list of numpy.ndarrays is extremely slow. Please consider converting the list to a single numpy.ndarray with numpy.array() before converting to a tensor. (Triggered internally at ../torch/csrc/utils/tensor_new.cpp:230.)\n",
      "  (torch.FloatTensor(seq_vectors), torch.LongTensor(labels), len(seq_vectors))\n",
      "<ipython-input-16-cd9c7a62e961>:25: UserWarning: Creating a tensor from a list of numpy.ndarrays is extremely slow. Please consider converting the list to a single numpy.ndarray with numpy.array() before converting to a tensor. (Triggered internally at ../torch/csrc/utils/tensor_new.cpp:230.)\n",
      "  (torch.FloatTensor(seq_vectors), torch.LongTensor(labels), len(seq_vectors))\n",
      "<ipython-input-16-cd9c7a62e961>:25: UserWarning: Creating a tensor from a list of numpy.ndarrays is extremely slow. Please consider converting the list to a single numpy.ndarray with numpy.array() before converting to a tensor. (Triggered internally at ../torch/csrc/utils/tensor_new.cpp:230.)\n",
      "  (torch.FloatTensor(seq_vectors), torch.LongTensor(labels), len(seq_vectors))\n"
     ]
    },
    {
     "name": "stdout",
     "output_type": "stream",
     "text": [
      "\u001b[35mEpoch: \u001b[36m147/150 \u001b[35mStep: \u001b[36m38/38 \u001b[35m100.00% |\u001b[35m████████████████████\u001b[35m|\u001b[35mETA: \u001b[32m0.00s \u001b[35mloss:\u001b[94m 0.063710\u001b[35m acc:\u001b[94m 97.954544"
     ]
    },
    {
     "name": "stderr",
     "output_type": "stream",
     "text": [
      "<ipython-input-16-cd9c7a62e961>:25: UserWarning: Creating a tensor from a list of numpy.ndarrays is extremely slow. Please consider converting the list to a single numpy.ndarray with numpy.array() before converting to a tensor. (Triggered internally at ../torch/csrc/utils/tensor_new.cpp:230.)\n",
      "  (torch.FloatTensor(seq_vectors), torch.LongTensor(labels), len(seq_vectors))\n",
      "<ipython-input-16-cd9c7a62e961>:25: UserWarning: Creating a tensor from a list of numpy.ndarrays is extremely slow. Please consider converting the list to a single numpy.ndarray with numpy.array() before converting to a tensor. (Triggered internally at ../torch/csrc/utils/tensor_new.cpp:230.)\n",
      "  (torch.FloatTensor(seq_vectors), torch.LongTensor(labels), len(seq_vectors))\n",
      "<ipython-input-16-cd9c7a62e961>:25: UserWarning: Creating a tensor from a list of numpy.ndarrays is extremely slow. Please consider converting the list to a single numpy.ndarray with numpy.array() before converting to a tensor. (Triggered internally at ../torch/csrc/utils/tensor_new.cpp:230.)\n",
      "  (torch.FloatTensor(seq_vectors), torch.LongTensor(labels), len(seq_vectors))\n"
     ]
    },
    {
     "name": "stdout",
     "output_type": "stream",
     "text": [
      "\u001b[35mEpoch: \u001b[36m147/150 \u001b[35mStep: \u001b[36m 2/10 \u001b[35m 20.00% |\u001b[35m████                \u001b[35m|\u001b[35mETA: \u001b[32m13.24s \u001b[35mval_loss:\u001b[94m 0.056431\u001b[35m val_acc:\u001b[94m 98.917747"
     ]
    },
    {
     "name": "stderr",
     "output_type": "stream",
     "text": [
      "<ipython-input-16-cd9c7a62e961>:25: UserWarning: Creating a tensor from a list of numpy.ndarrays is extremely slow. Please consider converting the list to a single numpy.ndarray with numpy.array() before converting to a tensor. (Triggered internally at ../torch/csrc/utils/tensor_new.cpp:230.)\n",
      "  (torch.FloatTensor(seq_vectors), torch.LongTensor(labels), len(seq_vectors))\n"
     ]
    },
    {
     "name": "stdout",
     "output_type": "stream",
     "text": [
      "\u001b[35mEpoch: \u001b[36m147/150 \u001b[35mTrain steps: \u001b[36m38 \u001b[35mVal steps: \u001b[36m10 \u001b[32m45.47s \u001b[35mloss:\u001b[94m 0.090180\u001b[35m acc:\u001b[94m 97.599606\u001b[35m val_loss:\u001b[94m 0.069966\u001b[35m val_acc:\u001b[94m 98.016503\u001b[0m\n"
     ]
    },
    {
     "name": "stderr",
     "output_type": "stream",
     "text": [
      "<ipython-input-16-cd9c7a62e961>:25: UserWarning: Creating a tensor from a list of numpy.ndarrays is extremely slow. Please consider converting the list to a single numpy.ndarray with numpy.array() before converting to a tensor. (Triggered internally at ../torch/csrc/utils/tensor_new.cpp:230.)\n",
      "  (torch.FloatTensor(seq_vectors), torch.LongTensor(labels), len(seq_vectors))\n",
      "<ipython-input-16-cd9c7a62e961>:25: UserWarning: Creating a tensor from a list of numpy.ndarrays is extremely slow. Please consider converting the list to a single numpy.ndarray with numpy.array() before converting to a tensor. (Triggered internally at ../torch/csrc/utils/tensor_new.cpp:230.)\n",
      "  (torch.FloatTensor(seq_vectors), torch.LongTensor(labels), len(seq_vectors))\n",
      "<ipython-input-16-cd9c7a62e961>:25: UserWarning: Creating a tensor from a list of numpy.ndarrays is extremely slow. Please consider converting the list to a single numpy.ndarray with numpy.array() before converting to a tensor. (Triggered internally at ../torch/csrc/utils/tensor_new.cpp:230.)\n",
      "  (torch.FloatTensor(seq_vectors), torch.LongTensor(labels), len(seq_vectors))\n",
      "<ipython-input-16-cd9c7a62e961>:25: UserWarning: Creating a tensor from a list of numpy.ndarrays is extremely slow. Please consider converting the list to a single numpy.ndarray with numpy.array() before converting to a tensor. (Triggered internally at ../torch/csrc/utils/tensor_new.cpp:230.)\n",
      "  (torch.FloatTensor(seq_vectors), torch.LongTensor(labels), len(seq_vectors))\n"
     ]
    },
    {
     "name": "stdout",
     "output_type": "stream",
     "text": [
      "\u001b[35mEpoch: \u001b[36m148/150 \u001b[35mStep: \u001b[36m38/38 \u001b[35m100.00% |\u001b[35m████████████████████\u001b[35m|\u001b[35mETA: \u001b[32m0.00s \u001b[35mloss:\u001b[94m 0.164210\u001b[35m acc:\u001b[94m 93.141594"
     ]
    },
    {
     "name": "stderr",
     "output_type": "stream",
     "text": [
      "<ipython-input-16-cd9c7a62e961>:25: UserWarning: Creating a tensor from a list of numpy.ndarrays is extremely slow. Please consider converting the list to a single numpy.ndarray with numpy.array() before converting to a tensor. (Triggered internally at ../torch/csrc/utils/tensor_new.cpp:230.)\n",
      "  (torch.FloatTensor(seq_vectors), torch.LongTensor(labels), len(seq_vectors))\n",
      "<ipython-input-16-cd9c7a62e961>:25: UserWarning: Creating a tensor from a list of numpy.ndarrays is extremely slow. Please consider converting the list to a single numpy.ndarray with numpy.array() before converting to a tensor. (Triggered internally at ../torch/csrc/utils/tensor_new.cpp:230.)\n",
      "  (torch.FloatTensor(seq_vectors), torch.LongTensor(labels), len(seq_vectors))\n",
      "<ipython-input-16-cd9c7a62e961>:25: UserWarning: Creating a tensor from a list of numpy.ndarrays is extremely slow. Please consider converting the list to a single numpy.ndarray with numpy.array() before converting to a tensor. (Triggered internally at ../torch/csrc/utils/tensor_new.cpp:230.)\n",
      "  (torch.FloatTensor(seq_vectors), torch.LongTensor(labels), len(seq_vectors))\n"
     ]
    },
    {
     "name": "stdout",
     "output_type": "stream",
     "text": [
      "\u001b[35mEpoch: \u001b[36m148/150 \u001b[35mStep: \u001b[36m 2/10 \u001b[35m 20.00% |\u001b[35m████                \u001b[35m|\u001b[35mETA: \u001b[32m13.19s \u001b[35mval_loss:\u001b[94m 0.388076\u001b[35m val_acc:\u001b[94m 84.848488"
     ]
    },
    {
     "name": "stderr",
     "output_type": "stream",
     "text": [
      "<ipython-input-16-cd9c7a62e961>:25: UserWarning: Creating a tensor from a list of numpy.ndarrays is extremely slow. Please consider converting the list to a single numpy.ndarray with numpy.array() before converting to a tensor. (Triggered internally at ../torch/csrc/utils/tensor_new.cpp:230.)\n",
      "  (torch.FloatTensor(seq_vectors), torch.LongTensor(labels), len(seq_vectors))\n"
     ]
    },
    {
     "name": "stdout",
     "output_type": "stream",
     "text": [
      "\u001b[35mEpoch: \u001b[36m148/150 \u001b[35mTrain steps: \u001b[36m38 \u001b[35mVal steps: \u001b[36m10 \u001b[32m45.15s \u001b[35mloss:\u001b[94m 0.095362\u001b[35m acc:\u001b[94m 97.451547\u001b[35m val_loss:\u001b[94m 0.479339\u001b[35m val_acc:\u001b[94m 84.671582\u001b[0m\n"
     ]
    },
    {
     "name": "stderr",
     "output_type": "stream",
     "text": [
      "<ipython-input-16-cd9c7a62e961>:25: UserWarning: Creating a tensor from a list of numpy.ndarrays is extremely slow. Please consider converting the list to a single numpy.ndarray with numpy.array() before converting to a tensor. (Triggered internally at ../torch/csrc/utils/tensor_new.cpp:230.)\n",
      "  (torch.FloatTensor(seq_vectors), torch.LongTensor(labels), len(seq_vectors))\n",
      "<ipython-input-16-cd9c7a62e961>:25: UserWarning: Creating a tensor from a list of numpy.ndarrays is extremely slow. Please consider converting the list to a single numpy.ndarray with numpy.array() before converting to a tensor. (Triggered internally at ../torch/csrc/utils/tensor_new.cpp:230.)\n",
      "  (torch.FloatTensor(seq_vectors), torch.LongTensor(labels), len(seq_vectors))\n",
      "<ipython-input-16-cd9c7a62e961>:25: UserWarning: Creating a tensor from a list of numpy.ndarrays is extremely slow. Please consider converting the list to a single numpy.ndarray with numpy.array() before converting to a tensor. (Triggered internally at ../torch/csrc/utils/tensor_new.cpp:230.)\n",
      "  (torch.FloatTensor(seq_vectors), torch.LongTensor(labels), len(seq_vectors))\n",
      "<ipython-input-16-cd9c7a62e961>:25: UserWarning: Creating a tensor from a list of numpy.ndarrays is extremely slow. Please consider converting the list to a single numpy.ndarray with numpy.array() before converting to a tensor. (Triggered internally at ../torch/csrc/utils/tensor_new.cpp:230.)\n",
      "  (torch.FloatTensor(seq_vectors), torch.LongTensor(labels), len(seq_vectors))\n"
     ]
    },
    {
     "name": "stdout",
     "output_type": "stream",
     "text": [
      "\u001b[35mEpoch: \u001b[36m149/150 \u001b[35mStep: \u001b[36m38/38 \u001b[35m100.00% |\u001b[35m████████████████████\u001b[35m|\u001b[35mETA: \u001b[32m0.00s \u001b[35mloss:\u001b[94m 0.062698\u001b[35m acc:\u001b[94m 98.210297"
     ]
    },
    {
     "name": "stderr",
     "output_type": "stream",
     "text": [
      "<ipython-input-16-cd9c7a62e961>:25: UserWarning: Creating a tensor from a list of numpy.ndarrays is extremely slow. Please consider converting the list to a single numpy.ndarray with numpy.array() before converting to a tensor. (Triggered internally at ../torch/csrc/utils/tensor_new.cpp:230.)\n",
      "  (torch.FloatTensor(seq_vectors), torch.LongTensor(labels), len(seq_vectors))\n",
      "<ipython-input-16-cd9c7a62e961>:25: UserWarning: Creating a tensor from a list of numpy.ndarrays is extremely slow. Please consider converting the list to a single numpy.ndarray with numpy.array() before converting to a tensor. (Triggered internally at ../torch/csrc/utils/tensor_new.cpp:230.)\n",
      "  (torch.FloatTensor(seq_vectors), torch.LongTensor(labels), len(seq_vectors))\n",
      "<ipython-input-16-cd9c7a62e961>:25: UserWarning: Creating a tensor from a list of numpy.ndarrays is extremely slow. Please consider converting the list to a single numpy.ndarray with numpy.array() before converting to a tensor. (Triggered internally at ../torch/csrc/utils/tensor_new.cpp:230.)\n",
      "  (torch.FloatTensor(seq_vectors), torch.LongTensor(labels), len(seq_vectors))\n"
     ]
    },
    {
     "name": "stdout",
     "output_type": "stream",
     "text": [
      "\r",
      "\u001b[35mEpoch: \u001b[36m149/150 \u001b[35mStep: \u001b[36m 1/10 \u001b[35m 10.00% |\u001b[35m██                  \u001b[35m|\u001b[35mETA: \u001b[32m38.74s \u001b[35mval_loss:\u001b[94m 0.062431\u001b[35m val_acc:\u001b[94m 98.113213"
     ]
    },
    {
     "name": "stderr",
     "output_type": "stream",
     "text": [
      "<ipython-input-16-cd9c7a62e961>:25: UserWarning: Creating a tensor from a list of numpy.ndarrays is extremely slow. Please consider converting the list to a single numpy.ndarray with numpy.array() before converting to a tensor. (Triggered internally at ../torch/csrc/utils/tensor_new.cpp:230.)\n",
      "  (torch.FloatTensor(seq_vectors), torch.LongTensor(labels), len(seq_vectors))\n"
     ]
    },
    {
     "name": "stdout",
     "output_type": "stream",
     "text": [
      "\u001b[35mEpoch: \u001b[36m149/150 \u001b[35mTrain steps: \u001b[36m38 \u001b[35mVal steps: \u001b[36m10 \u001b[32m44.96s \u001b[35mloss:\u001b[94m 0.159376\u001b[35m acc:\u001b[94m 95.876830\u001b[35m val_loss:\u001b[94m 0.072640\u001b[35m val_acc:\u001b[94m 98.039862\u001b[0m\n"
     ]
    },
    {
     "name": "stderr",
     "output_type": "stream",
     "text": [
      "<ipython-input-16-cd9c7a62e961>:25: UserWarning: Creating a tensor from a list of numpy.ndarrays is extremely slow. Please consider converting the list to a single numpy.ndarray with numpy.array() before converting to a tensor. (Triggered internally at ../torch/csrc/utils/tensor_new.cpp:230.)\n",
      "  (torch.FloatTensor(seq_vectors), torch.LongTensor(labels), len(seq_vectors))\n",
      "<ipython-input-16-cd9c7a62e961>:25: UserWarning: Creating a tensor from a list of numpy.ndarrays is extremely slow. Please consider converting the list to a single numpy.ndarray with numpy.array() before converting to a tensor. (Triggered internally at ../torch/csrc/utils/tensor_new.cpp:230.)\n",
      "  (torch.FloatTensor(seq_vectors), torch.LongTensor(labels), len(seq_vectors))\n",
      "<ipython-input-16-cd9c7a62e961>:25: UserWarning: Creating a tensor from a list of numpy.ndarrays is extremely slow. Please consider converting the list to a single numpy.ndarray with numpy.array() before converting to a tensor. (Triggered internally at ../torch/csrc/utils/tensor_new.cpp:230.)\n",
      "  (torch.FloatTensor(seq_vectors), torch.LongTensor(labels), len(seq_vectors))\n",
      "<ipython-input-16-cd9c7a62e961>:25: UserWarning: Creating a tensor from a list of numpy.ndarrays is extremely slow. Please consider converting the list to a single numpy.ndarray with numpy.array() before converting to a tensor. (Triggered internally at ../torch/csrc/utils/tensor_new.cpp:230.)\n",
      "  (torch.FloatTensor(seq_vectors), torch.LongTensor(labels), len(seq_vectors))\n"
     ]
    },
    {
     "name": "stdout",
     "output_type": "stream",
     "text": [
      "\u001b[35mEpoch: \u001b[36m150/150 \u001b[35mStep: \u001b[36m38/38 \u001b[35m100.00% |\u001b[35m████████████████████\u001b[35m|\u001b[35mETA: \u001b[32m0.00s \u001b[35mloss:\u001b[94m 0.071996\u001b[35m acc:\u001b[94m 97.505669"
     ]
    },
    {
     "name": "stderr",
     "output_type": "stream",
     "text": [
      "<ipython-input-16-cd9c7a62e961>:25: UserWarning: Creating a tensor from a list of numpy.ndarrays is extremely slow. Please consider converting the list to a single numpy.ndarray with numpy.array() before converting to a tensor. (Triggered internally at ../torch/csrc/utils/tensor_new.cpp:230.)\n",
      "  (torch.FloatTensor(seq_vectors), torch.LongTensor(labels), len(seq_vectors))\n",
      "<ipython-input-16-cd9c7a62e961>:25: UserWarning: Creating a tensor from a list of numpy.ndarrays is extremely slow. Please consider converting the list to a single numpy.ndarray with numpy.array() before converting to a tensor. (Triggered internally at ../torch/csrc/utils/tensor_new.cpp:230.)\n",
      "  (torch.FloatTensor(seq_vectors), torch.LongTensor(labels), len(seq_vectors))\n"
     ]
    },
    {
     "name": "stdout",
     "output_type": "stream",
     "text": [
      "\r",
      "\u001b[35mEpoch: \u001b[36m150/150 \u001b[35mStep: \u001b[36m 1/10 \u001b[35m 10.00% |\u001b[35m██                  \u001b[35m|\u001b[35mETA: \u001b[32m34.35s \u001b[35mval_loss:\u001b[94m 0.081132\u001b[35m val_acc:\u001b[94m 97.693924"
     ]
    },
    {
     "name": "stderr",
     "output_type": "stream",
     "text": [
      "<ipython-input-16-cd9c7a62e961>:25: UserWarning: Creating a tensor from a list of numpy.ndarrays is extremely slow. Please consider converting the list to a single numpy.ndarray with numpy.array() before converting to a tensor. (Triggered internally at ../torch/csrc/utils/tensor_new.cpp:230.)\n",
      "  (torch.FloatTensor(seq_vectors), torch.LongTensor(labels), len(seq_vectors))\n"
     ]
    },
    {
     "name": "stdout",
     "output_type": "stream",
     "text": [
      "\r",
      "\u001b[35mEpoch: \u001b[36m150/150 \u001b[35mStep: \u001b[36m 2/10 \u001b[35m 20.00% |\u001b[35m████                \u001b[35m|\u001b[35mETA: \u001b[32m14.85s \u001b[35mval_loss:\u001b[94m 0.062560\u001b[35m val_acc:\u001b[94m 98.051949"
     ]
    },
    {
     "name": "stderr",
     "output_type": "stream",
     "text": [
      "<ipython-input-16-cd9c7a62e961>:25: UserWarning: Creating a tensor from a list of numpy.ndarrays is extremely slow. Please consider converting the list to a single numpy.ndarray with numpy.array() before converting to a tensor. (Triggered internally at ../torch/csrc/utils/tensor_new.cpp:230.)\n",
      "  (torch.FloatTensor(seq_vectors), torch.LongTensor(labels), len(seq_vectors))\n"
     ]
    },
    {
     "name": "stdout",
     "output_type": "stream",
     "text": [
      "\u001b[35mEpoch: \u001b[36m150/150 \u001b[35mTrain steps: \u001b[36m38 \u001b[35mVal steps: \u001b[36m10 \u001b[32m48.16s \u001b[35mloss:\u001b[94m 0.089095\u001b[35m acc:\u001b[94m 97.536878\u001b[35m val_loss:\u001b[94m 0.091089\u001b[35m val_acc:\u001b[94m 97.184498\u001b[0m\n",
      "Restoring data from ./checkpoint_epoch_146.ckpt\n"
     ]
    },
    {
     "data": {
      "text/plain": [
       "[{'epoch': 101,\n",
       "  'time': 49.723367712000254,\n",
       "  'loss': 0.15564924373014222,\n",
       "  'acc': 95.33199644500996,\n",
       "  'val_loss': 0.13917053581707953,\n",
       "  'val_acc': 95.10803127131706},\n",
       " {'epoch': 102,\n",
       "  'time': 62.82551736200003,\n",
       "  'loss': 0.15640381993568694,\n",
       "  'acc': 95.43310394538386,\n",
       "  'val_loss': 0.12470813728930334,\n",
       "  'val_acc': 95.96698830115933},\n",
       " {'epoch': 103,\n",
       "  'time': 55.559117683000295,\n",
       "  'loss': 0.1481261820447646,\n",
       "  'acc': 95.68687125811022,\n",
       "  'val_loss': 0.12563629743000232,\n",
       "  'val_acc': 95.63448220619064},\n",
       " {'epoch': 104,\n",
       "  'time': 46.731450330999905,\n",
       "  'loss': 0.151194211851672,\n",
       "  'acc': 95.48654361377777,\n",
       "  'val_loss': 0.12696624711720517,\n",
       "  'val_acc': 95.49295971538915},\n",
       " {'epoch': 105,\n",
       "  'time': 49.63417510799991,\n",
       "  'loss': 0.14779870263916223,\n",
       "  'acc': 95.65522832073465,\n",
       "  'val_loss': 0.11999674156136332,\n",
       "  'val_acc': 95.99372536975038},\n",
       " {'epoch': 106,\n",
       "  'time': 48.25509695099936,\n",
       "  'loss': 0.14464190056008436,\n",
       "  'acc': 95.66588458724354,\n",
       "  'val_loss': 0.12794133604702093,\n",
       "  'val_acc': 95.66164680996287},\n",
       " {'epoch': 107,\n",
       "  'time': 48.667892522999864,\n",
       "  'loss': 0.14741124720694157,\n",
       "  'acc': 95.65177356190719,\n",
       "  'val_loss': 0.12328307056888521,\n",
       "  'val_acc': 95.32656175340027},\n",
       " {'epoch': 108,\n",
       "  'time': 50.02394234199983,\n",
       "  'loss': 0.14107185753101475,\n",
       "  'acc': 95.90215270732253,\n",
       "  'val_loss': 0.115094586936803,\n",
       "  'val_acc': 96.03341853284758},\n",
       " {'epoch': 109,\n",
       "  'time': 54.56185709700003,\n",
       "  'loss': 0.14203588427119218,\n",
       "  'acc': 95.93869287735055,\n",
       "  'val_loss': 0.11477133567879189,\n",
       "  'val_acc': 96.03217329499749},\n",
       " {'epoch': 110,\n",
       "  'time': 47.7085220580002,\n",
       "  'loss': 0.1465586326823111,\n",
       "  'acc': 95.54957920732494,\n",
       "  'val_loss': 0.11552968947753875,\n",
       "  'val_acc': 95.72068540268322},\n",
       " {'epoch': 111,\n",
       "  'time': 49.02811179700075,\n",
       "  'loss': 0.13609717043401184,\n",
       "  'acc': 95.95587930565462,\n",
       "  'val_loss': 0.11467835854560972,\n",
       "  'val_acc': 96.0378389562767},\n",
       " {'epoch': 112,\n",
       "  'time': 45.618742700999974,\n",
       "  'loss': 0.1346199126855097,\n",
       "  'acc': 96.1112097453168,\n",
       "  'val_loss': 0.11190225353350945,\n",
       "  'val_acc': 96.18340453598802},\n",
       " {'epoch': 113,\n",
       "  'time': 45.895210186999975,\n",
       "  'loss': 0.13536235229401689,\n",
       "  'acc': 96.12010978739563,\n",
       "  'val_loss': 0.1115666385463867,\n",
       "  'val_acc': 96.21569399385908},\n",
       " {'epoch': 114,\n",
       "  'time': 48.31117761900077,\n",
       "  'loss': 0.1338981899884121,\n",
       "  'acc': 96.11824004863112,\n",
       "  'val_loss': 0.11087123839770746,\n",
       "  'val_acc': 96.54719819975449},\n",
       " {'epoch': 115,\n",
       "  'time': 45.54581247599981,\n",
       "  'loss': 0.1333772917743964,\n",
       "  'acc': 96.0680448422956,\n",
       "  'val_loss': 0.12667684066776783,\n",
       "  'val_acc': 95.59704945546987},\n",
       " {'epoch': 116,\n",
       "  'time': 46.52064795499973,\n",
       "  'loss': 0.1336916295796964,\n",
       "  'acc': 96.16558191480829,\n",
       "  'val_loss': 0.10655524997774027,\n",
       "  'val_acc': 96.1189032967833},\n",
       " {'epoch': 117,\n",
       "  'time': 48.09832831800031,\n",
       "  'loss': 0.13430547233887197,\n",
       "  'acc': 96.04316368118732,\n",
       "  'val_loss': 0.11819186865596049,\n",
       "  'val_acc': 95.86701291632613},\n",
       " {'epoch': 118,\n",
       "  'time': 45.85408360299971,\n",
       "  'loss': 0.1278741475380267,\n",
       "  'acc': 96.23055779624741,\n",
       "  'val_loss': 0.10230810970951737,\n",
       "  'val_acc': 96.74541408029773},\n",
       " {'epoch': 119,\n",
       "  'time': 45.4402222890003,\n",
       "  'loss': 0.12776004550951703,\n",
       "  'acc': 96.24146823247013,\n",
       "  'val_loss': 0.09962931885407038,\n",
       "  'val_acc': 96.80642084313382},\n",
       " {'epoch': 120,\n",
       "  'time': 48.237242965000405,\n",
       "  'loss': 0.12742803794530844,\n",
       "  'acc': 96.33957505334106,\n",
       "  'val_loss': 0.09904014063873244,\n",
       "  'val_acc': 96.83042384843654},\n",
       " {'epoch': 121,\n",
       "  'time': 45.160750725999605,\n",
       "  'loss': 0.12452854779570031,\n",
       "  'acc': 96.45327816896842,\n",
       "  'val_loss': 0.12358143665448838,\n",
       "  'val_acc': 95.99687383359503},\n",
       " {'epoch': 122,\n",
       "  'time': 45.97572671099988,\n",
       "  'loss': 0.1281713675991308,\n",
       "  'acc': 96.43367844601627,\n",
       "  'val_loss': 0.10214845105833827,\n",
       "  'val_acc': 96.52163542947031},\n",
       " {'epoch': 123,\n",
       "  'time': 45.60595635400023,\n",
       "  'loss': 0.1207200445452557,\n",
       "  'acc': 96.56486043541359,\n",
       "  'val_loss': 0.09541104856688265,\n",
       "  'val_acc': 96.77930876529197},\n",
       " {'epoch': 124,\n",
       "  'time': 48.78667086400037,\n",
       "  'loss': 0.12102599356426237,\n",
       "  'acc': 96.48160006451283,\n",
       "  'val_loss': 0.10312425440922993,\n",
       "  'val_acc': 97.02431976971948},\n",
       " {'epoch': 125,\n",
       "  'time': 45.322158333000516,\n",
       "  'loss': 0.1214895060538215,\n",
       "  'acc': 96.5264216768933,\n",
       "  'val_loss': 0.09035387419201005,\n",
       "  'val_acc': 97.40010029323018},\n",
       " {'epoch': 126,\n",
       "  'time': 46.24871456999972,\n",
       "  'loss': 0.11580957649616902,\n",
       "  'acc': 96.78609662234611,\n",
       "  'val_loss': 0.09325617204437146,\n",
       "  'val_acc': 96.92841554041553},\n",
       " {'epoch': 127,\n",
       "  'time': 48.61997033900025,\n",
       "  'loss': 0.1161846506093794,\n",
       "  'acc': 96.74686756660144,\n",
       "  'val_loss': 0.09289215157756696,\n",
       "  'val_acc': 97.43255852788835},\n",
       " {'epoch': 128,\n",
       "  'time': 45.24068687500039,\n",
       "  'loss': 0.11085568738356692,\n",
       "  'acc': 97.07358350317976,\n",
       "  'val_loss': 0.088631665901798,\n",
       "  'val_acc': 97.22167959951686},\n",
       " {'epoch': 129,\n",
       "  'time': 45.43623910699989,\n",
       "  'loss': 0.11403809030171823,\n",
       "  'acc': 96.82939048694848,\n",
       "  'val_loss': 0.10398356253173835,\n",
       "  'val_acc': 96.15834628612637},\n",
       " {'epoch': 130,\n",
       "  'time': 47.673106462999385,\n",
       "  'loss': 0.11683577995098585,\n",
       "  'acc': 96.79284485793006,\n",
       "  'val_loss': 0.09463267785664249,\n",
       "  'val_acc': 96.54977329009054},\n",
       " {'epoch': 131,\n",
       "  'time': 45.75173251100023,\n",
       "  'loss': 0.10959825583474045,\n",
       "  'acc': 96.91904943536073,\n",
       "  'val_loss': 0.0906297169024312,\n",
       "  'val_acc': 96.95386819352429},\n",
       " {'epoch': 132,\n",
       "  'time': 45.668066793000435,\n",
       "  'loss': 0.10844483528977905,\n",
       "  'acc': 97.03458737482893,\n",
       "  'val_loss': 0.08686920038778856,\n",
       "  'val_acc': 97.15501995809389},\n",
       " {'epoch': 133,\n",
       "  'time': 47.498587660999874,\n",
       "  'loss': 0.10840320784388476,\n",
       "  'acc': 97.18121635025545,\n",
       "  'val_loss': 0.09057294449706053,\n",
       "  'val_acc': 96.84354645730636},\n",
       " {'epoch': 134,\n",
       "  'time': 45.478243182999904,\n",
       "  'loss': 0.10631306094610922,\n",
       "  'acc': 97.08929163185644,\n",
       "  'val_loss': 0.08723782501267836,\n",
       "  'val_acc': 97.46400391328865},\n",
       " {'epoch': 135,\n",
       "  'time': 45.25282193200019,\n",
       "  'loss': 0.10478520626183055,\n",
       "  'acc': 97.15315323221482,\n",
       "  'val_loss': 0.08479717686845993,\n",
       "  'val_acc': 97.58182675206092},\n",
       " {'epoch': 136,\n",
       "  'time': 45.77692659100012,\n",
       "  'loss': 0.10181966511714405,\n",
       "  'acc': 97.27267655191622,\n",
       "  'val_loss': 0.07830624620520696,\n",
       "  'val_acc': 97.88791176357616},\n",
       " {'epoch': 137,\n",
       "  'time': 49.72950080999999,\n",
       "  'loss': 0.10167319412865036,\n",
       "  'acc': 97.24351619250885,\n",
       "  'val_loss': 0.0817660892250314,\n",
       "  'val_acc': 97.71566971051438},\n",
       " {'epoch': 138,\n",
       "  'time': 46.028411889999916,\n",
       "  'loss': 0.10187983421164808,\n",
       "  'acc': 97.27448487546818,\n",
       "  'val_loss': 0.08127552502262338,\n",
       "  'val_acc': 97.6696998307104},\n",
       " {'epoch': 139,\n",
       "  'time': 45.72790424300001,\n",
       "  'loss': 0.10027546512584914,\n",
       "  'acc': 97.34533150846843,\n",
       "  'val_loss': 0.08014969063747852,\n",
       "  'val_acc': 97.50263694247853},\n",
       " {'epoch': 140,\n",
       "  'time': 48.599904146999506,\n",
       "  'loss': 0.09765716496135728,\n",
       "  'acc': 97.33510571067939,\n",
       "  'val_loss': 0.07526579081913981,\n",
       "  'val_acc': 97.82034691397402},\n",
       " {'epoch': 141,\n",
       "  'time': 45.346390545999384,\n",
       "  'loss': 0.09596701027398347,\n",
       "  'acc': 97.46014168724791,\n",
       "  'val_loss': 0.07834371789995292,\n",
       "  'val_acc': 97.45746796056505},\n",
       " {'epoch': 142,\n",
       "  'time': 46.857287490999624,\n",
       "  'loss': 0.09451223466316826,\n",
       "  'acc': 97.49120335207893,\n",
       "  'val_loss': 0.10523584843467448,\n",
       "  'val_acc': 96.52255735444473},\n",
       " {'epoch': 143,\n",
       "  'time': 48.03438777100018,\n",
       "  'loss': 0.0956122846196541,\n",
       "  'acc': 97.3351077365993,\n",
       "  'val_loss': 0.08422133611297293,\n",
       "  'val_acc': 96.90485657341594},\n",
       " {'epoch': 144,\n",
       "  'time': 46.90120079799908,\n",
       "  'loss': 0.09393502579225145,\n",
       "  'acc': 97.46713828804955,\n",
       "  'val_loss': 0.0699683123711601,\n",
       "  'val_acc': 98.12957880563752},\n",
       " {'epoch': 145,\n",
       "  'time': 45.61497750700073,\n",
       "  'loss': 0.09096638576122604,\n",
       "  'acc': 97.55212736542012,\n",
       "  'val_loss': 0.07358011101331113,\n",
       "  'val_acc': 97.88910367107863},\n",
       " {'epoch': 146,\n",
       "  'time': 49.53899095899942,\n",
       "  'loss': 0.09365844001442182,\n",
       "  'acc': 97.52930078235562,\n",
       "  'val_loss': 0.06910915319889145,\n",
       "  'val_acc': 98.03892637752426},\n",
       " {'epoch': 147,\n",
       "  'time': 45.47317820399985,\n",
       "  'loss': 0.09018015338528937,\n",
       "  'acc': 97.5996056121286,\n",
       "  'val_loss': 0.06996614818616204,\n",
       "  'val_acc': 98.01650324763341},\n",
       " {'epoch': 148,\n",
       "  'time': 45.152710227999705,\n",
       "  'loss': 0.09536204223600421,\n",
       "  'acc': 97.45154719158376,\n",
       "  'val_loss': 0.47933869581835276,\n",
       "  'val_acc': 84.67158189047699},\n",
       " {'epoch': 149,\n",
       "  'time': 44.962735294000595,\n",
       "  'loss': 0.15937599043153647,\n",
       "  'acc': 95.8768304893145,\n",
       "  'val_loss': 0.07263954861405654,\n",
       "  'val_acc': 98.03986191474625},\n",
       " {'epoch': 150,\n",
       "  'time': 48.16335222199996,\n",
       "  'loss': 0.08909477898985234,\n",
       "  'acc': 97.53687803379151,\n",
       "  'val_loss': 0.09108897291209789,\n",
       "  'val_acc': 97.18449765100118}]"
      ]
     },
     "execution_count": 30,
     "metadata": {},
     "output_type": "execute_result"
    }
   ],
   "source": [
    "exp_bi_lstm = Experiment(\n",
    "    \"./\",\n",
    "    full_network_bi_lstm,\n",
    "    optimizer=optimizer,\n",
    "    loss_function=cross_entropy,\n",
    "    batch_metrics=[\"acc\"],\n",
    ")\n",
    "\n",
    "exp_bi_lstm.train(train_loader, valid_generator=valid_loader, epochs=epoch_number)"
   ]
  },
  {
   "cell_type": "code",
   "execution_count": 31,
   "metadata": {
    "colab": {
     "base_uri": "https://localhost:8080/"
    },
    "id": "Bz9etCqvMbpO",
    "outputId": "f1189c35-ad32-4ef8-9d17-bba63b49b3d9"
   },
   "outputs": [
    {
     "name": "stdout",
     "output_type": "stream",
     "text": [
      "Found best checkpoint at epoch: 146\n",
      "lr: 0.1, loss: 0.0936584, acc: 97.5293, val_loss: 0.0691092, val_acc: 98.0389\n",
      "Loading checkpoint ./checkpoint_epoch_146.ckpt\n",
      "Running test\n"
     ]
    },
    {
     "name": "stderr",
     "output_type": "stream",
     "text": [
      "<ipython-input-16-cd9c7a62e961>:25: UserWarning: Creating a tensor from a list of numpy.ndarrays is extremely slow. Please consider converting the list to a single numpy.ndarray with numpy.array() before converting to a tensor. (Triggered internally at ../torch/csrc/utils/tensor_new.cpp:230.)\n",
      "  (torch.FloatTensor(seq_vectors), torch.LongTensor(labels), len(seq_vectors))\n"
     ]
    },
    {
     "name": "stdout",
     "output_type": "stream",
     "text": [
      "\r",
      "\u001b[35mStep: \u001b[36m1/6 \u001b[35m 16.67% |\u001b[35m███▎                \u001b[35m|\u001b[35mETA: \u001b[32m18.09s \u001b[35mtest_loss:\u001b[94m 0.094659\u001b[35m test_acc:\u001b[94m 97.228149"
     ]
    },
    {
     "name": "stderr",
     "output_type": "stream",
     "text": [
      "<ipython-input-16-cd9c7a62e961>:25: UserWarning: Creating a tensor from a list of numpy.ndarrays is extremely slow. Please consider converting the list to a single numpy.ndarray with numpy.array() before converting to a tensor. (Triggered internally at ../torch/csrc/utils/tensor_new.cpp:230.)\n",
      "  (torch.FloatTensor(seq_vectors), torch.LongTensor(labels), len(seq_vectors))\n"
     ]
    },
    {
     "name": "stdout",
     "output_type": "stream",
     "text": [
      "\u001b[35mTest steps: \u001b[36m6 \u001b[32m10.93s \u001b[35mtest_loss:\u001b[94m 0.073938\u001b[35m test_acc:\u001b[94m 97.952621\u001b[0m                                              \n"
     ]
    },
    {
     "data": {
      "text/plain": [
       "{'time': 10.925234112000908,\n",
       " 'test_loss': 0.07393832997539201,\n",
       " 'test_acc': 97.95262058933933}"
      ]
     },
     "execution_count": 31,
     "metadata": {},
     "output_type": "execute_result"
    }
   ],
   "source": [
    "exp_bi_lstm.test(test_loader)"
   ]
  },
  {
   "cell_type": "code",
   "execution_count": null,
   "metadata": {
    "id": "TBYk98PlwtoB"
   },
   "outputs": [],
   "source": []
  }
 ],
 "metadata": {
  "colab": {
   "provenance": []
  },
  "kernelspec": {
   "display_name": "Python 3",
   "language": "python",
   "name": "python3"
  },
  "language_info": {
   "codemirror_mode": {
    "name": "ipython",
    "version": 3
   },
   "file_extension": ".py",
   "mimetype": "text/x-python",
   "name": "python",
   "nbconvert_exporter": "python",
   "pygments_lexer": "ipython3",
   "version": "3.7.4"
  },
  "widgets": {
   "application/vnd.jupyter.widget-state+json": {
    "05c976fae8a848bcb0637a7374490f20": {
     "model_module": "@jupyter-widgets/controls",
     "model_module_version": "1.5.0",
     "model_name": "FloatProgressModel",
     "state": {
      "_dom_classes": [],
      "_model_module": "@jupyter-widgets/controls",
      "_model_module_version": "1.5.0",
      "_model_name": "FloatProgressModel",
      "_view_count": null,
      "_view_module": "@jupyter-widgets/controls",
      "_view_module_version": "1.5.0",
      "_view_name": "ProgressView",
      "bar_style": "success",
      "description": "",
      "description_tooltip": null,
      "layout": "IPY_MODEL_ed7bd0b658b04582827ff4ee75bb1176",
      "max": 435797,
      "min": 0,
      "orientation": "horizontal",
      "style": "IPY_MODEL_cae951b46ac74967b889f589bfcc7f22",
      "value": 435797
     }
    },
    "0beb15c459a44475833ba4ae08fc7d19": {
     "model_module": "@jupyter-widgets/controls",
     "model_module_version": "1.5.0",
     "model_name": "DescriptionStyleModel",
     "state": {
      "_model_module": "@jupyter-widgets/controls",
      "_model_module_version": "1.5.0",
      "_model_name": "DescriptionStyleModel",
      "_view_count": null,
      "_view_module": "@jupyter-widgets/base",
      "_view_module_version": "1.2.0",
      "_view_name": "StyleView",
      "description_width": ""
     }
    },
    "0c390d3d1b4b4b2196b894d935965c39": {
     "model_module": "@jupyter-widgets/base",
     "model_module_version": "1.2.0",
     "model_name": "LayoutModel",
     "state": {
      "_model_module": "@jupyter-widgets/base",
      "_model_module_version": "1.2.0",
      "_model_name": "LayoutModel",
      "_view_count": null,
      "_view_module": "@jupyter-widgets/base",
      "_view_module_version": "1.2.0",
      "_view_name": "LayoutView",
      "align_content": null,
      "align_items": null,
      "align_self": null,
      "border": null,
      "bottom": null,
      "display": null,
      "flex": null,
      "flex_flow": null,
      "grid_area": null,
      "grid_auto_columns": null,
      "grid_auto_flow": null,
      "grid_auto_rows": null,
      "grid_column": null,
      "grid_gap": null,
      "grid_row": null,
      "grid_template_areas": null,
      "grid_template_columns": null,
      "grid_template_rows": null,
      "height": null,
      "justify_content": null,
      "justify_items": null,
      "left": null,
      "margin": null,
      "max_height": null,
      "max_width": null,
      "min_height": null,
      "min_width": null,
      "object_fit": null,
      "object_position": null,
      "order": null,
      "overflow": null,
      "overflow_x": null,
      "overflow_y": null,
      "padding": null,
      "right": null,
      "top": null,
      "visibility": null,
      "width": null
     }
    },
    "0dec530599b340e7ad5bc23f3580e49d": {
     "model_module": "@jupyter-widgets/base",
     "model_module_version": "1.2.0",
     "model_name": "LayoutModel",
     "state": {
      "_model_module": "@jupyter-widgets/base",
      "_model_module_version": "1.2.0",
      "_model_name": "LayoutModel",
      "_view_count": null,
      "_view_module": "@jupyter-widgets/base",
      "_view_module_version": "1.2.0",
      "_view_name": "LayoutView",
      "align_content": null,
      "align_items": null,
      "align_self": null,
      "border": null,
      "bottom": null,
      "display": null,
      "flex": null,
      "flex_flow": null,
      "grid_area": null,
      "grid_auto_columns": null,
      "grid_auto_flow": null,
      "grid_auto_rows": null,
      "grid_column": null,
      "grid_gap": null,
      "grid_row": null,
      "grid_template_areas": null,
      "grid_template_columns": null,
      "grid_template_rows": null,
      "height": null,
      "justify_content": null,
      "justify_items": null,
      "left": null,
      "margin": null,
      "max_height": null,
      "max_width": null,
      "min_height": null,
      "min_width": null,
      "object_fit": null,
      "object_position": null,
      "order": null,
      "overflow": null,
      "overflow_x": null,
      "overflow_y": null,
      "padding": null,
      "right": null,
      "top": null,
      "visibility": null,
      "width": null
     }
    },
    "0f0d0c3efbaf4b5f86b40bdd11e3b2d0": {
     "model_module": "@jupyter-widgets/controls",
     "model_module_version": "1.5.0",
     "model_name": "HBoxModel",
     "state": {
      "_dom_classes": [],
      "_model_module": "@jupyter-widgets/controls",
      "_model_module_version": "1.5.0",
      "_model_name": "HBoxModel",
      "_view_count": null,
      "_view_module": "@jupyter-widgets/controls",
      "_view_module_version": "1.5.0",
      "_view_name": "HBoxView",
      "box_style": "",
      "children": [
       "IPY_MODEL_1ee63bd92c244cbb826b4ec550529a31",
       "IPY_MODEL_60935cebe67d45dc962ddffbb641d083",
       "IPY_MODEL_e8369ca0a30843c499aa8461e8431c39"
      ],
      "layout": "IPY_MODEL_403be23460e9485abeeb50659e9ad868"
     }
    },
    "13a3bdf22b444af9a1a2c2b02e7eb4b1": {
     "model_module": "@jupyter-widgets/controls",
     "model_module_version": "1.5.0",
     "model_name": "ProgressStyleModel",
     "state": {
      "_model_module": "@jupyter-widgets/controls",
      "_model_module_version": "1.5.0",
      "_model_name": "ProgressStyleModel",
      "_view_count": null,
      "_view_module": "@jupyter-widgets/base",
      "_view_module_version": "1.2.0",
      "_view_name": "StyleView",
      "bar_color": null,
      "description_width": ""
     }
    },
    "1a2246a23f1f42a1be52f6b03b0f1544": {
     "model_module": "@jupyter-widgets/base",
     "model_module_version": "1.2.0",
     "model_name": "LayoutModel",
     "state": {
      "_model_module": "@jupyter-widgets/base",
      "_model_module_version": "1.2.0",
      "_model_name": "LayoutModel",
      "_view_count": null,
      "_view_module": "@jupyter-widgets/base",
      "_view_module_version": "1.2.0",
      "_view_name": "LayoutView",
      "align_content": null,
      "align_items": null,
      "align_self": null,
      "border": null,
      "bottom": null,
      "display": null,
      "flex": null,
      "flex_flow": null,
      "grid_area": null,
      "grid_auto_columns": null,
      "grid_auto_flow": null,
      "grid_auto_rows": null,
      "grid_column": null,
      "grid_gap": null,
      "grid_row": null,
      "grid_template_areas": null,
      "grid_template_columns": null,
      "grid_template_rows": null,
      "height": null,
      "justify_content": null,
      "justify_items": null,
      "left": null,
      "margin": null,
      "max_height": null,
      "max_width": null,
      "min_height": null,
      "min_width": null,
      "object_fit": null,
      "object_position": null,
      "order": null,
      "overflow": null,
      "overflow_x": null,
      "overflow_y": null,
      "padding": null,
      "right": null,
      "top": null,
      "visibility": null,
      "width": null
     }
    },
    "1a2a6efe52db442c8ac89f7ec8cdf6eb": {
     "model_module": "@jupyter-widgets/base",
     "model_module_version": "1.2.0",
     "model_name": "LayoutModel",
     "state": {
      "_model_module": "@jupyter-widgets/base",
      "_model_module_version": "1.2.0",
      "_model_name": "LayoutModel",
      "_view_count": null,
      "_view_module": "@jupyter-widgets/base",
      "_view_module_version": "1.2.0",
      "_view_name": "LayoutView",
      "align_content": null,
      "align_items": null,
      "align_self": null,
      "border": null,
      "bottom": null,
      "display": null,
      "flex": null,
      "flex_flow": null,
      "grid_area": null,
      "grid_auto_columns": null,
      "grid_auto_flow": null,
      "grid_auto_rows": null,
      "grid_column": null,
      "grid_gap": null,
      "grid_row": null,
      "grid_template_areas": null,
      "grid_template_columns": null,
      "grid_template_rows": null,
      "height": null,
      "justify_content": null,
      "justify_items": null,
      "left": null,
      "margin": null,
      "max_height": null,
      "max_width": null,
      "min_height": null,
      "min_width": null,
      "object_fit": null,
      "object_position": null,
      "order": null,
      "overflow": null,
      "overflow_x": null,
      "overflow_y": null,
      "padding": null,
      "right": null,
      "top": null,
      "visibility": null,
      "width": null
     }
    },
    "1cbac291703b4bc59abae96f9084cb78": {
     "model_module": "@jupyter-widgets/controls",
     "model_module_version": "1.5.0",
     "model_name": "HTMLModel",
     "state": {
      "_dom_classes": [],
      "_model_module": "@jupyter-widgets/controls",
      "_model_module_version": "1.5.0",
      "_model_name": "HTMLModel",
      "_view_count": null,
      "_view_module": "@jupyter-widgets/controls",
      "_view_module_version": "1.5.0",
      "_view_name": "HTMLView",
      "description": "",
      "description_tooltip": null,
      "layout": "IPY_MODEL_b960ff282fb1417387d24cfbeeb6b9f4",
      "placeholder": "​",
      "style": "IPY_MODEL_0beb15c459a44475833ba4ae08fc7d19",
      "value": "Downloading: 100%"
     }
    },
    "1d59e53a9ddd4bbe9ca6f37ca5a05996": {
     "model_module": "@jupyter-widgets/controls",
     "model_module_version": "1.5.0",
     "model_name": "HTMLModel",
     "state": {
      "_dom_classes": [],
      "_model_module": "@jupyter-widgets/controls",
      "_model_module_version": "1.5.0",
      "_model_name": "HTMLModel",
      "_view_count": null,
      "_view_module": "@jupyter-widgets/controls",
      "_view_module_version": "1.5.0",
      "_view_name": "HTMLView",
      "description": "",
      "description_tooltip": null,
      "layout": "IPY_MODEL_62b0164b14304a9495f07c17f47b7f50",
      "placeholder": "​",
      "style": "IPY_MODEL_62492820c80a4a119e878ccbdc3f695f",
      "value": " 411/411 [00:00&lt;00:00, 6.57kB/s]"
     }
    },
    "1ee63bd92c244cbb826b4ec550529a31": {
     "model_module": "@jupyter-widgets/controls",
     "model_module_version": "1.5.0",
     "model_name": "HTMLModel",
     "state": {
      "_dom_classes": [],
      "_model_module": "@jupyter-widgets/controls",
      "_model_module_version": "1.5.0",
      "_model_name": "HTMLModel",
      "_view_count": null,
      "_view_module": "@jupyter-widgets/controls",
      "_view_module_version": "1.5.0",
      "_view_name": "HTMLView",
      "description": "",
      "description_tooltip": null,
      "layout": "IPY_MODEL_644f6ad2df084da892975a2f739263ed",
      "placeholder": "​",
      "style": "IPY_MODEL_b667a2be670f47bfa4c7c3f33998f806",
      "value": "Downloading: 100%"
     }
    },
    "1f96f58d0da24c49acd9ee6f30b3d272": {
     "model_module": "@jupyter-widgets/controls",
     "model_module_version": "1.5.0",
     "model_name": "ProgressStyleModel",
     "state": {
      "_model_module": "@jupyter-widgets/controls",
      "_model_module_version": "1.5.0",
      "_model_name": "ProgressStyleModel",
      "_view_count": null,
      "_view_module": "@jupyter-widgets/base",
      "_view_module_version": "1.2.0",
      "_view_name": "StyleView",
      "bar_color": null,
      "description_width": ""
     }
    },
    "24b5a54b0ab94ab7aba1d2cb870001d7": {
     "model_module": "@jupyter-widgets/controls",
     "model_module_version": "1.5.0",
     "model_name": "HTMLModel",
     "state": {
      "_dom_classes": [],
      "_model_module": "@jupyter-widgets/controls",
      "_model_module_version": "1.5.0",
      "_model_name": "HTMLModel",
      "_view_count": null,
      "_view_module": "@jupyter-widgets/controls",
      "_view_module_version": "1.5.0",
      "_view_name": "HTMLView",
      "description": "",
      "description_tooltip": null,
      "layout": "IPY_MODEL_0dec530599b340e7ad5bc23f3580e49d",
      "placeholder": "​",
      "style": "IPY_MODEL_c8713ea280bd48cc9e5ecfc4c397f0bf",
      "value": "Downloading: 100%"
     }
    },
    "2beced093e944009a0e4b036551a53f3": {
     "model_module": "@jupyter-widgets/base",
     "model_module_version": "1.2.0",
     "model_name": "LayoutModel",
     "state": {
      "_model_module": "@jupyter-widgets/base",
      "_model_module_version": "1.2.0",
      "_model_name": "LayoutModel",
      "_view_count": null,
      "_view_module": "@jupyter-widgets/base",
      "_view_module_version": "1.2.0",
      "_view_name": "LayoutView",
      "align_content": null,
      "align_items": null,
      "align_self": null,
      "border": null,
      "bottom": null,
      "display": null,
      "flex": null,
      "flex_flow": null,
      "grid_area": null,
      "grid_auto_columns": null,
      "grid_auto_flow": null,
      "grid_auto_rows": null,
      "grid_column": null,
      "grid_gap": null,
      "grid_row": null,
      "grid_template_areas": null,
      "grid_template_columns": null,
      "grid_template_rows": null,
      "height": null,
      "justify_content": null,
      "justify_items": null,
      "left": null,
      "margin": null,
      "max_height": null,
      "max_width": null,
      "min_height": null,
      "min_width": null,
      "object_fit": null,
      "object_position": null,
      "order": null,
      "overflow": null,
      "overflow_x": null,
      "overflow_y": null,
      "padding": null,
      "right": null,
      "top": null,
      "visibility": null,
      "width": null
     }
    },
    "395eb478f1734f74969dae19680a6b1c": {
     "model_module": "@jupyter-widgets/controls",
     "model_module_version": "1.5.0",
     "model_name": "HBoxModel",
     "state": {
      "_dom_classes": [],
      "_model_module": "@jupyter-widgets/controls",
      "_model_module_version": "1.5.0",
      "_model_name": "HBoxModel",
      "_view_count": null,
      "_view_module": "@jupyter-widgets/controls",
      "_view_module_version": "1.5.0",
      "_view_name": "HBoxView",
      "box_style": "",
      "children": [
       "IPY_MODEL_1cbac291703b4bc59abae96f9084cb78",
       "IPY_MODEL_5e28c5bf84b84ea59c8dc458fe723a9e",
       "IPY_MODEL_4a0932929fc24ae48e5e6eeab1b9b9f2"
      ],
      "layout": "IPY_MODEL_c60762cd934c490aa78b05d2a1c252a3"
     }
    },
    "3bcb62f9402b4a029c0eb9cc38659ab1": {
     "model_module": "@jupyter-widgets/base",
     "model_module_version": "1.2.0",
     "model_name": "LayoutModel",
     "state": {
      "_model_module": "@jupyter-widgets/base",
      "_model_module_version": "1.2.0",
      "_model_name": "LayoutModel",
      "_view_count": null,
      "_view_module": "@jupyter-widgets/base",
      "_view_module_version": "1.2.0",
      "_view_name": "LayoutView",
      "align_content": null,
      "align_items": null,
      "align_self": null,
      "border": null,
      "bottom": null,
      "display": null,
      "flex": null,
      "flex_flow": null,
      "grid_area": null,
      "grid_auto_columns": null,
      "grid_auto_flow": null,
      "grid_auto_rows": null,
      "grid_column": null,
      "grid_gap": null,
      "grid_row": null,
      "grid_template_areas": null,
      "grid_template_columns": null,
      "grid_template_rows": null,
      "height": null,
      "justify_content": null,
      "justify_items": null,
      "left": null,
      "margin": null,
      "max_height": null,
      "max_width": null,
      "min_height": null,
      "min_width": null,
      "object_fit": null,
      "object_position": null,
      "order": null,
      "overflow": null,
      "overflow_x": null,
      "overflow_y": null,
      "padding": null,
      "right": null,
      "top": null,
      "visibility": null,
      "width": null
     }
    },
    "403be23460e9485abeeb50659e9ad868": {
     "model_module": "@jupyter-widgets/base",
     "model_module_version": "1.2.0",
     "model_name": "LayoutModel",
     "state": {
      "_model_module": "@jupyter-widgets/base",
      "_model_module_version": "1.2.0",
      "_model_name": "LayoutModel",
      "_view_count": null,
      "_view_module": "@jupyter-widgets/base",
      "_view_module_version": "1.2.0",
      "_view_name": "LayoutView",
      "align_content": null,
      "align_items": null,
      "align_self": null,
      "border": null,
      "bottom": null,
      "display": null,
      "flex": null,
      "flex_flow": null,
      "grid_area": null,
      "grid_auto_columns": null,
      "grid_auto_flow": null,
      "grid_auto_rows": null,
      "grid_column": null,
      "grid_gap": null,
      "grid_row": null,
      "grid_template_areas": null,
      "grid_template_columns": null,
      "grid_template_rows": null,
      "height": null,
      "justify_content": null,
      "justify_items": null,
      "left": null,
      "margin": null,
      "max_height": null,
      "max_width": null,
      "min_height": null,
      "min_width": null,
      "object_fit": null,
      "object_position": null,
      "order": null,
      "overflow": null,
      "overflow_x": null,
      "overflow_y": null,
      "padding": null,
      "right": null,
      "top": null,
      "visibility": null,
      "width": null
     }
    },
    "44b152e4b513465c9374f7f65cfe165e": {
     "model_module": "@jupyter-widgets/controls",
     "model_module_version": "1.5.0",
     "model_name": "DescriptionStyleModel",
     "state": {
      "_model_module": "@jupyter-widgets/controls",
      "_model_module_version": "1.5.0",
      "_model_name": "DescriptionStyleModel",
      "_view_count": null,
      "_view_module": "@jupyter-widgets/base",
      "_view_module_version": "1.2.0",
      "_view_name": "StyleView",
      "description_width": ""
     }
    },
    "4609c5565d9c426b873e58f7f513a64f": {
     "model_module": "@jupyter-widgets/controls",
     "model_module_version": "1.5.0",
     "model_name": "ProgressStyleModel",
     "state": {
      "_model_module": "@jupyter-widgets/controls",
      "_model_module_version": "1.5.0",
      "_model_name": "ProgressStyleModel",
      "_view_count": null,
      "_view_module": "@jupyter-widgets/base",
      "_view_module_version": "1.2.0",
      "_view_name": "StyleView",
      "bar_color": null,
      "description_width": ""
     }
    },
    "4a0932929fc24ae48e5e6eeab1b9b9f2": {
     "model_module": "@jupyter-widgets/controls",
     "model_module_version": "1.5.0",
     "model_name": "HTMLModel",
     "state": {
      "_dom_classes": [],
      "_model_module": "@jupyter-widgets/controls",
      "_model_module_version": "1.5.0",
      "_model_name": "HTMLModel",
      "_view_count": null,
      "_view_module": "@jupyter-widgets/controls",
      "_view_module_version": "1.5.0",
      "_view_name": "HTMLView",
      "description": "",
      "description_tooltip": null,
      "layout": "IPY_MODEL_8f20de6b903f40afb518b96b65b40d8f",
      "placeholder": "​",
      "style": "IPY_MODEL_74e212a436dd4414b2ae62cc3852d4f2",
      "value": " 213k/213k [00:00&lt;00:00, 2.11MB/s]"
     }
    },
    "4c1610e9d94e4283bc5e463627b5736a": {
     "model_module": "@jupyter-widgets/controls",
     "model_module_version": "1.5.0",
     "model_name": "DescriptionStyleModel",
     "state": {
      "_model_module": "@jupyter-widgets/controls",
      "_model_module_version": "1.5.0",
      "_model_name": "DescriptionStyleModel",
      "_view_count": null,
      "_view_module": "@jupyter-widgets/base",
      "_view_module_version": "1.2.0",
      "_view_name": "StyleView",
      "description_width": ""
     }
    },
    "54e39c1fe5b9428aa12e34b8565b8158": {
     "model_module": "@jupyter-widgets/controls",
     "model_module_version": "1.5.0",
     "model_name": "HTMLModel",
     "state": {
      "_dom_classes": [],
      "_model_module": "@jupyter-widgets/controls",
      "_model_module_version": "1.5.0",
      "_model_name": "HTMLModel",
      "_view_count": null,
      "_view_module": "@jupyter-widgets/controls",
      "_view_module_version": "1.5.0",
      "_view_name": "HTMLView",
      "description": "",
      "description_tooltip": null,
      "layout": "IPY_MODEL_c3b7a08ab3194acfa74ab12b72e02d8b",
      "placeholder": "​",
      "style": "IPY_MODEL_9593cdbdb7ec4dfe9d960cbd7099c3fa",
      "value": "Downloading: 100%"
     }
    },
    "5845cd642cf4433081efff7f209808d2": {
     "model_module": "@jupyter-widgets/base",
     "model_module_version": "1.2.0",
     "model_name": "LayoutModel",
     "state": {
      "_model_module": "@jupyter-widgets/base",
      "_model_module_version": "1.2.0",
      "_model_name": "LayoutModel",
      "_view_count": null,
      "_view_module": "@jupyter-widgets/base",
      "_view_module_version": "1.2.0",
      "_view_name": "LayoutView",
      "align_content": null,
      "align_items": null,
      "align_self": null,
      "border": null,
      "bottom": null,
      "display": null,
      "flex": null,
      "flex_flow": null,
      "grid_area": null,
      "grid_auto_columns": null,
      "grid_auto_flow": null,
      "grid_auto_rows": null,
      "grid_column": null,
      "grid_gap": null,
      "grid_row": null,
      "grid_template_areas": null,
      "grid_template_columns": null,
      "grid_template_rows": null,
      "height": null,
      "justify_content": null,
      "justify_items": null,
      "left": null,
      "margin": null,
      "max_height": null,
      "max_width": null,
      "min_height": null,
      "min_width": null,
      "object_fit": null,
      "object_position": null,
      "order": null,
      "overflow": null,
      "overflow_x": null,
      "overflow_y": null,
      "padding": null,
      "right": null,
      "top": null,
      "visibility": null,
      "width": null
     }
    },
    "5e28c5bf84b84ea59c8dc458fe723a9e": {
     "model_module": "@jupyter-widgets/controls",
     "model_module_version": "1.5.0",
     "model_name": "FloatProgressModel",
     "state": {
      "_dom_classes": [],
      "_model_module": "@jupyter-widgets/controls",
      "_model_module_version": "1.5.0",
      "_model_name": "FloatProgressModel",
      "_view_count": null,
      "_view_module": "@jupyter-widgets/controls",
      "_view_module_version": "1.5.0",
      "_view_name": "ProgressView",
      "bar_style": "success",
      "description": "",
      "description_tooltip": null,
      "layout": "IPY_MODEL_5845cd642cf4433081efff7f209808d2",
      "max": 213450,
      "min": 0,
      "orientation": "horizontal",
      "style": "IPY_MODEL_c76f6c1cd95143dfaf5f42ffc144039e",
      "value": 213450
     }
    },
    "60935cebe67d45dc962ddffbb641d083": {
     "model_module": "@jupyter-widgets/controls",
     "model_module_version": "1.5.0",
     "model_name": "FloatProgressModel",
     "state": {
      "_dom_classes": [],
      "_model_module": "@jupyter-widgets/controls",
      "_model_module_version": "1.5.0",
      "_model_name": "FloatProgressModel",
      "_view_count": null,
      "_view_module": "@jupyter-widgets/controls",
      "_view_module_version": "1.5.0",
      "_view_name": "ProgressView",
      "bar_style": "success",
      "description": "",
      "description_tooltip": null,
      "layout": "IPY_MODEL_6ba7fd73493041afab9de86f9462f1d3",
      "max": 29,
      "min": 0,
      "orientation": "horizontal",
      "style": "IPY_MODEL_13a3bdf22b444af9a1a2c2b02e7eb4b1",
      "value": 29
     }
    },
    "6111ab477f514fe89992bcef9ebc8d4d": {
     "model_module": "@jupyter-widgets/base",
     "model_module_version": "1.2.0",
     "model_name": "LayoutModel",
     "state": {
      "_model_module": "@jupyter-widgets/base",
      "_model_module_version": "1.2.0",
      "_model_name": "LayoutModel",
      "_view_count": null,
      "_view_module": "@jupyter-widgets/base",
      "_view_module_version": "1.2.0",
      "_view_name": "LayoutView",
      "align_content": null,
      "align_items": null,
      "align_self": null,
      "border": null,
      "bottom": null,
      "display": null,
      "flex": null,
      "flex_flow": null,
      "grid_area": null,
      "grid_auto_columns": null,
      "grid_auto_flow": null,
      "grid_auto_rows": null,
      "grid_column": null,
      "grid_gap": null,
      "grid_row": null,
      "grid_template_areas": null,
      "grid_template_columns": null,
      "grid_template_rows": null,
      "height": null,
      "justify_content": null,
      "justify_items": null,
      "left": null,
      "margin": null,
      "max_height": null,
      "max_width": null,
      "min_height": null,
      "min_width": null,
      "object_fit": null,
      "object_position": null,
      "order": null,
      "overflow": null,
      "overflow_x": null,
      "overflow_y": null,
      "padding": null,
      "right": null,
      "top": null,
      "visibility": null,
      "width": null
     }
    },
    "62492820c80a4a119e878ccbdc3f695f": {
     "model_module": "@jupyter-widgets/controls",
     "model_module_version": "1.5.0",
     "model_name": "DescriptionStyleModel",
     "state": {
      "_model_module": "@jupyter-widgets/controls",
      "_model_module_version": "1.5.0",
      "_model_name": "DescriptionStyleModel",
      "_view_count": null,
      "_view_module": "@jupyter-widgets/base",
      "_view_module_version": "1.2.0",
      "_view_name": "StyleView",
      "description_width": ""
     }
    },
    "62b0164b14304a9495f07c17f47b7f50": {
     "model_module": "@jupyter-widgets/base",
     "model_module_version": "1.2.0",
     "model_name": "LayoutModel",
     "state": {
      "_model_module": "@jupyter-widgets/base",
      "_model_module_version": "1.2.0",
      "_model_name": "LayoutModel",
      "_view_count": null,
      "_view_module": "@jupyter-widgets/base",
      "_view_module_version": "1.2.0",
      "_view_name": "LayoutView",
      "align_content": null,
      "align_items": null,
      "align_self": null,
      "border": null,
      "bottom": null,
      "display": null,
      "flex": null,
      "flex_flow": null,
      "grid_area": null,
      "grid_auto_columns": null,
      "grid_auto_flow": null,
      "grid_auto_rows": null,
      "grid_column": null,
      "grid_gap": null,
      "grid_row": null,
      "grid_template_areas": null,
      "grid_template_columns": null,
      "grid_template_rows": null,
      "height": null,
      "justify_content": null,
      "justify_items": null,
      "left": null,
      "margin": null,
      "max_height": null,
      "max_width": null,
      "min_height": null,
      "min_width": null,
      "object_fit": null,
      "object_position": null,
      "order": null,
      "overflow": null,
      "overflow_x": null,
      "overflow_y": null,
      "padding": null,
      "right": null,
      "top": null,
      "visibility": null,
      "width": null
     }
    },
    "644f6ad2df084da892975a2f739263ed": {
     "model_module": "@jupyter-widgets/base",
     "model_module_version": "1.2.0",
     "model_name": "LayoutModel",
     "state": {
      "_model_module": "@jupyter-widgets/base",
      "_model_module_version": "1.2.0",
      "_model_name": "LayoutModel",
      "_view_count": null,
      "_view_module": "@jupyter-widgets/base",
      "_view_module_version": "1.2.0",
      "_view_name": "LayoutView",
      "align_content": null,
      "align_items": null,
      "align_self": null,
      "border": null,
      "bottom": null,
      "display": null,
      "flex": null,
      "flex_flow": null,
      "grid_area": null,
      "grid_auto_columns": null,
      "grid_auto_flow": null,
      "grid_auto_rows": null,
      "grid_column": null,
      "grid_gap": null,
      "grid_row": null,
      "grid_template_areas": null,
      "grid_template_columns": null,
      "grid_template_rows": null,
      "height": null,
      "justify_content": null,
      "justify_items": null,
      "left": null,
      "margin": null,
      "max_height": null,
      "max_width": null,
      "min_height": null,
      "min_width": null,
      "object_fit": null,
      "object_position": null,
      "order": null,
      "overflow": null,
      "overflow_x": null,
      "overflow_y": null,
      "padding": null,
      "right": null,
      "top": null,
      "visibility": null,
      "width": null
     }
    },
    "64adf08b5a154af7bd53b4980952da78": {
     "model_module": "@jupyter-widgets/base",
     "model_module_version": "1.2.0",
     "model_name": "LayoutModel",
     "state": {
      "_model_module": "@jupyter-widgets/base",
      "_model_module_version": "1.2.0",
      "_model_name": "LayoutModel",
      "_view_count": null,
      "_view_module": "@jupyter-widgets/base",
      "_view_module_version": "1.2.0",
      "_view_name": "LayoutView",
      "align_content": null,
      "align_items": null,
      "align_self": null,
      "border": null,
      "bottom": null,
      "display": null,
      "flex": null,
      "flex_flow": null,
      "grid_area": null,
      "grid_auto_columns": null,
      "grid_auto_flow": null,
      "grid_auto_rows": null,
      "grid_column": null,
      "grid_gap": null,
      "grid_row": null,
      "grid_template_areas": null,
      "grid_template_columns": null,
      "grid_template_rows": null,
      "height": null,
      "justify_content": null,
      "justify_items": null,
      "left": null,
      "margin": null,
      "max_height": null,
      "max_width": null,
      "min_height": null,
      "min_width": null,
      "object_fit": null,
      "object_position": null,
      "order": null,
      "overflow": null,
      "overflow_x": null,
      "overflow_y": null,
      "padding": null,
      "right": null,
      "top": null,
      "visibility": null,
      "width": null
     }
    },
    "6ba7fd73493041afab9de86f9462f1d3": {
     "model_module": "@jupyter-widgets/base",
     "model_module_version": "1.2.0",
     "model_name": "LayoutModel",
     "state": {
      "_model_module": "@jupyter-widgets/base",
      "_model_module_version": "1.2.0",
      "_model_name": "LayoutModel",
      "_view_count": null,
      "_view_module": "@jupyter-widgets/base",
      "_view_module_version": "1.2.0",
      "_view_name": "LayoutView",
      "align_content": null,
      "align_items": null,
      "align_self": null,
      "border": null,
      "bottom": null,
      "display": null,
      "flex": null,
      "flex_flow": null,
      "grid_area": null,
      "grid_auto_columns": null,
      "grid_auto_flow": null,
      "grid_auto_rows": null,
      "grid_column": null,
      "grid_gap": null,
      "grid_row": null,
      "grid_template_areas": null,
      "grid_template_columns": null,
      "grid_template_rows": null,
      "height": null,
      "justify_content": null,
      "justify_items": null,
      "left": null,
      "margin": null,
      "max_height": null,
      "max_width": null,
      "min_height": null,
      "min_width": null,
      "object_fit": null,
      "object_position": null,
      "order": null,
      "overflow": null,
      "overflow_x": null,
      "overflow_y": null,
      "padding": null,
      "right": null,
      "top": null,
      "visibility": null,
      "width": null
     }
    },
    "74e212a436dd4414b2ae62cc3852d4f2": {
     "model_module": "@jupyter-widgets/controls",
     "model_module_version": "1.5.0",
     "model_name": "DescriptionStyleModel",
     "state": {
      "_model_module": "@jupyter-widgets/controls",
      "_model_module_version": "1.5.0",
      "_model_name": "DescriptionStyleModel",
      "_view_count": null,
      "_view_module": "@jupyter-widgets/base",
      "_view_module_version": "1.2.0",
      "_view_name": "StyleView",
      "description_width": ""
     }
    },
    "7697471fbe1b48478466050e2db5368a": {
     "model_module": "@jupyter-widgets/controls",
     "model_module_version": "1.5.0",
     "model_name": "DescriptionStyleModel",
     "state": {
      "_model_module": "@jupyter-widgets/controls",
      "_model_module_version": "1.5.0",
      "_model_name": "DescriptionStyleModel",
      "_view_count": null,
      "_view_module": "@jupyter-widgets/base",
      "_view_module_version": "1.2.0",
      "_view_name": "StyleView",
      "description_width": ""
     }
    },
    "7ae21a5a52504743ad27b41f39a5a4f1": {
     "model_module": "@jupyter-widgets/base",
     "model_module_version": "1.2.0",
     "model_name": "LayoutModel",
     "state": {
      "_model_module": "@jupyter-widgets/base",
      "_model_module_version": "1.2.0",
      "_model_name": "LayoutModel",
      "_view_count": null,
      "_view_module": "@jupyter-widgets/base",
      "_view_module_version": "1.2.0",
      "_view_name": "LayoutView",
      "align_content": null,
      "align_items": null,
      "align_self": null,
      "border": null,
      "bottom": null,
      "display": null,
      "flex": null,
      "flex_flow": null,
      "grid_area": null,
      "grid_auto_columns": null,
      "grid_auto_flow": null,
      "grid_auto_rows": null,
      "grid_column": null,
      "grid_gap": null,
      "grid_row": null,
      "grid_template_areas": null,
      "grid_template_columns": null,
      "grid_template_rows": null,
      "height": null,
      "justify_content": null,
      "justify_items": null,
      "left": null,
      "margin": null,
      "max_height": null,
      "max_width": null,
      "min_height": null,
      "min_width": null,
      "object_fit": null,
      "object_position": null,
      "order": null,
      "overflow": null,
      "overflow_x": null,
      "overflow_y": null,
      "padding": null,
      "right": null,
      "top": null,
      "visibility": null,
      "width": null
     }
    },
    "7bdd5df36d5741f2b0f336f7f4695622": {
     "model_module": "@jupyter-widgets/controls",
     "model_module_version": "1.5.0",
     "model_name": "HTMLModel",
     "state": {
      "_dom_classes": [],
      "_model_module": "@jupyter-widgets/controls",
      "_model_module_version": "1.5.0",
      "_model_name": "HTMLModel",
      "_view_count": null,
      "_view_module": "@jupyter-widgets/controls",
      "_view_module_version": "1.5.0",
      "_view_name": "HTMLView",
      "description": "",
      "description_tooltip": null,
      "layout": "IPY_MODEL_ef527cbb0d0c448397c64d67d6b9f4fd",
      "placeholder": "​",
      "style": "IPY_MODEL_7697471fbe1b48478466050e2db5368a",
      "value": "Downloading builder script: "
     }
    },
    "86992c692ae4429e99c59ca0bc3d7a09": {
     "model_module": "@jupyter-widgets/controls",
     "model_module_version": "1.5.0",
     "model_name": "HTMLModel",
     "state": {
      "_dom_classes": [],
      "_model_module": "@jupyter-widgets/controls",
      "_model_module_version": "1.5.0",
      "_model_name": "HTMLModel",
      "_view_count": null,
      "_view_module": "@jupyter-widgets/controls",
      "_view_module_version": "1.5.0",
      "_view_name": "HTMLView",
      "description": "",
      "description_tooltip": null,
      "layout": "IPY_MODEL_fbce219a34a04e3eb7614e6bd40273ca",
      "placeholder": "​",
      "style": "IPY_MODEL_44b152e4b513465c9374f7f65cfe165e",
      "value": " 263M/263M [00:08&lt;00:00, 50.4MB/s]"
     }
    },
    "87765c6258d14e26ac9bfbe25a7647ab": {
     "model_module": "@jupyter-widgets/controls",
     "model_module_version": "1.5.0",
     "model_name": "HTMLModel",
     "state": {
      "_dom_classes": [],
      "_model_module": "@jupyter-widgets/controls",
      "_model_module_version": "1.5.0",
      "_model_name": "HTMLModel",
      "_view_count": null,
      "_view_module": "@jupyter-widgets/controls",
      "_view_module_version": "1.5.0",
      "_view_name": "HTMLView",
      "description": "",
      "description_tooltip": null,
      "layout": "IPY_MODEL_7ae21a5a52504743ad27b41f39a5a4f1",
      "placeholder": "​",
      "style": "IPY_MODEL_4c1610e9d94e4283bc5e463627b5736a",
      "value": " 436k/436k [00:00&lt;00:00, 1.56MB/s]"
     }
    },
    "8c810c1d771a4510b4231c61ccaa97b3": {
     "model_module": "@jupyter-widgets/controls",
     "model_module_version": "1.5.0",
     "model_name": "HTMLModel",
     "state": {
      "_dom_classes": [],
      "_model_module": "@jupyter-widgets/controls",
      "_model_module_version": "1.5.0",
      "_model_name": "HTMLModel",
      "_view_count": null,
      "_view_module": "@jupyter-widgets/controls",
      "_view_module_version": "1.5.0",
      "_view_name": "HTMLView",
      "description": "",
      "description_tooltip": null,
      "layout": "IPY_MODEL_64adf08b5a154af7bd53b4980952da78",
      "placeholder": "​",
      "style": "IPY_MODEL_fcfb28441de7496ca51bf301902ffabb",
      "value": "Downloading: 100%"
     }
    },
    "8f20de6b903f40afb518b96b65b40d8f": {
     "model_module": "@jupyter-widgets/base",
     "model_module_version": "1.2.0",
     "model_name": "LayoutModel",
     "state": {
      "_model_module": "@jupyter-widgets/base",
      "_model_module_version": "1.2.0",
      "_model_name": "LayoutModel",
      "_view_count": null,
      "_view_module": "@jupyter-widgets/base",
      "_view_module_version": "1.2.0",
      "_view_name": "LayoutView",
      "align_content": null,
      "align_items": null,
      "align_self": null,
      "border": null,
      "bottom": null,
      "display": null,
      "flex": null,
      "flex_flow": null,
      "grid_area": null,
      "grid_auto_columns": null,
      "grid_auto_flow": null,
      "grid_auto_rows": null,
      "grid_column": null,
      "grid_gap": null,
      "grid_row": null,
      "grid_template_areas": null,
      "grid_template_columns": null,
      "grid_template_rows": null,
      "height": null,
      "justify_content": null,
      "justify_items": null,
      "left": null,
      "margin": null,
      "max_height": null,
      "max_width": null,
      "min_height": null,
      "min_width": null,
      "object_fit": null,
      "object_position": null,
      "order": null,
      "overflow": null,
      "overflow_x": null,
      "overflow_y": null,
      "padding": null,
      "right": null,
      "top": null,
      "visibility": null,
      "width": null
     }
    },
    "9179afd6fabf452abc5b2d918d944f31": {
     "model_module": "@jupyter-widgets/controls",
     "model_module_version": "1.5.0",
     "model_name": "DescriptionStyleModel",
     "state": {
      "_model_module": "@jupyter-widgets/controls",
      "_model_module_version": "1.5.0",
      "_model_name": "DescriptionStyleModel",
      "_view_count": null,
      "_view_module": "@jupyter-widgets/base",
      "_view_module_version": "1.2.0",
      "_view_name": "StyleView",
      "description_width": ""
     }
    },
    "9593cdbdb7ec4dfe9d960cbd7099c3fa": {
     "model_module": "@jupyter-widgets/controls",
     "model_module_version": "1.5.0",
     "model_name": "DescriptionStyleModel",
     "state": {
      "_model_module": "@jupyter-widgets/controls",
      "_model_module_version": "1.5.0",
      "_model_name": "DescriptionStyleModel",
      "_view_count": null,
      "_view_module": "@jupyter-widgets/base",
      "_view_module_version": "1.2.0",
      "_view_name": "StyleView",
      "description_width": ""
     }
    },
    "9821f8dd5a664aeeaa6abd6c3c36ff45": {
     "model_module": "@jupyter-widgets/controls",
     "model_module_version": "1.5.0",
     "model_name": "FloatProgressModel",
     "state": {
      "_dom_classes": [],
      "_model_module": "@jupyter-widgets/controls",
      "_model_module_version": "1.5.0",
      "_model_name": "FloatProgressModel",
      "_view_count": null,
      "_view_module": "@jupyter-widgets/controls",
      "_view_module_version": "1.5.0",
      "_view_name": "ProgressView",
      "bar_style": "success",
      "description": "",
      "description_tooltip": null,
      "layout": "IPY_MODEL_6111ab477f514fe89992bcef9ebc8d4d",
      "max": 411,
      "min": 0,
      "orientation": "horizontal",
      "style": "IPY_MODEL_1f96f58d0da24c49acd9ee6f30b3d272",
      "value": 411
     }
    },
    "98afd1d2afa44ea3a430cc246606ad4c": {
     "model_module": "@jupyter-widgets/controls",
     "model_module_version": "1.5.0",
     "model_name": "HBoxModel",
     "state": {
      "_dom_classes": [],
      "_model_module": "@jupyter-widgets/controls",
      "_model_module_version": "1.5.0",
      "_model_name": "HBoxModel",
      "_view_count": null,
      "_view_module": "@jupyter-widgets/controls",
      "_view_module_version": "1.5.0",
      "_view_name": "HBoxView",
      "box_style": "",
      "children": [
       "IPY_MODEL_54e39c1fe5b9428aa12e34b8565b8158",
       "IPY_MODEL_05c976fae8a848bcb0637a7374490f20",
       "IPY_MODEL_87765c6258d14e26ac9bfbe25a7647ab"
      ],
      "layout": "IPY_MODEL_d95c52a42e7046b097754442b9ccffde"
     }
    },
    "b6407771f446473e8b8fe946874a7115": {
     "model_module": "@jupyter-widgets/controls",
     "model_module_version": "1.5.0",
     "model_name": "HBoxModel",
     "state": {
      "_dom_classes": [],
      "_model_module": "@jupyter-widgets/controls",
      "_model_module_version": "1.5.0",
      "_model_name": "HBoxModel",
      "_view_count": null,
      "_view_module": "@jupyter-widgets/controls",
      "_view_module_version": "1.5.0",
      "_view_name": "HBoxView",
      "box_style": "",
      "children": [
       "IPY_MODEL_8c810c1d771a4510b4231c61ccaa97b3",
       "IPY_MODEL_c9f6d56fb67f4bfeb906b594ebc52c9e",
       "IPY_MODEL_86992c692ae4429e99c59ca0bc3d7a09"
      ],
      "layout": "IPY_MODEL_2beced093e944009a0e4b036551a53f3"
     }
    },
    "b667a2be670f47bfa4c7c3f33998f806": {
     "model_module": "@jupyter-widgets/controls",
     "model_module_version": "1.5.0",
     "model_name": "DescriptionStyleModel",
     "state": {
      "_model_module": "@jupyter-widgets/controls",
      "_model_module_version": "1.5.0",
      "_model_name": "DescriptionStyleModel",
      "_view_count": null,
      "_view_module": "@jupyter-widgets/base",
      "_view_module_version": "1.2.0",
      "_view_name": "StyleView",
      "description_width": ""
     }
    },
    "b960ff282fb1417387d24cfbeeb6b9f4": {
     "model_module": "@jupyter-widgets/base",
     "model_module_version": "1.2.0",
     "model_name": "LayoutModel",
     "state": {
      "_model_module": "@jupyter-widgets/base",
      "_model_module_version": "1.2.0",
      "_model_name": "LayoutModel",
      "_view_count": null,
      "_view_module": "@jupyter-widgets/base",
      "_view_module_version": "1.2.0",
      "_view_name": "LayoutView",
      "align_content": null,
      "align_items": null,
      "align_self": null,
      "border": null,
      "bottom": null,
      "display": null,
      "flex": null,
      "flex_flow": null,
      "grid_area": null,
      "grid_auto_columns": null,
      "grid_auto_flow": null,
      "grid_auto_rows": null,
      "grid_column": null,
      "grid_gap": null,
      "grid_row": null,
      "grid_template_areas": null,
      "grid_template_columns": null,
      "grid_template_rows": null,
      "height": null,
      "justify_content": null,
      "justify_items": null,
      "left": null,
      "margin": null,
      "max_height": null,
      "max_width": null,
      "min_height": null,
      "min_width": null,
      "object_fit": null,
      "object_position": null,
      "order": null,
      "overflow": null,
      "overflow_x": null,
      "overflow_y": null,
      "padding": null,
      "right": null,
      "top": null,
      "visibility": null,
      "width": null
     }
    },
    "bd095a3fce764a3ea20c6b0b250abad9": {
     "model_module": "@jupyter-widgets/controls",
     "model_module_version": "1.5.0",
     "model_name": "HBoxModel",
     "state": {
      "_dom_classes": [],
      "_model_module": "@jupyter-widgets/controls",
      "_model_module_version": "1.5.0",
      "_model_name": "HBoxModel",
      "_view_count": null,
      "_view_module": "@jupyter-widgets/controls",
      "_view_module_version": "1.5.0",
      "_view_name": "HBoxView",
      "box_style": "",
      "children": [
       "IPY_MODEL_24b5a54b0ab94ab7aba1d2cb870001d7",
       "IPY_MODEL_9821f8dd5a664aeeaa6abd6c3c36ff45",
       "IPY_MODEL_1d59e53a9ddd4bbe9ca6f37ca5a05996"
      ],
      "layout": "IPY_MODEL_0c390d3d1b4b4b2196b894d935965c39"
     }
    },
    "c284ed0f608e459b9dac25464244725c": {
     "model_module": "@jupyter-widgets/base",
     "model_module_version": "1.2.0",
     "model_name": "LayoutModel",
     "state": {
      "_model_module": "@jupyter-widgets/base",
      "_model_module_version": "1.2.0",
      "_model_name": "LayoutModel",
      "_view_count": null,
      "_view_module": "@jupyter-widgets/base",
      "_view_module_version": "1.2.0",
      "_view_name": "LayoutView",
      "align_content": null,
      "align_items": null,
      "align_self": null,
      "border": null,
      "bottom": null,
      "display": null,
      "flex": null,
      "flex_flow": null,
      "grid_area": null,
      "grid_auto_columns": null,
      "grid_auto_flow": null,
      "grid_auto_rows": null,
      "grid_column": null,
      "grid_gap": null,
      "grid_row": null,
      "grid_template_areas": null,
      "grid_template_columns": null,
      "grid_template_rows": null,
      "height": null,
      "justify_content": null,
      "justify_items": null,
      "left": null,
      "margin": null,
      "max_height": null,
      "max_width": null,
      "min_height": null,
      "min_width": null,
      "object_fit": null,
      "object_position": null,
      "order": null,
      "overflow": null,
      "overflow_x": null,
      "overflow_y": null,
      "padding": null,
      "right": null,
      "top": null,
      "visibility": null,
      "width": null
     }
    },
    "c3b7a08ab3194acfa74ab12b72e02d8b": {
     "model_module": "@jupyter-widgets/base",
     "model_module_version": "1.2.0",
     "model_name": "LayoutModel",
     "state": {
      "_model_module": "@jupyter-widgets/base",
      "_model_module_version": "1.2.0",
      "_model_name": "LayoutModel",
      "_view_count": null,
      "_view_module": "@jupyter-widgets/base",
      "_view_module_version": "1.2.0",
      "_view_name": "LayoutView",
      "align_content": null,
      "align_items": null,
      "align_self": null,
      "border": null,
      "bottom": null,
      "display": null,
      "flex": null,
      "flex_flow": null,
      "grid_area": null,
      "grid_auto_columns": null,
      "grid_auto_flow": null,
      "grid_auto_rows": null,
      "grid_column": null,
      "grid_gap": null,
      "grid_row": null,
      "grid_template_areas": null,
      "grid_template_columns": null,
      "grid_template_rows": null,
      "height": null,
      "justify_content": null,
      "justify_items": null,
      "left": null,
      "margin": null,
      "max_height": null,
      "max_width": null,
      "min_height": null,
      "min_width": null,
      "object_fit": null,
      "object_position": null,
      "order": null,
      "overflow": null,
      "overflow_x": null,
      "overflow_y": null,
      "padding": null,
      "right": null,
      "top": null,
      "visibility": null,
      "width": null
     }
    },
    "c60762cd934c490aa78b05d2a1c252a3": {
     "model_module": "@jupyter-widgets/base",
     "model_module_version": "1.2.0",
     "model_name": "LayoutModel",
     "state": {
      "_model_module": "@jupyter-widgets/base",
      "_model_module_version": "1.2.0",
      "_model_name": "LayoutModel",
      "_view_count": null,
      "_view_module": "@jupyter-widgets/base",
      "_view_module_version": "1.2.0",
      "_view_name": "LayoutView",
      "align_content": null,
      "align_items": null,
      "align_self": null,
      "border": null,
      "bottom": null,
      "display": null,
      "flex": null,
      "flex_flow": null,
      "grid_area": null,
      "grid_auto_columns": null,
      "grid_auto_flow": null,
      "grid_auto_rows": null,
      "grid_column": null,
      "grid_gap": null,
      "grid_row": null,
      "grid_template_areas": null,
      "grid_template_columns": null,
      "grid_template_rows": null,
      "height": null,
      "justify_content": null,
      "justify_items": null,
      "left": null,
      "margin": null,
      "max_height": null,
      "max_width": null,
      "min_height": null,
      "min_width": null,
      "object_fit": null,
      "object_position": null,
      "order": null,
      "overflow": null,
      "overflow_x": null,
      "overflow_y": null,
      "padding": null,
      "right": null,
      "top": null,
      "visibility": null,
      "width": null
     }
    },
    "c76f6c1cd95143dfaf5f42ffc144039e": {
     "model_module": "@jupyter-widgets/controls",
     "model_module_version": "1.5.0",
     "model_name": "ProgressStyleModel",
     "state": {
      "_model_module": "@jupyter-widgets/controls",
      "_model_module_version": "1.5.0",
      "_model_name": "ProgressStyleModel",
      "_view_count": null,
      "_view_module": "@jupyter-widgets/base",
      "_view_module_version": "1.2.0",
      "_view_name": "StyleView",
      "bar_color": null,
      "description_width": ""
     }
    },
    "c8713ea280bd48cc9e5ecfc4c397f0bf": {
     "model_module": "@jupyter-widgets/controls",
     "model_module_version": "1.5.0",
     "model_name": "DescriptionStyleModel",
     "state": {
      "_model_module": "@jupyter-widgets/controls",
      "_model_module_version": "1.5.0",
      "_model_name": "DescriptionStyleModel",
      "_view_count": null,
      "_view_module": "@jupyter-widgets/base",
      "_view_module_version": "1.2.0",
      "_view_name": "StyleView",
      "description_width": ""
     }
    },
    "c9f6d56fb67f4bfeb906b594ebc52c9e": {
     "model_module": "@jupyter-widgets/controls",
     "model_module_version": "1.5.0",
     "model_name": "FloatProgressModel",
     "state": {
      "_dom_classes": [],
      "_model_module": "@jupyter-widgets/controls",
      "_model_module_version": "1.5.0",
      "_model_name": "FloatProgressModel",
      "_view_count": null,
      "_view_module": "@jupyter-widgets/controls",
      "_view_module_version": "1.5.0",
      "_view_name": "ProgressView",
      "bar_style": "success",
      "description": "",
      "description_tooltip": null,
      "layout": "IPY_MODEL_1a2246a23f1f42a1be52f6b03b0f1544",
      "max": 263273408,
      "min": 0,
      "orientation": "horizontal",
      "style": "IPY_MODEL_db4c470e9f774727b4520cd938ae763a",
      "value": 263273408
     }
    },
    "cae951b46ac74967b889f589bfcc7f22": {
     "model_module": "@jupyter-widgets/controls",
     "model_module_version": "1.5.0",
     "model_name": "ProgressStyleModel",
     "state": {
      "_model_module": "@jupyter-widgets/controls",
      "_model_module_version": "1.5.0",
      "_model_name": "ProgressStyleModel",
      "_view_count": null,
      "_view_module": "@jupyter-widgets/base",
      "_view_module_version": "1.2.0",
      "_view_name": "StyleView",
      "bar_color": null,
      "description_width": ""
     }
    },
    "d30f058aa27a4203ace2ca01f03172e4": {
     "model_module": "@jupyter-widgets/controls",
     "model_module_version": "1.5.0",
     "model_name": "FloatProgressModel",
     "state": {
      "_dom_classes": [],
      "_model_module": "@jupyter-widgets/controls",
      "_model_module_version": "1.5.0",
      "_model_name": "FloatProgressModel",
      "_view_count": null,
      "_view_module": "@jupyter-widgets/controls",
      "_view_module_version": "1.5.0",
      "_view_name": "ProgressView",
      "bar_style": "success",
      "description": "",
      "description_tooltip": null,
      "layout": "IPY_MODEL_1a2a6efe52db442c8ac89f7ec8cdf6eb",
      "max": 2472,
      "min": 0,
      "orientation": "horizontal",
      "style": "IPY_MODEL_4609c5565d9c426b873e58f7f513a64f",
      "value": 2472
     }
    },
    "d95c52a42e7046b097754442b9ccffde": {
     "model_module": "@jupyter-widgets/base",
     "model_module_version": "1.2.0",
     "model_name": "LayoutModel",
     "state": {
      "_model_module": "@jupyter-widgets/base",
      "_model_module_version": "1.2.0",
      "_model_name": "LayoutModel",
      "_view_count": null,
      "_view_module": "@jupyter-widgets/base",
      "_view_module_version": "1.2.0",
      "_view_name": "LayoutView",
      "align_content": null,
      "align_items": null,
      "align_self": null,
      "border": null,
      "bottom": null,
      "display": null,
      "flex": null,
      "flex_flow": null,
      "grid_area": null,
      "grid_auto_columns": null,
      "grid_auto_flow": null,
      "grid_auto_rows": null,
      "grid_column": null,
      "grid_gap": null,
      "grid_row": null,
      "grid_template_areas": null,
      "grid_template_columns": null,
      "grid_template_rows": null,
      "height": null,
      "justify_content": null,
      "justify_items": null,
      "left": null,
      "margin": null,
      "max_height": null,
      "max_width": null,
      "min_height": null,
      "min_width": null,
      "object_fit": null,
      "object_position": null,
      "order": null,
      "overflow": null,
      "overflow_x": null,
      "overflow_y": null,
      "padding": null,
      "right": null,
      "top": null,
      "visibility": null,
      "width": null
     }
    },
    "db4c470e9f774727b4520cd938ae763a": {
     "model_module": "@jupyter-widgets/controls",
     "model_module_version": "1.5.0",
     "model_name": "ProgressStyleModel",
     "state": {
      "_model_module": "@jupyter-widgets/controls",
      "_model_module_version": "1.5.0",
      "_model_name": "ProgressStyleModel",
      "_view_count": null,
      "_view_module": "@jupyter-widgets/base",
      "_view_module_version": "1.2.0",
      "_view_name": "StyleView",
      "bar_color": null,
      "description_width": ""
     }
    },
    "e6ac293833fd4f81a7114c76b9707c1b": {
     "model_module": "@jupyter-widgets/controls",
     "model_module_version": "1.5.0",
     "model_name": "HTMLModel",
     "state": {
      "_dom_classes": [],
      "_model_module": "@jupyter-widgets/controls",
      "_model_module_version": "1.5.0",
      "_model_name": "HTMLModel",
      "_view_count": null,
      "_view_module": "@jupyter-widgets/controls",
      "_view_module_version": "1.5.0",
      "_view_name": "HTMLView",
      "description": "",
      "description_tooltip": null,
      "layout": "IPY_MODEL_3bcb62f9402b4a029c0eb9cc38659ab1",
      "placeholder": "​",
      "style": "IPY_MODEL_ffccb9b97da94760bff32364fee3ddba",
      "value": " 6.33k/? [00:00&lt;00:00, 176kB/s]"
     }
    },
    "e8369ca0a30843c499aa8461e8431c39": {
     "model_module": "@jupyter-widgets/controls",
     "model_module_version": "1.5.0",
     "model_name": "HTMLModel",
     "state": {
      "_dom_classes": [],
      "_model_module": "@jupyter-widgets/controls",
      "_model_module_version": "1.5.0",
      "_model_name": "HTMLModel",
      "_view_count": null,
      "_view_module": "@jupyter-widgets/controls",
      "_view_module_version": "1.5.0",
      "_view_name": "HTMLView",
      "description": "",
      "description_tooltip": null,
      "layout": "IPY_MODEL_f89ae77f79024010a4c2885a526170e5",
      "placeholder": "​",
      "style": "IPY_MODEL_9179afd6fabf452abc5b2d918d944f31",
      "value": " 29.0/29.0 [00:00&lt;00:00, 418B/s]"
     }
    },
    "ed7bd0b658b04582827ff4ee75bb1176": {
     "model_module": "@jupyter-widgets/base",
     "model_module_version": "1.2.0",
     "model_name": "LayoutModel",
     "state": {
      "_model_module": "@jupyter-widgets/base",
      "_model_module_version": "1.2.0",
      "_model_name": "LayoutModel",
      "_view_count": null,
      "_view_module": "@jupyter-widgets/base",
      "_view_module_version": "1.2.0",
      "_view_name": "LayoutView",
      "align_content": null,
      "align_items": null,
      "align_self": null,
      "border": null,
      "bottom": null,
      "display": null,
      "flex": null,
      "flex_flow": null,
      "grid_area": null,
      "grid_auto_columns": null,
      "grid_auto_flow": null,
      "grid_auto_rows": null,
      "grid_column": null,
      "grid_gap": null,
      "grid_row": null,
      "grid_template_areas": null,
      "grid_template_columns": null,
      "grid_template_rows": null,
      "height": null,
      "justify_content": null,
      "justify_items": null,
      "left": null,
      "margin": null,
      "max_height": null,
      "max_width": null,
      "min_height": null,
      "min_width": null,
      "object_fit": null,
      "object_position": null,
      "order": null,
      "overflow": null,
      "overflow_x": null,
      "overflow_y": null,
      "padding": null,
      "right": null,
      "top": null,
      "visibility": null,
      "width": null
     }
    },
    "ef527cbb0d0c448397c64d67d6b9f4fd": {
     "model_module": "@jupyter-widgets/base",
     "model_module_version": "1.2.0",
     "model_name": "LayoutModel",
     "state": {
      "_model_module": "@jupyter-widgets/base",
      "_model_module_version": "1.2.0",
      "_model_name": "LayoutModel",
      "_view_count": null,
      "_view_module": "@jupyter-widgets/base",
      "_view_module_version": "1.2.0",
      "_view_name": "LayoutView",
      "align_content": null,
      "align_items": null,
      "align_self": null,
      "border": null,
      "bottom": null,
      "display": null,
      "flex": null,
      "flex_flow": null,
      "grid_area": null,
      "grid_auto_columns": null,
      "grid_auto_flow": null,
      "grid_auto_rows": null,
      "grid_column": null,
      "grid_gap": null,
      "grid_row": null,
      "grid_template_areas": null,
      "grid_template_columns": null,
      "grid_template_rows": null,
      "height": null,
      "justify_content": null,
      "justify_items": null,
      "left": null,
      "margin": null,
      "max_height": null,
      "max_width": null,
      "min_height": null,
      "min_width": null,
      "object_fit": null,
      "object_position": null,
      "order": null,
      "overflow": null,
      "overflow_x": null,
      "overflow_y": null,
      "padding": null,
      "right": null,
      "top": null,
      "visibility": null,
      "width": null
     }
    },
    "f89ae77f79024010a4c2885a526170e5": {
     "model_module": "@jupyter-widgets/base",
     "model_module_version": "1.2.0",
     "model_name": "LayoutModel",
     "state": {
      "_model_module": "@jupyter-widgets/base",
      "_model_module_version": "1.2.0",
      "_model_name": "LayoutModel",
      "_view_count": null,
      "_view_module": "@jupyter-widgets/base",
      "_view_module_version": "1.2.0",
      "_view_name": "LayoutView",
      "align_content": null,
      "align_items": null,
      "align_self": null,
      "border": null,
      "bottom": null,
      "display": null,
      "flex": null,
      "flex_flow": null,
      "grid_area": null,
      "grid_auto_columns": null,
      "grid_auto_flow": null,
      "grid_auto_rows": null,
      "grid_column": null,
      "grid_gap": null,
      "grid_row": null,
      "grid_template_areas": null,
      "grid_template_columns": null,
      "grid_template_rows": null,
      "height": null,
      "justify_content": null,
      "justify_items": null,
      "left": null,
      "margin": null,
      "max_height": null,
      "max_width": null,
      "min_height": null,
      "min_width": null,
      "object_fit": null,
      "object_position": null,
      "order": null,
      "overflow": null,
      "overflow_x": null,
      "overflow_y": null,
      "padding": null,
      "right": null,
      "top": null,
      "visibility": null,
      "width": null
     }
    },
    "f8bf2cab97a247dc8804d2a071b26532": {
     "model_module": "@jupyter-widgets/controls",
     "model_module_version": "1.5.0",
     "model_name": "HBoxModel",
     "state": {
      "_dom_classes": [],
      "_model_module": "@jupyter-widgets/controls",
      "_model_module_version": "1.5.0",
      "_model_name": "HBoxModel",
      "_view_count": null,
      "_view_module": "@jupyter-widgets/controls",
      "_view_module_version": "1.5.0",
      "_view_name": "HBoxView",
      "box_style": "",
      "children": [
       "IPY_MODEL_7bdd5df36d5741f2b0f336f7f4695622",
       "IPY_MODEL_d30f058aa27a4203ace2ca01f03172e4",
       "IPY_MODEL_e6ac293833fd4f81a7114c76b9707c1b"
      ],
      "layout": "IPY_MODEL_c284ed0f608e459b9dac25464244725c"
     }
    },
    "fbce219a34a04e3eb7614e6bd40273ca": {
     "model_module": "@jupyter-widgets/base",
     "model_module_version": "1.2.0",
     "model_name": "LayoutModel",
     "state": {
      "_model_module": "@jupyter-widgets/base",
      "_model_module_version": "1.2.0",
      "_model_name": "LayoutModel",
      "_view_count": null,
      "_view_module": "@jupyter-widgets/base",
      "_view_module_version": "1.2.0",
      "_view_name": "LayoutView",
      "align_content": null,
      "align_items": null,
      "align_self": null,
      "border": null,
      "bottom": null,
      "display": null,
      "flex": null,
      "flex_flow": null,
      "grid_area": null,
      "grid_auto_columns": null,
      "grid_auto_flow": null,
      "grid_auto_rows": null,
      "grid_column": null,
      "grid_gap": null,
      "grid_row": null,
      "grid_template_areas": null,
      "grid_template_columns": null,
      "grid_template_rows": null,
      "height": null,
      "justify_content": null,
      "justify_items": null,
      "left": null,
      "margin": null,
      "max_height": null,
      "max_width": null,
      "min_height": null,
      "min_width": null,
      "object_fit": null,
      "object_position": null,
      "order": null,
      "overflow": null,
      "overflow_x": null,
      "overflow_y": null,
      "padding": null,
      "right": null,
      "top": null,
      "visibility": null,
      "width": null
     }
    },
    "fcfb28441de7496ca51bf301902ffabb": {
     "model_module": "@jupyter-widgets/controls",
     "model_module_version": "1.5.0",
     "model_name": "DescriptionStyleModel",
     "state": {
      "_model_module": "@jupyter-widgets/controls",
      "_model_module_version": "1.5.0",
      "_model_name": "DescriptionStyleModel",
      "_view_count": null,
      "_view_module": "@jupyter-widgets/base",
      "_view_module_version": "1.2.0",
      "_view_name": "StyleView",
      "description_width": ""
     }
    },
    "ffccb9b97da94760bff32364fee3ddba": {
     "model_module": "@jupyter-widgets/controls",
     "model_module_version": "1.5.0",
     "model_name": "DescriptionStyleModel",
     "state": {
      "_model_module": "@jupyter-widgets/controls",
      "_model_module_version": "1.5.0",
      "_model_name": "DescriptionStyleModel",
      "_view_count": null,
      "_view_module": "@jupyter-widgets/base",
      "_view_module_version": "1.2.0",
      "_view_name": "StyleView",
      "description_width": ""
     }
    }
   }
  }
 },
 "nbformat": 4,
 "nbformat_minor": 1
}
